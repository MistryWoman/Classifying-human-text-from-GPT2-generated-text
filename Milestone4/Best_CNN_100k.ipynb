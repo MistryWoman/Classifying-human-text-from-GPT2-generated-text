{
 "cells": [
  {
   "cell_type": "code",
   "execution_count": 0,
   "metadata": {
    "colab": {
     "base_uri": "https://localhost:8080/",
     "height": 124
    },
    "colab_type": "code",
    "id": "pvEg-06BHycP",
    "outputId": "003f3668-1c59-4a35-ec63-b882edb2baeb"
   },
   "outputs": [
    {
     "name": "stdout",
     "output_type": "stream",
     "text": [
      "Go to this URL in a browser: https://accounts.google.com/o/oauth2/auth?client_id=947318989803-6bn6qk8qdgf4n4g3pfee6491hc0brc4i.apps.googleusercontent.com&redirect_uri=urn%3aietf%3awg%3aoauth%3a2.0%3aoob&response_type=code&scope=email%20https%3a%2f%2fwww.googleapis.com%2fauth%2fdocs.test%20https%3a%2f%2fwww.googleapis.com%2fauth%2fdrive%20https%3a%2f%2fwww.googleapis.com%2fauth%2fdrive.photos.readonly%20https%3a%2f%2fwww.googleapis.com%2fauth%2fpeopleapi.readonly\n",
      "\n",
      "Enter your authorization code:\n",
      "··········\n",
      "Mounted at /content/drive\n"
     ]
    }
   ],
   "source": [
    "from google.colab import drive\n",
    "drive.mount('/content/drive')"
   ]
  },
  {
   "cell_type": "code",
   "execution_count": 0,
   "metadata": {
    "colab": {},
    "colab_type": "code",
    "id": "2fGixuwMDwpk"
   },
   "outputs": [],
   "source": [
    "import os\n",
    "import json\n",
    "import pandas as pd\n",
    "import numpy as np\n",
    "from scipy import sparse\n",
    "from sklearn.model_selection import train_test_split\n",
    "from sklearn.model_selection import PredefinedSplit, GridSearchCV\n",
    "from sklearn.linear_model import LogisticRegression\n",
    "from sklearn.feature_extraction.text import TfidfVectorizer\n",
    "import sklearn\n",
    "import torch\n",
    "import torchtext\n",
    "from torchtext.data import Field, LabelField\n",
    "from torchtext.data import TabularDataset\n",
    "from torchtext.data import Iterator, BucketIterator\n",
    "import spacy\n",
    "import en_core_web_sm\n",
    "from torch.utils.data import TensorDataset, DataLoader, RandomSampler, SequentialSampler\n",
    "import torch.nn as nn\n",
    "import torch.nn.functional as F\n",
    "import torch.autograd as autograd\n",
    "from tqdm import tqdm, trange\n",
    "import numpy as np\n",
    "from sklearn.metrics import accuracy_score, f1_score, recall_score, precision_score, classification_report, confusion_matrix\n",
    "import time\n",
    "from collections import Counter\n",
    "\n",
    "path = \"/content/drive/My Drive/Colab Notebooks/data/\"\n"
   ]
  },
  {
   "cell_type": "code",
   "execution_count": 0,
   "metadata": {
    "colab": {
     "base_uri": "https://localhost:8080/",
     "height": 69
    },
    "colab_type": "code",
    "id": "d5z9RPU7P4sS",
    "outputId": "0ac08b56-0280-4984-9045-4007c26c76fa"
   },
   "outputs": [
    {
     "name": "stdout",
     "output_type": "stream",
     "text": [
      "Requirement already up-to-date: torch in /usr/local/lib/python3.6/dist-packages (1.5.0)\n",
      "Requirement already satisfied, skipping upgrade: future in /usr/local/lib/python3.6/dist-packages (from torch) (0.16.0)\n",
      "Requirement already satisfied, skipping upgrade: numpy in /usr/local/lib/python3.6/dist-packages (from torch) (1.18.2)\n"
     ]
    }
   ],
   "source": [
    "#!pip install -U torch"
   ]
  },
  {
   "cell_type": "code",
   "execution_count": 0,
   "metadata": {
    "colab": {
     "base_uri": "https://localhost:8080/",
     "height": 436
    },
    "colab_type": "code",
    "id": "us_0vewlDzgd",
    "outputId": "5492ab31-64f2-4eba-ebf2-15c9b55406d4"
   },
   "outputs": [
    {
     "name": "stdout",
     "output_type": "stream",
     "text": [
      "Requirement already satisfied: en_core_web_sm==2.2.5 from https://github.com/explosion/spacy-models/releases/download/en_core_web_sm-2.2.5/en_core_web_sm-2.2.5.tar.gz#egg=en_core_web_sm==2.2.5 in /usr/local/lib/python3.6/dist-packages (2.2.5)\n",
      "Requirement already satisfied: spacy>=2.2.2 in /usr/local/lib/python3.6/dist-packages (from en_core_web_sm==2.2.5) (2.2.4)\n",
      "Requirement already satisfied: blis<0.5.0,>=0.4.0 in /usr/local/lib/python3.6/dist-packages (from spacy>=2.2.2->en_core_web_sm==2.2.5) (0.4.1)\n",
      "Requirement already satisfied: requests<3.0.0,>=2.13.0 in /usr/local/lib/python3.6/dist-packages (from spacy>=2.2.2->en_core_web_sm==2.2.5) (2.21.0)\n",
      "Requirement already satisfied: catalogue<1.1.0,>=0.0.7 in /usr/local/lib/python3.6/dist-packages (from spacy>=2.2.2->en_core_web_sm==2.2.5) (1.0.0)\n",
      "Requirement already satisfied: tqdm<5.0.0,>=4.38.0 in /usr/local/lib/python3.6/dist-packages (from spacy>=2.2.2->en_core_web_sm==2.2.5) (4.38.0)\n",
      "Requirement already satisfied: wasabi<1.1.0,>=0.4.0 in /usr/local/lib/python3.6/dist-packages (from spacy>=2.2.2->en_core_web_sm==2.2.5) (0.6.0)\n",
      "Requirement already satisfied: numpy>=1.15.0 in /usr/local/lib/python3.6/dist-packages (from spacy>=2.2.2->en_core_web_sm==2.2.5) (1.18.2)\n",
      "Requirement already satisfied: thinc==7.4.0 in /usr/local/lib/python3.6/dist-packages (from spacy>=2.2.2->en_core_web_sm==2.2.5) (7.4.0)\n",
      "Requirement already satisfied: murmurhash<1.1.0,>=0.28.0 in /usr/local/lib/python3.6/dist-packages (from spacy>=2.2.2->en_core_web_sm==2.2.5) (1.0.2)\n",
      "Requirement already satisfied: cymem<2.1.0,>=2.0.2 in /usr/local/lib/python3.6/dist-packages (from spacy>=2.2.2->en_core_web_sm==2.2.5) (2.0.3)\n",
      "Requirement already satisfied: srsly<1.1.0,>=1.0.2 in /usr/local/lib/python3.6/dist-packages (from spacy>=2.2.2->en_core_web_sm==2.2.5) (1.0.2)\n",
      "Requirement already satisfied: setuptools in /usr/local/lib/python3.6/dist-packages (from spacy>=2.2.2->en_core_web_sm==2.2.5) (46.1.3)\n",
      "Requirement already satisfied: preshed<3.1.0,>=3.0.2 in /usr/local/lib/python3.6/dist-packages (from spacy>=2.2.2->en_core_web_sm==2.2.5) (3.0.2)\n",
      "Requirement already satisfied: plac<1.2.0,>=0.9.6 in /usr/local/lib/python3.6/dist-packages (from spacy>=2.2.2->en_core_web_sm==2.2.5) (1.1.3)\n",
      "Requirement already satisfied: idna<2.9,>=2.5 in /usr/local/lib/python3.6/dist-packages (from requests<3.0.0,>=2.13.0->spacy>=2.2.2->en_core_web_sm==2.2.5) (2.8)\n",
      "Requirement already satisfied: certifi>=2017.4.17 in /usr/local/lib/python3.6/dist-packages (from requests<3.0.0,>=2.13.0->spacy>=2.2.2->en_core_web_sm==2.2.5) (2020.4.5.1)\n",
      "Requirement already satisfied: urllib3<1.25,>=1.21.1 in /usr/local/lib/python3.6/dist-packages (from requests<3.0.0,>=2.13.0->spacy>=2.2.2->en_core_web_sm==2.2.5) (1.24.3)\n",
      "Requirement already satisfied: chardet<3.1.0,>=3.0.2 in /usr/local/lib/python3.6/dist-packages (from requests<3.0.0,>=2.13.0->spacy>=2.2.2->en_core_web_sm==2.2.5) (3.0.4)\n",
      "Requirement already satisfied: importlib-metadata>=0.20; python_version < \"3.8\" in /usr/local/lib/python3.6/dist-packages (from catalogue<1.1.0,>=0.0.7->spacy>=2.2.2->en_core_web_sm==2.2.5) (1.6.0)\n",
      "Requirement already satisfied: zipp>=0.5 in /usr/local/lib/python3.6/dist-packages (from importlib-metadata>=0.20; python_version < \"3.8\"->catalogue<1.1.0,>=0.0.7->spacy>=2.2.2->en_core_web_sm==2.2.5) (3.1.0)\n",
      "\u001b[38;5;2m✔ Download and installation successful\u001b[0m\n",
      "You can now load the model via spacy.load('en_core_web_sm')\n"
     ]
    }
   ],
   "source": [
    "!python -m spacy download en_core_web_sm"
   ]
  },
  {
   "cell_type": "code",
   "execution_count": 0,
   "metadata": {
    "colab": {
     "base_uri": "https://localhost:8080/",
     "height": 34
    },
    "colab_type": "code",
    "id": "uYh0BzRTDwpu",
    "outputId": "39454507-948c-4601-97ee-0ef5375999d2"
   },
   "outputs": [
    {
     "name": "stdout",
     "output_type": "stream",
     "text": [
      "cuda\n"
     ]
    }
   ],
   "source": [
    "manual_seed = 77\n",
    "torch.manual_seed(manual_seed)\n",
    "device = torch.device(\"cuda\" if torch.cuda.is_available() else \"cpu\")\n",
    "print(device)\n",
    "n_gpu = torch.cuda.device_count()\n",
    "if n_gpu > 0:\n",
    "    torch.cuda.manual_seed(manual_seed)"
   ]
  },
  {
   "cell_type": "markdown",
   "metadata": {
    "colab_type": "text",
    "id": "ZHMsTWXgDwp5"
   },
   "source": [
    "#EDA"
   ]
  },
  {
   "cell_type": "code",
   "execution_count": 0,
   "metadata": {
    "colab": {},
    "colab_type": "code",
    "id": "axp-pCd3Dwp6"
   },
   "outputs": [],
   "source": [
    "# reading in 50k data\n",
    "df = pd.read_csv(path+\"subset_100k.csv\", index_col=0, encoding=\"utf-8\").reset_index(drop=True)\n",
    "# df_shuffled = df.sample(frac=1, random_state=123) #shuffle rows randomly\n",
    "# df_shuffled = df_shuffled.drop(columns=\"index\") #drops index to only keep text and label\n",
    "train, validate, test = np.split(df.sample(frac=1, random_state=123).drop(columns=\"index\"), \n",
    "                                                                          [int(.6*len(df)), int(.8*len(df))])\n",
    "train_texts, train_labels = zip(*train.values) #resulting type is tuples\n",
    "valid_texts, valid_labels = zip(*validate.values)\n",
    "test_texts, test_labels = zip(*test.values)"
   ]
  },
  {
   "cell_type": "code",
   "execution_count": 0,
   "metadata": {
    "colab": {
     "base_uri": "https://localhost:8080/",
     "height": 69
    },
    "colab_type": "code",
    "id": "2APQb4cd6t-z",
    "outputId": "935656fc-7fb3-4afc-f109-f86261f4e082"
   },
   "outputs": [
    {
     "name": "stdout",
     "output_type": "stream",
     "text": [
      "Counter({0: 30118, 1: 29882})\n",
      "Counter({1: 10124, 0: 9876})\n",
      "Counter({0: 10006, 1: 9994})\n"
     ]
    }
   ],
   "source": [
    "#check distribution of shuffled data by class (random state 123)\n",
    "\n",
    "print(Counter(train_labels))\n",
    "print(Counter(valid_labels))\n",
    "print(Counter(test_labels))"
   ]
  },
  {
   "cell_type": "code",
   "execution_count": 0,
   "metadata": {
    "colab": {
     "base_uri": "https://localhost:8080/",
     "height": 156
    },
    "colab_type": "code",
    "id": "Ug6_viDP6t4u",
    "outputId": "fa2a0bf5-8d5b-49f0-8f62-6c95a647d6a6"
   },
   "outputs": [
    {
     "name": "stdout",
     "output_type": "stream",
     "text": [
      "                                                    text  labels\n",
      "42083  MUMBAI: India's star professional boxer and Ol...       0\n",
      "71825  P.S: This may not seem like something that is ...       1\n",
      "99535  This pattern is available\\n\\nThe pattern is fr...       1\n",
      "                                                    text  labels\n",
      "20737  Ohio Gov. John Kasich is continuing his attack...       0\n",
      "37688  This page has been flagged for a review of its...       0\n",
      "83502  An Ottawa family is speaking out after a photo...       1\n"
     ]
    }
   ],
   "source": [
    "print(train[:3])\n",
    "print(train[-3:])"
   ]
  },
  {
   "cell_type": "code",
   "execution_count": 0,
   "metadata": {
    "colab": {
     "base_uri": "https://localhost:8080/",
     "height": 156
    },
    "colab_type": "code",
    "id": "-jscE4_hGNba",
    "outputId": "31251484-6d11-468d-ee4c-e4967bcdf62d"
   },
   "outputs": [
    {
     "name": "stdout",
     "output_type": "stream",
     "text": [
      "                                                    text  labels\n",
      "75082  A recent study has found that children are mor...       1\n",
      "88345  Greetings Friends,\\n\\n\\nI hope everyone is cel...       1\n",
      "95838  The UESPWiki – Your source for The Elder Scrol...       1\n",
      "                                                    text  labels\n",
      "89728  The Washington Post reports this week that the...       1\n",
      "32245  Climate Change Protesters Canceled March in Co...       0\n",
      "4458   When Canadiens general manager Marc Bergevin s...       0\n"
     ]
    }
   ],
   "source": [
    "print(validate[:3])\n",
    "print(validate[-3:])"
   ]
  },
  {
   "cell_type": "code",
   "execution_count": 0,
   "metadata": {
    "colab": {
     "base_uri": "https://localhost:8080/",
     "height": 156
    },
    "colab_type": "code",
    "id": "yxev-MELGNYX",
    "outputId": "66c3944b-45a2-400c-e919-888617363efb"
   },
   "outputs": [
    {
     "name": "stdout",
     "output_type": "stream",
     "text": [
      "                                                    text  labels\n",
      "21563  According to local services' estimates, about ...       0\n",
      "67879  \"I feel extremely lucky that I was at the righ...       1\n",
      "86351  The Department of Homeland Security (DHS) is t...       1\n",
      "                                                    text  labels\n",
      "17730  Just checked into the speaker forum to look fo...       0\n",
      "28030  SHOWCASE ! That Bastard Is Trying To Steal Our...       0\n",
      "15725  Touch Of Malice Check List\\n\\nMausoleum\\n\\n1\\n...       0\n"
     ]
    }
   ],
   "source": [
    "print(test[:3])\n",
    "print(test[-3:])"
   ]
  },
  {
   "cell_type": "code",
   "execution_count": 0,
   "metadata": {
    "colab": {},
    "colab_type": "code",
    "id": "dcIpj5u_GNVt"
   },
   "outputs": [],
   "source": []
  },
  {
   "cell_type": "code",
   "execution_count": 0,
   "metadata": {
    "colab": {},
    "colab_type": "code",
    "id": "PROuds5qDwqB"
   },
   "outputs": [],
   "source": [
    "#create train, val, test subsets from 50k subset\n",
    "\n",
    "# train.to_csv(path+\"subset_50k_train.csv\", index=False)\n",
    "# validate.to_csv(path+\"subset_50k_valid.csv\", index=False)\n",
    "# test.to_csv(path+\"subset_50k_test.csv\", index=False)"
   ]
  },
  {
   "cell_type": "code",
   "execution_count": 0,
   "metadata": {
    "colab": {
     "base_uri": "https://localhost:8080/",
     "height": 121
    },
    "colab_type": "code",
    "id": "WwCrAhh-DwqT",
    "outputId": "e6abe548-c5f9-4cc8-c516-01954490c0e2",
    "scrolled": true
   },
   "outputs": [
    {
     "name": "stdout",
     "output_type": "stream",
     "text": [
      "60000\n",
      "20000\n",
      "20000\n",
      "60000\n",
      "20000\n",
      "20000\n"
     ]
    }
   ],
   "source": [
    "print(len(train))\n",
    "print(len(validate))\n",
    "print(len(test))\n",
    "\n",
    "print(len(train_texts))\n",
    "print(len(valid_texts))\n",
    "print(len(test_texts))"
   ]
  },
  {
   "cell_type": "code",
   "execution_count": 0,
   "metadata": {
    "colab": {
     "base_uri": "https://localhost:8080/",
     "height": 419
    },
    "colab_type": "code",
    "id": "RiKTKhVVIaBI",
    "outputId": "10163901-0184-429b-8787-500bf2578ebc"
   },
   "outputs": [
    {
     "name": "stdout",
     "output_type": "stream",
     "text": [
      "                                                                                                                                                                                                                        text  labels\n",
      "0                  We're taking one for the team today in order to make shopping here better.While you wait, read our blog , or check @FinishLine on Instagramand stay up to speed on all things sneakers, style, and sport.       0\n",
      "1              Goal 3: Cut the unemployment rate among young people in half within 3 years. 15 Goals to Rebuild the American Dream\\n\\nThe unemployment rate for young people aged 16 to 24 is above 14 percent.\\n\\nRead More       0\n",
      "2                  Molly Dorozenski, Greenpeace USA joins Thom. Hillary Clinton says that Bernie Sanders is lying when he says that her campaign accepts money from the fossil fuel industry. But what about her Super PACs?       0\n",
      "3                Scientists can now visualize and experiment with structures and dynamics of complex molecular structures (at atomic-level precision), with real-time multi-user collaboration via the cloud\\n\\nJuly 6, 2018       0\n",
      "4  SOLARIUS LYONAR KINGDOMS\\n\\nidle breathing run attack death\\n\\nType: Unit\\n\\nRarity: Legendary\\n\\nSet: Denizens of Shim'Zar\\n\\nCost: 5\\n\\nStats: 3/2\\n\\nEffect:\\n\\nZeal: Draw 2 additional cards at the end of your turn.       0\n",
      "5                  Beasts Of Burgundy - Twelve original new songs from the mind of Jimbo Mathus and the Squirrel Nut Zippers. This is the bands first studio album in 18 years. A return to form... a revival not a reunion.       0\n",
      "6             This program focuses on hands-on, practical experience and culminates with an capstone experience in place of a thesis\\n\\nTo be considered for a $4000 scholarship apply by October 1, 2018\\n\\nNo GRE required       0\n",
      "7                 \"Playing with cats and taking their pictures gives me a lot of joy,\" he told BuzzFeed. \"I decided that my pictures shouldn't look like all other beautiful cat pictures — they must be something special.\"       0\n",
      "8               Milk It Kit\\n\\nMilk It was created by a mom to support moms and the milk they make! It was formed with the idea that pumping milk while working should be less daunting and could be more fun and rewarding.       0\n",
      "9                Pro Tour Amonkhet is now down to just eight players. Take a look at what they brought for this weekend's Standard rounds, and what they will be battling with on Sunday for the title of Pro Tour Champion.       0\n",
      "0    201\n",
      "1    201\n",
      "2    201\n",
      "3    201\n",
      "4    201\n",
      "5    201\n",
      "6    202\n",
      "7    202\n",
      "8    202\n",
      "9    203\n",
      "Name: text, dtype: int64\n"
     ]
    }
   ],
   "source": [
    "pd.set_option('display.max_colwidth',1000)\n",
    "\n",
    "sub_val = validate[validate.labels==0]\n",
    "\n",
    "# print(validate.text.str.len())\n",
    "\n",
    "# print(validate.text.str.len().sort_values())\n",
    "\n",
    "s = sub_val.text.str.len().sort_values().index\n",
    "df1 = sub_val.reindex(s)\n",
    "df1 = df1.reset_index(drop=True)\n",
    "print(df1.head(10))\n",
    "print(df1.text.str.len().head(10))"
   ]
  },
  {
   "cell_type": "code",
   "execution_count": 0,
   "metadata": {
    "colab": {},
    "colab_type": "code",
    "id": "K-Jth99wrSUt"
   },
   "outputs": [],
   "source": [
    "short_string = sub_val[sub_val.text.str.contains(\"Summary Focus of this page: This page discusses our current view of the evidence for a wide range of programs\")].text"
   ]
  },
  {
   "cell_type": "code",
   "execution_count": 0,
   "metadata": {
    "colab": {},
    "colab_type": "code",
    "id": "CLth2aZYIZ-F"
   },
   "outputs": [],
   "source": [
    "long_string = sub_val[sub_val.text.str.contains(\"Summary Focus of this page: This page discusses our current view of the evidence for a wide range of programs\")].text\n"
   ]
  },
  {
   "cell_type": "code",
   "execution_count": 0,
   "metadata": {
    "colab": {},
    "colab_type": "code",
    "id": "9AgMjA11IZ7Z"
   },
   "outputs": [],
   "source": [
    "long_string = long_string.to_string()[8:]"
   ]
  },
  {
   "cell_type": "code",
   "execution_count": 0,
   "metadata": {
    "colab": {},
    "colab_type": "code",
    "id": "IDuwLyDmIZ0O"
   },
   "outputs": [],
   "source": [
    "long_string2 = sub_val[sub_val.text.str.contains(\"If you look on a board game shelf, how many games will you see with actions based on collaboration\")].text\n",
    "long_string2 = long_string2.to_string()[9:]"
   ]
  },
  {
   "cell_type": "code",
   "execution_count": 0,
   "metadata": {
    "colab": {
     "base_uri": "https://localhost:8080/",
     "height": 167
    },
    "colab_type": "code",
    "id": "3Sc-S656IZw7",
    "outputId": "1319dfa2-5931-42bb-9976-022bf4e1f888"
   },
   "outputs": [
    {
     "ename": "TypeError",
     "evalue": "ignored",
     "output_type": "error",
     "traceback": [
      "\u001b[0;31m---------------------------------------------------------------------------\u001b[0m",
      "\u001b[0;31mTypeError\u001b[0m                                 Traceback (most recent call last)",
      "\u001b[0;32m<ipython-input-26-a50046725705>\u001b[0m in \u001b[0;36m<module>\u001b[0;34m()\u001b[0m\n\u001b[0;32m----> 1\u001b[0;31m \u001b[0mdf1\u001b[0m\u001b[0;34m[\u001b[0m\u001b[0;34m\"text\"\u001b[0m\u001b[0;34m]\u001b[0m\u001b[0;34m[\u001b[0m\u001b[0;36m1\u001b[0m\u001b[0;34m]\u001b[0m\u001b[0;34m.\u001b[0m\u001b[0mindex\u001b[0m\u001b[0;34m(\u001b[0m\u001b[0;34m)\u001b[0m\u001b[0;34m\u001b[0m\u001b[0;34m\u001b[0m\u001b[0m\n\u001b[0m",
      "\u001b[0;31mTypeError\u001b[0m: index() takes at least 1 argument (0 given)"
     ]
    }
   ],
   "source": []
  },
  {
   "cell_type": "markdown",
   "metadata": {
    "colab_type": "text",
    "id": "B7niM3RYDwqi"
   },
   "source": [
    "# Load and prepare dataset for pytorch"
   ]
  },
  {
   "cell_type": "code",
   "execution_count": 0,
   "metadata": {
    "colab": {},
    "colab_type": "code",
    "id": "JPyePrH3Dwqj"
   },
   "outputs": [],
   "source": [
    "# spacy_en = spacy.load(\"en_core_web_sm\", disable=[\"tagger\", \"parser\", \"ner\",\"textcat\"])\n",
    "# spacy_en.add_pipe(spacy_en.create_pipe('sentencizer')) #adding sentence tokenizer\n",
    "\n",
    "spacy_en = spacy.load('en_core_web_sm') #changed syntax?\n",
    "\n",
    "def tokenize_en(text):\n",
    "    \"\"\"\n",
    "    Tokenizes English text from a string into a list of strings (tokens)\n",
    "    \"\"\"\n",
    "    return [tok.text for tok in spacy_en.tokenizer(text)]\n",
    "\n",
    "TEXT = Field(sequential=True, tokenize=tokenize_en, lower=True)\n",
    "LABEL = Field(sequential=False, unk_token = None)\n"
   ]
  },
  {
   "cell_type": "code",
   "execution_count": 0,
   "metadata": {
    "colab": {},
    "colab_type": "code",
    "id": "Nb-Pc1vtDwqo"
   },
   "outputs": [],
   "source": [
    "#100k subset\n",
    "train, val, test = TabularDataset.splits(\n",
    "               path=path, # the root directory where the data lies\n",
    "               train='subset_100k_train.csv', validation=\"subset_100k_valid.csv\", test=\"subset_100k_test.csv\", # file names\n",
    "               format='csv',\n",
    "               skip_header=True, \n",
    "               fields=[('text', TEXT), ('label', LABEL)])"
   ]
  },
  {
   "cell_type": "code",
   "execution_count": 0,
   "metadata": {
    "colab": {
     "base_uri": "https://localhost:8080/",
     "height": 52
    },
    "colab_type": "code",
    "id": "vWDiBeDOoy0S",
    "outputId": "ea40b094-ecea-4653-b1e7-404a5d3c3b0f"
   },
   "outputs": [
    {
     "name": "stdout",
     "output_type": "stream",
     "text": [
      "Vocabulary size of TEXT: 296067\n",
      "Vocabulary size of LABEL: 2\n"
     ]
    }
   ],
   "source": [
    "#100k subset\n",
    "\n",
    "TEXT.build_vocab(train, min_freq=1)\n",
    "LABEL.build_vocab(train)\n",
    "\n",
    "print(\"Vocabulary size of TEXT:\",len(TEXT.vocab.stoi))\n",
    "print(\"Vocabulary size of LABEL:\",len(LABEL.vocab.stoi))"
   ]
  },
  {
   "cell_type": "code",
   "execution_count": 0,
   "metadata": {
    "colab": {
     "base_uri": "https://localhost:8080/",
     "height": 52
    },
    "colab_type": "code",
    "id": "VBZUYNmrDwqu",
    "outputId": "0a4b9cfa-f62c-48dc-9708-69977e924e3b"
   },
   "outputs": [
    {
     "name": "stdout",
     "output_type": "stream",
     "text": [
      "Vocabulary size of TEXT: 145549\n",
      "Vocabulary size of LABEL: 2\n"
     ]
    }
   ],
   "source": [
    "#100k subset\n",
    "\n",
    "TEXT.build_vocab(train, min_freq=2)\n",
    "LABEL.build_vocab(train)\n",
    "\n",
    "print(\"Vocabulary size of TEXT:\",len(TEXT.vocab.stoi))\n",
    "print(\"Vocabulary size of LABEL:\",len(LABEL.vocab.stoi))"
   ]
  },
  {
   "cell_type": "code",
   "execution_count": 0,
   "metadata": {
    "colab": {},
    "colab_type": "code",
    "id": "555zXk3JAMyP"
   },
   "outputs": [],
   "source": []
  },
  {
   "cell_type": "code",
   "execution_count": 0,
   "metadata": {
    "colab": {},
    "colab_type": "code",
    "id": "FOZ4YW9KAMvD"
   },
   "outputs": [],
   "source": []
  },
  {
   "cell_type": "code",
   "execution_count": 0,
   "metadata": {
    "colab": {},
    "colab_type": "code",
    "id": "XnPFViAHAMsc"
   },
   "outputs": [],
   "source": []
  },
  {
   "cell_type": "code",
   "execution_count": 0,
   "metadata": {
    "colab": {},
    "colab_type": "code",
    "id": "45ZqiRdsDwqz"
   },
   "outputs": [],
   "source": [
    "train_iter, val_iter = BucketIterator.splits( \n",
    " (train, val), \n",
    " batch_sizes=(64,256),\n",
    " sort_key=lambda x: len(x.text), \n",
    " sort=True,\n",
    " device=device,\n",
    " sort_within_batch=True\n",
    ")\n",
    "\n",
    "test_iter = Iterator(\n",
    "    test,\n",
    "    batch_size=(256),\n",
    "    sort_key=lambda x: len(x.text),\n",
    "    sort=False,\n",
    "    shuffle=False)"
   ]
  },
  {
   "cell_type": "code",
   "execution_count": 0,
   "metadata": {
    "colab": {},
    "colab_type": "code",
    "id": "FWGVVU7dI0UD"
   },
   "outputs": [],
   "source": []
  },
  {
   "cell_type": "code",
   "execution_count": 0,
   "metadata": {
    "colab": {},
    "colab_type": "code",
    "id": "wLzV6PFZI0Po"
   },
   "outputs": [],
   "source": []
  },
  {
   "cell_type": "code",
   "execution_count": 0,
   "metadata": {
    "colab": {
     "base_uri": "https://localhost:8080/",
     "height": 1000
    },
    "colab_type": "code",
    "id": "MZNAD9ecDwq5",
    "outputId": "023d45e3-d6dd-4ed1-986b-3e0fc9438b3e"
   },
   "outputs": [
    {
     "name": "stdout",
     "output_type": "stream",
     "text": [
      "0\n",
      "tensor([[    2,    11,    14,  ...,     0,    21, 11695],\n",
      "        [  156,    24,    13,  ...,     8,   115,  2534],\n",
      "        [    6,    13,   266,  ..., 17087,   101,  1805],\n",
      "        ...,\n",
      "        [  152,  9754,  2035,  ...,     1,     1,     1],\n",
      "        [ 1035,     4,  1538,  ...,     1,     1,     1],\n",
      "        [    4,    11,     4,  ...,     1,     1,     1]])\n",
      "tensor([0, 1, 1, 0, 0, 0, 0, 0, 0, 1, 0, 1, 0, 1, 0, 0, 1, 0, 0, 0, 1, 0, 0, 0,\n",
      "        0, 0, 0, 1, 1, 0, 1, 1, 0, 0, 1, 0, 0, 0, 0, 0, 1, 0, 0, 0, 1, 0, 1, 1,\n",
      "        1, 1, 1, 1, 0, 0, 1, 0, 1, 1, 1, 1, 0, 1, 1, 0, 0, 0, 1, 0, 0, 0, 1, 0,\n",
      "        1, 1, 1, 1, 1, 1, 0, 1, 1, 1, 0, 0, 0, 0, 1, 1, 0, 0, 0, 0, 1, 0, 0, 0,\n",
      "        0, 0, 0, 0, 0, 1, 0, 0, 0, 1, 1, 0, 0, 0, 0, 0, 0, 0, 0, 0, 0, 0, 0, 0,\n",
      "        0, 0, 0, 0, 0, 1, 1, 0, 0, 0, 0, 0, 0, 0, 1, 0, 0, 0, 0, 0, 0, 1, 1, 0,\n",
      "        0, 0, 0, 0, 0, 0, 0, 0, 0, 0, 0, 0, 0, 0, 0, 0, 0, 0, 0, 1, 0, 0, 1, 1,\n",
      "        1, 1, 0, 0, 0, 0, 1, 0, 0, 0, 1, 0, 1, 0, 0, 1, 1, 1, 1, 0, 0, 0, 0, 1,\n",
      "        0, 0, 1, 0, 1, 1, 0, 0, 1, 0, 0, 0, 0, 1, 0, 1, 0, 0, 0, 1, 0, 1, 1, 0,\n",
      "        1, 1, 0, 0, 0, 1, 1, 1, 1, 1, 0, 1, 1, 1, 1, 0, 1, 1, 0, 0, 0, 1, 0, 1,\n",
      "        1, 1, 1, 1, 1, 1, 1, 1, 1, 1, 1, 1, 0, 0, 1, 1])\n",
      "1\n",
      "tensor([[  6552,    748,  27342,  ...,     34,    192,    628],\n",
      "        [    13,      2, 120582,  ...,   4086,    519,    877],\n",
      "        [     7,  21297,   3091,  ...,  34586,     21,   1141],\n",
      "        ...,\n",
      "        [    18,     14,      0,  ...,      1,      1,      1],\n",
      "        [   666,      4,     31,  ...,      1,      1,      1],\n",
      "        [     4,     11,      4,  ...,      1,      1,      1]])\n",
      "tensor([1, 0, 0, 0, 1, 1, 0, 0, 0, 0, 0, 1, 0, 0, 0, 0, 0, 0, 0, 0, 1, 0, 0, 0,\n",
      "        0, 1, 0, 0, 0, 1, 0, 0, 0, 0, 0, 0, 0, 0, 1, 0, 0, 1, 1, 1, 0, 0, 1, 0,\n",
      "        1, 0, 0, 0, 0, 0, 0, 1, 0, 1, 0, 0, 1, 0, 1, 0, 0, 0, 0, 1, 0, 1, 0, 0,\n",
      "        1, 0, 0, 1, 0, 0, 0, 0, 0, 1, 1, 0, 0, 0, 0, 0, 0, 0, 0, 0, 0, 1, 0, 0,\n",
      "        0, 0, 0, 1, 0, 1, 0, 0, 0, 0, 1, 1, 0, 1, 0, 1, 0, 0, 0, 1, 0, 0, 0, 1,\n",
      "        1, 1, 1, 0, 0, 1, 0, 0, 0, 0, 1, 0, 1, 0, 0, 0, 0, 0, 1, 1, 0, 1, 0, 1,\n",
      "        0, 1, 0, 0, 1, 0, 0, 0, 0, 0, 1, 0, 1, 0, 0, 0, 0, 0, 0, 1, 1, 0, 1, 1,\n",
      "        0, 1, 0, 0, 0, 0, 0, 0, 1, 0, 0, 0, 0, 1, 0, 0, 0, 1, 0, 0, 0, 0, 0, 0,\n",
      "        0, 1, 0, 0, 0, 0, 0, 1, 0, 0, 0, 0, 1, 1, 0, 0, 0, 0, 0, 0, 0, 0, 1, 0,\n",
      "        1, 0, 0, 0, 0, 1, 1, 0, 0, 1, 0, 0, 1, 1, 0, 0, 0, 0, 0, 0, 0, 0, 0, 0,\n",
      "        0, 1, 0, 0, 0, 1, 0, 0, 0, 1, 0, 0, 1, 0, 0, 0])\n",
      "2\n",
      "tensor([[ 309,   19,   14,  ..., 1267,  318, 4703],\n",
      "        [   4,   22,   22,  ...,    9,   24,    0],\n",
      "        [   2, 4802, 1676,  ..., 6390,  211,   22],\n",
      "        ...,\n",
      "        [ 268,   23,  231,  ...,    1,    1,    1],\n",
      "        [  61, 2428, 7557,  ...,    1,    1,    1],\n",
      "        [   4,   35,    4,  ...,    1,    1,    1]])\n",
      "tensor([0, 1, 0, 1, 0, 1, 0, 0, 1, 1, 1, 1, 0, 1, 0, 0, 1, 0, 0, 0, 1, 0, 0, 1,\n",
      "        1, 0, 0, 0, 0, 0, 0, 0, 0, 1, 1, 0, 0, 1, 0, 0, 0, 1, 0, 0, 0, 0, 0, 0,\n",
      "        1, 0, 0, 0, 0, 0, 0, 0, 0, 1, 1, 1, 1, 0, 0, 0, 0, 1, 0, 1, 0, 0, 1, 0,\n",
      "        0, 0, 0, 0, 0, 1, 0, 0, 0, 0, 0, 0, 1, 0, 0, 1, 1, 0, 0, 0, 1, 0, 0, 0,\n",
      "        1, 0, 0, 0, 0, 0, 0, 0, 0, 0, 0, 0, 0, 1, 1, 0, 0, 0, 0, 0, 0, 1, 0, 0,\n",
      "        0, 1, 0, 1, 1, 0, 1, 0, 0, 1, 0, 0, 0, 0, 1, 0, 0, 1, 0, 0, 0, 1, 1, 0,\n",
      "        0, 0, 0, 1, 1, 0, 1, 0, 0, 0, 0, 1, 0, 0, 0, 0, 1, 0, 1, 0, 1, 1, 0, 0,\n",
      "        0, 0, 1, 0, 1, 0, 0, 0, 1, 1, 0, 0, 0, 0, 0, 0, 0, 0, 0, 0, 0, 0, 1, 0,\n",
      "        0, 1, 0, 0, 1, 0, 1, 1, 0, 1, 1, 0, 0, 1, 0, 1, 0, 0, 0, 1, 0, 0, 0, 1,\n",
      "        0, 0, 0, 0, 0, 0, 1, 0, 1, 1, 0, 1, 0, 1, 0, 0, 0, 1, 0, 0, 1, 0, 1, 1,\n",
      "        0, 0, 0, 0, 0, 1, 0, 0, 1, 1, 0, 1, 0, 1, 0, 0])\n",
      "texts: torch.Size([66, 256])\n",
      "labels: torch.Size([256])\n"
     ]
    }
   ],
   "source": [
    "# create a single batch and terminate the loop\n",
    "i = 0\n",
    "for batch in val_iter:\n",
    "    texts = batch.text\n",
    "    labels = batch.label\n",
    "    print(i)\n",
    "    print(texts)\n",
    "    print(labels)\n",
    "    i+=1\n",
    "    if i ==3:\n",
    "      break\n",
    "\n",
    "    #break  #we use first batch as an example.\n",
    "    \n",
    "print('texts:', texts.shape)\n",
    "print('labels:', labels.shape)\n",
    "\n",
    "# texts: [length, batch size]\n",
    "# labels: [batch size]"
   ]
  },
  {
   "cell_type": "markdown",
   "metadata": {
    "colab_type": "text",
    "id": "Ru0oxXl1Dwq-"
   },
   "source": [
    "# CNN baseline"
   ]
  },
  {
   "cell_type": "code",
   "execution_count": 0,
   "metadata": {
    "colab": {},
    "colab_type": "code",
    "id": "XRB5tHL1Dwq-"
   },
   "outputs": [],
   "source": [
    "# To define a CNN class\n",
    "class CNN_Text(nn.Module):\n",
    "    def __init__(self, vocabulary_size, embedding_dim, output_size, kernel_num, region_sizes, dropout):\n",
    "        '''\n",
    "        vocabulary_size: vocabulary size\n",
    "        embedding_dim: word embedding size\n",
    "        output_size: number of classes in prediction\n",
    "        kernel_num: number of kernels (number of output channels of convolutional layers)\n",
    "        region_sizes: height of kernels of convolutional layers\n",
    "        dropout: dropout rate\n",
    "        '''\n",
    "        super(CNN_Text, self).__init__()\n",
    "        # the size of input channel is 1.\n",
    "        Ci = 1\n",
    "        \n",
    "        # word embedding layer\n",
    "        self.embeddings = nn.Embedding(num_embeddings = vocabulary_size, embedding_dim = embedding_dim )\n",
    "        \n",
    "        # convolution with kernels\n",
    "        self.convolution_layers = nn.ModuleList([nn.Conv2d(in_channels = Ci, out_channels = kernel_num, kernel_size = (K, embedding_dim)) for K in region_sizes])\n",
    "        \n",
    "        # a dropout layer\n",
    "        self.dropout = nn.Dropout(dropout) \n",
    "        \n",
    "        # fully connected layer\n",
    "        self.fc = nn.Linear(len(kernel_sizes) * kernel_num, output_size)\n",
    "\n",
    "    def forward(self, x):\n",
    "        # input x  [sequence length, batch size]\n",
    "        \n",
    "        input_embeddings = self.embeddings(x)  \n",
    "        # (batch size, word_sequence, embedding_dim) word embedding\n",
    "\n",
    "        input_embeddings = input_embeddings.permute(1,0,2)\n",
    "        input_embeddings = input_embeddings.unsqueeze(1)\n",
    "        #  [batch size, number of channel is one, sequence length, embeeding size]\n",
    "\n",
    "        # convolutional layers\n",
    "        convolute_outputs = [F.relu(conv(input_embeddings)).squeeze(3) for conv in self.convolution_layers]  \n",
    "        \n",
    "        # to get the maximum value of filtered tensor\n",
    "        max_pooling_outputs = [F.max_pool1d(i, i.size(2)).squeeze(2) for i in convolute_outputs] \n",
    "        \n",
    "        concat_list = torch.cat(max_pooling_outputs, 1) # concatenate representations\n",
    "        \n",
    "        drop_output = self.dropout(concat_list)  # add drop layer\n",
    "        \n",
    "        fc1_output = self.fc(drop_output)  # get the fc1 using a fully connected layer\n",
    "        \n",
    "        final_output = F.softmax(fc1_output,dim=1)\n",
    "        \n",
    "        return final_output\n"
   ]
  },
  {
   "cell_type": "code",
   "execution_count": 0,
   "metadata": {
    "colab": {},
    "colab_type": "code",
    "id": "jl95C6aODwrD"
   },
   "outputs": [],
   "source": [
    "# Hyper Parameters\n",
    "\n",
    "# the vocabulary size\n",
    "vocabulary_size = len(TEXT.vocab.stoi) \n",
    "\n",
    "# Dimension of word embedding is 300. Namely, each word is expressed by a vector that has 300 dimensions.\n",
    "embedding_dim = 300 \n",
    "\n",
    "# region size as 2, 3, and 4\n",
    "kernel_sizes = [2,3,4] \n",
    "\n",
    "# the number of kernel in each region size\n",
    "kernels_num = 32  \n",
    "\n",
    "# The dropout rate is set to be 0.5.\n",
    "dropout = 0.5\n",
    "\n",
    "# The output size of labels.\n",
    "output_size = 2\n",
    "\n",
    "# learning rate is set to be 0.01. CHANGED FROM ORIGINAL\n",
    "lr = 0.0001        \n",
    "\n",
    "# The number of iteration is set to be 5.\n",
    "num_epoch = 5  \n",
    "\n",
    "# employ class CNN_Text and assign to cnn\n",
    "model = CNN_Text(vocabulary_size, embedding_dim, output_size, kernels_num, kernel_sizes, dropout).to(device)"
   ]
  },
  {
   "cell_type": "code",
   "execution_count": 0,
   "metadata": {
    "colab": {},
    "colab_type": "code",
    "id": "cZGhseSCDwrI"
   },
   "outputs": [],
   "source": [
    "def init_weights(m):\n",
    "    for name, param in m.named_parameters():\n",
    "        if 'weight' in name:\n",
    "            nn.init.normal_(param.data, mean=0, std=0.1)\n",
    "        else:\n",
    "            nn.init.constant_(param.data, 0)\n",
    "            \n",
    "#model.apply(init_weights)"
   ]
  },
  {
   "cell_type": "code",
   "execution_count": 0,
   "metadata": {
    "colab": {
     "base_uri": "https://localhost:8080/",
     "height": 34
    },
    "colab_type": "code",
    "id": "-3nnVOT7DwrN",
    "outputId": "d64ffc69-023a-442e-f5f7-3caed92ec996"
   },
   "outputs": [
    {
     "name": "stdout",
     "output_type": "stream",
     "text": [
      "The model has 43,929,290 trainable parameters\n"
     ]
    }
   ],
   "source": [
    "def count_parameters(model):\n",
    "    return sum(p.numel() for p in model.parameters() if p.requires_grad)\n",
    "\n",
    "print(f'The model has {count_parameters(model):,} trainable parameters')"
   ]
  },
  {
   "cell_type": "code",
   "execution_count": 0,
   "metadata": {
    "colab": {
     "base_uri": "https://localhost:8080/",
     "height": 34
    },
    "colab_type": "code",
    "id": "Og0OdT5w3_Tv",
    "outputId": "1b9ce9ee-b09a-407b-b698-5a7cc19d1e35"
   },
   "outputs": [
    {
     "name": "stdout",
     "output_type": "stream",
     "text": [
      "The model has 43,751,390 trainable parameters\n"
     ]
    }
   ],
   "source": [
    "#second run\n",
    "\n",
    "def count_parameters(model):\n",
    "    return sum(p.numel() for p in model.parameters() if p.requires_grad)\n",
    "\n",
    "print(f'The model has {count_parameters(model):,} trainable parameters')"
   ]
  },
  {
   "cell_type": "code",
   "execution_count": 0,
   "metadata": {
    "colab": {},
    "colab_type": "code",
    "id": "cccAFOyUDwrS"
   },
   "outputs": [],
   "source": [
    "# Loss and optimizer\n",
    "optimizer = torch.optim.Adam(model.parameters(), lr=lr)   # define a optimizer for backpropagation\n",
    "loss_func = nn.CrossEntropyLoss()   # define loss funtion"
   ]
  },
  {
   "cell_type": "code",
   "execution_count": 0,
   "metadata": {
    "colab": {},
    "colab_type": "code",
    "id": "dxVXTzNCDwrV"
   },
   "outputs": [],
   "source": [
    "def train(model, iterator, optimizer, criterion):\n",
    "    \n",
    "    model.train()\n",
    "    epoch_loss = 0\n",
    "    \n",
    "    for i, batch in enumerate(iterator):\n",
    "        \n",
    "        batch_input, labels = batch.text, batch.label\n",
    "        batch_input = batch_input.to(device)\n",
    "        labels = labels.to(device)\n",
    "\n",
    "        optimizer.zero_grad()\n",
    "        \n",
    "        outputs = model(batch_input)\n",
    "\n",
    "        loss = criterion(outputs, labels)\n",
    "        \n",
    "        loss.backward()\n",
    "        \n",
    "        optimizer.step()\n",
    "        \n",
    "        epoch_loss += loss.cpu().item()\n",
    "\n",
    "    return epoch_loss / len(iterator)\n",
    "\n",
    "def evaluate(model, iterator, criterion):\n",
    "    \n",
    "    model.eval()\n",
    "    \n",
    "    epoch_loss = 0\n",
    "    all_pred=[]\n",
    "    all_label = []\n",
    "    \n",
    "    with torch.no_grad():\n",
    "    \n",
    "        for i, batch in enumerate(iterator):\n",
    "\n",
    "            batch_input, labels = batch.text, batch.label\n",
    "            batch_input = batch_input.to(device)\n",
    "            labels = labels.to(device)\n",
    "\n",
    "            optimizer.zero_grad()\n",
    "\n",
    "            outputs = model(batch_input)\n",
    "\n",
    "            loss = criterion(outputs, labels)\n",
    "\n",
    "            epoch_loss += loss.cpu().item()\n",
    "\n",
    "            # identify the predicted class for each example in the batch\n",
    "            probabilities, predicted = torch.max(outputs.cpu().data, 1)\n",
    "            # put all the true labels and predictions to two lists\n",
    "            all_pred.extend(predicted)\n",
    "            all_label.extend(labels.cpu())\n",
    "  \n",
    "    \n",
    "    accuracy = accuracy_score(all_label, all_pred)\n",
    "    f1score = f1_score(all_label, all_pred, average='macro') \n",
    "    return epoch_loss / len(iterator), accuracy, f1score\n",
    "\n",
    "def epoch_time(start_time, end_time):\n",
    "    elapsed_time = end_time - start_time\n",
    "    elapsed_mins = int(elapsed_time / 60)\n",
    "    elapsed_secs = int(elapsed_time - (elapsed_mins * 60))\n",
    "    return elapsed_mins, elapsed_secs"
   ]
  },
  {
   "cell_type": "code",
   "execution_count": 0,
   "metadata": {
    "colab": {},
    "colab_type": "code",
    "id": "1tnMpUT6D5VN"
   },
   "outputs": [],
   "source": []
  },
  {
   "cell_type": "code",
   "execution_count": 0,
   "metadata": {
    "colab": {
     "base_uri": "https://localhost:8080/",
     "height": 34
    },
    "colab_type": "code",
    "id": "MB38dh_wD5R8",
    "outputId": "d04fd722-4533-44b5-d57b-9e725aec8482"
   },
   "outputs": [
    {
     "data": {
      "text/plain": [
       "40"
      ]
     },
     "execution_count": 123,
     "metadata": {
      "tags": []
     },
     "output_type": "execute_result"
    }
   ],
   "source": [
    "len(val_iter)"
   ]
  },
  {
   "cell_type": "code",
   "execution_count": 0,
   "metadata": {
    "colab": {
     "base_uri": "https://localhost:8080/",
     "height": 1000
    },
    "colab_type": "code",
    "id": "TXWX9rwLDwra",
    "outputId": "6025b333-5398-4eeb-e7bf-0a3bb9f490a2"
   },
   "outputs": [
    {
     "name": "stderr",
     "output_type": "stream",
     "text": [
      "Epoch:   5%|▌         | 1/20 [00:35<11:19, 35.75s/it]"
     ]
    },
    {
     "name": "stdout",
     "output_type": "stream",
     "text": [
      "Epoch: 01 | Time: 0m 35s\n",
      "\n",
      " Epoch [1/20], Train Loss: 0.5524, Validation Loss: 0.5830, Validation Accuracy: 0.6923, Validation F1: 0.6713\n"
     ]
    },
    {
     "name": "stderr",
     "output_type": "stream",
     "text": [
      "\r",
      "Epoch:  10%|█         | 2/20 [01:10<10:37, 35.42s/it]"
     ]
    },
    {
     "name": "stdout",
     "output_type": "stream",
     "text": [
      "Epoch: 02 | Time: 0m 34s\n",
      "\n",
      " Epoch [2/20], Train Loss: 0.5374, Validation Loss: 0.5694, Validation Accuracy: 0.7110, Validation F1: 0.6945\n"
     ]
    },
    {
     "name": "stderr",
     "output_type": "stream",
     "text": [
      "\r",
      "Epoch:  15%|█▌        | 3/20 [01:44<09:57, 35.12s/it]"
     ]
    },
    {
     "name": "stdout",
     "output_type": "stream",
     "text": [
      "Epoch: 03 | Time: 0m 34s\n",
      "\n",
      " Epoch [3/20], Train Loss: 0.5225, Validation Loss: 0.5647, Validation Accuracy: 0.7178, Validation F1: 0.7012\n"
     ]
    },
    {
     "name": "stderr",
     "output_type": "stream",
     "text": [
      "\r",
      "Epoch:  20%|██        | 4/20 [02:20<09:24, 35.27s/it]"
     ]
    },
    {
     "name": "stdout",
     "output_type": "stream",
     "text": [
      "Epoch: 04 | Time: 0m 35s\n",
      "\n",
      " Epoch [4/20], Train Loss: 0.5087, Validation Loss: 0.5510, Validation Accuracy: 0.7349, Validation F1: 0.7217\n"
     ]
    },
    {
     "name": "stderr",
     "output_type": "stream",
     "text": [
      "\r",
      "Epoch:  25%|██▌       | 5/20 [02:54<08:45, 35.03s/it]"
     ]
    },
    {
     "name": "stdout",
     "output_type": "stream",
     "text": [
      "Epoch: 05 | Time: 0m 34s\n",
      "\n",
      " Epoch [5/20], Train Loss: 0.4914, Validation Loss: 0.5409, Validation Accuracy: 0.7486, Validation F1: 0.7372\n"
     ]
    },
    {
     "name": "stderr",
     "output_type": "stream",
     "text": [
      "\r",
      "Epoch:  30%|███       | 6/20 [03:29<08:08, 34.89s/it]"
     ]
    },
    {
     "name": "stdout",
     "output_type": "stream",
     "text": [
      "Epoch: 06 | Time: 0m 34s\n",
      "\n",
      " Epoch [6/20], Train Loss: 0.4751, Validation Loss: 0.5370, Validation Accuracy: 0.7510, Validation F1: 0.7395\n"
     ]
    },
    {
     "name": "stderr",
     "output_type": "stream",
     "text": [
      "\r",
      "Epoch:  35%|███▌      | 7/20 [04:03<07:31, 34.76s/it]"
     ]
    },
    {
     "name": "stdout",
     "output_type": "stream",
     "text": [
      "Epoch: 07 | Time: 0m 34s\n",
      "\n",
      " Epoch [7/20], Train Loss: 0.4582, Validation Loss: 0.5264, Validation Accuracy: 0.7665, Validation F1: 0.7573\n"
     ]
    },
    {
     "name": "stderr",
     "output_type": "stream",
     "text": [
      "\r",
      "Epoch:  40%|████      | 8/20 [04:39<07:00, 35.01s/it]"
     ]
    },
    {
     "name": "stdout",
     "output_type": "stream",
     "text": [
      "Epoch: 08 | Time: 0m 35s\n",
      "\n",
      " Epoch [8/20], Train Loss: 0.4420, Validation Loss: 0.5210, Validation Accuracy: 0.7730, Validation F1: 0.7644\n"
     ]
    },
    {
     "name": "stderr",
     "output_type": "stream",
     "text": [
      "\r",
      "Epoch:  45%|████▌     | 9/20 [05:13<06:23, 34.83s/it]"
     ]
    },
    {
     "name": "stdout",
     "output_type": "stream",
     "text": [
      "Epoch: 09 | Time: 0m 34s\n",
      "\n",
      " Epoch [9/20], Train Loss: 0.4255, Validation Loss: 0.5094, Validation Accuracy: 0.7891, Validation F1: 0.7828\n"
     ]
    },
    {
     "name": "stderr",
     "output_type": "stream",
     "text": [
      "\r",
      "Epoch:  50%|█████     | 10/20 [05:48<05:47, 34.75s/it]"
     ]
    },
    {
     "name": "stdout",
     "output_type": "stream",
     "text": [
      "Epoch: 10 | Time: 0m 34s\n",
      "\n",
      " Epoch [10/20], Train Loss: 0.4107, Validation Loss: 0.5108, Validation Accuracy: 0.7844, Validation F1: 0.7774\n"
     ]
    },
    {
     "name": "stderr",
     "output_type": "stream",
     "text": [
      "\r",
      "Epoch:  55%|█████▌    | 11/20 [06:23<05:12, 34.67s/it]"
     ]
    },
    {
     "name": "stdout",
     "output_type": "stream",
     "text": [
      "Epoch: 11 | Time: 0m 34s\n",
      "\n",
      " Epoch [11/20], Train Loss: 0.3977, Validation Loss: 0.5058, Validation Accuracy: 0.7910, Validation F1: 0.7848\n"
     ]
    },
    {
     "name": "stderr",
     "output_type": "stream",
     "text": [
      "\r",
      "Epoch:  60%|██████    | 12/20 [06:58<04:39, 34.96s/it]"
     ]
    },
    {
     "name": "stdout",
     "output_type": "stream",
     "text": [
      "Epoch: 12 | Time: 0m 35s\n",
      "\n",
      " Epoch [12/20], Train Loss: 0.3860, Validation Loss: 0.4991, Validation Accuracy: 0.7984, Validation F1: 0.7935\n"
     ]
    },
    {
     "name": "stderr",
     "output_type": "stream",
     "text": [
      "\r",
      "Epoch:  65%|██████▌   | 13/20 [07:33<04:03, 34.82s/it]"
     ]
    },
    {
     "name": "stdout",
     "output_type": "stream",
     "text": [
      "Epoch: 13 | Time: 0m 34s\n",
      "\n",
      " Epoch [13/20], Train Loss: 0.3766, Validation Loss: 0.4941, Validation Accuracy: 0.8038, Validation F1: 0.7995\n"
     ]
    },
    {
     "name": "stderr",
     "output_type": "stream",
     "text": [
      "\r",
      "Epoch:  70%|███████   | 14/20 [08:07<03:28, 34.71s/it]"
     ]
    },
    {
     "name": "stdout",
     "output_type": "stream",
     "text": [
      "Epoch: 14 | Time: 0m 34s\n",
      "\n",
      " Epoch [14/20], Train Loss: 0.3687, Validation Loss: 0.4896, Validation Accuracy: 0.8073, Validation F1: 0.8037\n"
     ]
    },
    {
     "name": "stderr",
     "output_type": "stream",
     "text": [
      "\r",
      "Epoch:  75%|███████▌  | 15/20 [08:43<02:54, 34.97s/it]"
     ]
    },
    {
     "name": "stdout",
     "output_type": "stream",
     "text": [
      "Epoch: 15 | Time: 0m 35s\n",
      "\n",
      " Epoch [15/20], Train Loss: 0.3604, Validation Loss: 0.4922, Validation Accuracy: 0.8049, Validation F1: 0.8009\n"
     ]
    },
    {
     "name": "stderr",
     "output_type": "stream",
     "text": [
      "\r",
      "Epoch:  80%|████████  | 16/20 [09:17<02:19, 34.81s/it]"
     ]
    },
    {
     "name": "stdout",
     "output_type": "stream",
     "text": [
      "Epoch: 16 | Time: 0m 34s\n",
      "\n",
      " Epoch [16/20], Train Loss: 0.3542, Validation Loss: 0.4877, Validation Accuracy: 0.8105, Validation F1: 0.8072\n"
     ]
    },
    {
     "name": "stderr",
     "output_type": "stream",
     "text": [
      "\r",
      "Epoch:  85%|████████▌ | 17/20 [09:52<01:44, 34.70s/it]"
     ]
    },
    {
     "name": "stdout",
     "output_type": "stream",
     "text": [
      "Epoch: 17 | Time: 0m 34s\n",
      "\n",
      " Epoch [17/20], Train Loss: 0.3497, Validation Loss: 0.4854, Validation Accuracy: 0.8125, Validation F1: 0.8095\n"
     ]
    },
    {
     "name": "stderr",
     "output_type": "stream",
     "text": [
      "\r",
      "Epoch:  90%|█████████ | 18/20 [10:26<01:09, 34.63s/it]"
     ]
    },
    {
     "name": "stdout",
     "output_type": "stream",
     "text": [
      "Epoch: 18 | Time: 0m 34s\n",
      "\n",
      " Epoch [18/20], Train Loss: 0.3446, Validation Loss: 0.4850, Validation Accuracy: 0.8123, Validation F1: 0.8093\n"
     ]
    },
    {
     "name": "stderr",
     "output_type": "stream",
     "text": [
      "\r",
      "Epoch:  95%|█████████▌| 19/20 [11:02<00:34, 34.91s/it]"
     ]
    },
    {
     "name": "stdout",
     "output_type": "stream",
     "text": [
      "Epoch: 19 | Time: 0m 35s\n",
      "\n",
      " Epoch [19/20], Train Loss: 0.3409, Validation Loss: 0.4890, Validation Accuracy: 0.8077, Validation F1: 0.8041\n"
     ]
    },
    {
     "name": "stderr",
     "output_type": "stream",
     "text": [
      "Epoch: 100%|██████████| 20/20 [11:36<00:00, 34.83s/it]"
     ]
    },
    {
     "name": "stdout",
     "output_type": "stream",
     "text": [
      "Epoch: 20 | Time: 0m 34s\n",
      "\n",
      " Epoch [20/20], Train Loss: 0.3383, Validation Loss: 0.4885, Validation Accuracy: 0.8085, Validation F1: 0.8051\n"
     ]
    },
    {
     "name": "stderr",
     "output_type": "stream",
     "text": [
      "\n"
     ]
    }
   ],
   "source": [
    "# 100k subset\n",
    "MAX_EPOCH = 20\n",
    "total_step = len(train_iter)\n",
    "loss_list = []\n",
    "acc_list = []\n",
    "\n",
    "for epoch in trange(MAX_EPOCH, desc=\"Epoch\"):\n",
    "    start_time = time.time()\n",
    "    train_loss = train(model, train_iter, optimizer, loss_func)  \n",
    "    val_loss, val_acc, val_f1 = evaluate(model, val_iter, loss_func)\n",
    "    end_time = time.time()\n",
    "    \n",
    "    epoch_mins, epoch_secs = epoch_time(start_time, end_time)\n",
    "\n",
    "    # Create checkpoint at end of each epoch\n",
    "    state_dict_model = model.state_dict() \n",
    "    state = {\n",
    "        'epoch': epoch,\n",
    "        'state_dict': state_dict_model,\n",
    "        'optimizer': optimizer.state_dict()\n",
    "        }\n",
    "\n",
    "    #torch.save(state, \"./drive/My Drive/Colab Notebooks/ckpt_cnn/CNN_TEXT_\"+str(epoch+1)+\".pt\")\n",
    "    print(f'Epoch: {epoch+1:02} | Time: {epoch_mins}m {epoch_secs}s')\n",
    "    print('\\n Epoch [{}/{}], Train Loss: {:.4f}, Validation Loss: {:.4f}, Validation Accuracy: {:.4f}, Validation F1: {:.4f}'.format(epoch+1, \n",
    "                                                                MAX_EPOCH, train_loss, val_loss, val_acc, val_f1))\n",
    "    "
   ]
  },
  {
   "cell_type": "code",
   "execution_count": 0,
   "metadata": {
    "colab": {},
    "colab_type": "code",
    "id": "-WapTzwTGj1O"
   },
   "outputs": [],
   "source": []
  },
  {
   "cell_type": "code",
   "execution_count": 0,
   "metadata": {
    "colab": {
     "base_uri": "https://localhost:8080/",
     "height": 1000
    },
    "colab_type": "code",
    "id": "PwLGWmQFDwrj",
    "outputId": "c4abf3ed-258e-4583-b959-da1ac5c8b7a7"
   },
   "outputs": [
    {
     "name": "stderr",
     "output_type": "stream",
     "text": [
      "\n",
      "Epoch:   0%|          | 0/20 [00:00<?, ?it/s]\u001b[A\n",
      "Epoch:   5%|▌         | 1/20 [00:50<16:08, 50.95s/it]\u001b[A"
     ]
    },
    {
     "name": "stdout",
     "output_type": "stream",
     "text": [
      "Epoch: 01 | Time: 0m 33s\n",
      "\n",
      " Epoch [1/20], Train Loss: 0.6163, Validation Loss: 0.6705, Validation Accuracy: 0.5815, Validation F1: 0.4993\n"
     ]
    },
    {
     "name": "stderr",
     "output_type": "stream",
     "text": [
      "\n",
      "Epoch:  10%|█         | 2/20 [01:38<14:59, 49.97s/it]\u001b[A"
     ]
    },
    {
     "name": "stdout",
     "output_type": "stream",
     "text": [
      "Epoch: 02 | Time: 0m 32s\n",
      "\n",
      " Epoch [2/20], Train Loss: 0.5944, Validation Loss: 0.6342, Validation Accuracy: 0.6254, Validation F1: 0.5769\n"
     ]
    },
    {
     "name": "stderr",
     "output_type": "stream",
     "text": [
      "\n",
      "Epoch:  15%|█▌        | 3/20 [02:26<13:58, 49.35s/it]\u001b[A"
     ]
    },
    {
     "name": "stdout",
     "output_type": "stream",
     "text": [
      "Epoch: 03 | Time: 0m 32s\n",
      "\n",
      " Epoch [3/20], Train Loss: 0.5799, Validation Loss: 0.6162, Validation Accuracy: 0.6469, Validation F1: 0.6103\n"
     ]
    },
    {
     "name": "stderr",
     "output_type": "stream",
     "text": [
      "\n",
      "Epoch:  20%|██        | 4/20 [03:01<12:00, 45.01s/it]\u001b[A"
     ]
    },
    {
     "name": "stdout",
     "output_type": "stream",
     "text": [
      "Epoch: 04 | Time: 0m 33s\n",
      "\n",
      " Epoch [4/20], Train Loss: 0.5663, Validation Loss: 0.5998, Validation Accuracy: 0.6696, Validation F1: 0.6418\n"
     ]
    },
    {
     "name": "stderr",
     "output_type": "stream",
     "text": [
      "\n",
      "Epoch:  25%|██▌       | 5/20 [03:37<10:34, 42.30s/it]\u001b[A"
     ]
    },
    {
     "name": "stdout",
     "output_type": "stream",
     "text": [
      "Epoch: 05 | Time: 0m 33s\n",
      "\n",
      " Epoch [5/20], Train Loss: 0.5524, Validation Loss: 0.5829, Validation Accuracy: 0.6925, Validation F1: 0.6715\n"
     ]
    },
    {
     "name": "stderr",
     "output_type": "stream",
     "text": [
      "\n",
      "Epoch:  30%|███       | 6/20 [04:12<09:20, 40.04s/it]\u001b[A"
     ]
    },
    {
     "name": "stdout",
     "output_type": "stream",
     "text": [
      "Epoch: 06 | Time: 0m 32s\n",
      "\n",
      " Epoch [6/20], Train Loss: 0.5373, Validation Loss: 0.5693, Validation Accuracy: 0.7116, Validation F1: 0.6951\n"
     ]
    },
    {
     "name": "stderr",
     "output_type": "stream",
     "text": [
      "\n",
      "Epoch:  35%|███▌      | 7/20 [04:46<08:19, 38.42s/it]\u001b[A"
     ]
    },
    {
     "name": "stdout",
     "output_type": "stream",
     "text": [
      "Epoch: 07 | Time: 0m 32s\n",
      "\n",
      " Epoch [7/20], Train Loss: 0.5225, Validation Loss: 0.5645, Validation Accuracy: 0.7179, Validation F1: 0.7013\n"
     ]
    },
    {
     "name": "stderr",
     "output_type": "stream",
     "text": [
      "\n",
      "Epoch:  40%|████      | 8/20 [05:22<07:31, 37.61s/it]\u001b[A"
     ]
    },
    {
     "name": "stdout",
     "output_type": "stream",
     "text": [
      "Epoch: 08 | Time: 0m 33s\n",
      "\n",
      " Epoch [8/20], Train Loss: 0.5087, Validation Loss: 0.5510, Validation Accuracy: 0.7359, Validation F1: 0.7229\n"
     ]
    },
    {
     "name": "stderr",
     "output_type": "stream",
     "text": [
      "\n",
      "Epoch:  45%|████▌     | 9/20 [05:57<06:44, 36.75s/it]\u001b[A"
     ]
    },
    {
     "name": "stdout",
     "output_type": "stream",
     "text": [
      "Epoch: 09 | Time: 0m 32s\n",
      "\n",
      " Epoch [9/20], Train Loss: 0.4916, Validation Loss: 0.5406, Validation Accuracy: 0.7491, Validation F1: 0.7379\n"
     ]
    },
    {
     "name": "stderr",
     "output_type": "stream",
     "text": [
      "\n",
      "Epoch:  50%|█████     | 10/20 [06:31<06:01, 36.15s/it]\u001b[A"
     ]
    },
    {
     "name": "stdout",
     "output_type": "stream",
     "text": [
      "Epoch: 10 | Time: 0m 32s\n",
      "\n",
      " Epoch [10/20], Train Loss: 0.4752, Validation Loss: 0.5365, Validation Accuracy: 0.7535, Validation F1: 0.7423\n"
     ]
    },
    {
     "name": "stderr",
     "output_type": "stream",
     "text": [
      "\n",
      "Epoch:  55%|█████▌    | 11/20 [07:06<05:21, 35.76s/it]\u001b[A"
     ]
    },
    {
     "name": "stdout",
     "output_type": "stream",
     "text": [
      "Epoch: 11 | Time: 0m 32s\n",
      "\n",
      " Epoch [11/20], Train Loss: 0.4583, Validation Loss: 0.5265, Validation Accuracy: 0.7668, Validation F1: 0.7577\n"
     ]
    },
    {
     "name": "stderr",
     "output_type": "stream",
     "text": [
      "\n",
      "Epoch:  60%|██████    | 12/20 [07:42<04:46, 35.81s/it]\u001b[A"
     ]
    },
    {
     "name": "stdout",
     "output_type": "stream",
     "text": [
      "Epoch: 12 | Time: 0m 33s\n",
      "\n",
      " Epoch [12/20], Train Loss: 0.4421, Validation Loss: 0.5209, Validation Accuracy: 0.7725, Validation F1: 0.7640\n"
     ]
    },
    {
     "name": "stderr",
     "output_type": "stream",
     "text": [
      "\n",
      "Epoch:  65%|██████▌   | 13/20 [08:17<04:08, 35.46s/it]\u001b[A"
     ]
    },
    {
     "name": "stdout",
     "output_type": "stream",
     "text": [
      "Epoch: 13 | Time: 0m 32s\n",
      "\n",
      " Epoch [13/20], Train Loss: 0.4256, Validation Loss: 0.5094, Validation Accuracy: 0.7883, Validation F1: 0.7820\n"
     ]
    },
    {
     "name": "stderr",
     "output_type": "stream",
     "text": [
      "\n",
      "Epoch:  70%|███████   | 14/20 [08:52<03:31, 35.22s/it]\u001b[A"
     ]
    },
    {
     "name": "stdout",
     "output_type": "stream",
     "text": [
      "Epoch: 14 | Time: 0m 32s\n",
      "\n",
      " Epoch [14/20], Train Loss: 0.4107, Validation Loss: 0.5098, Validation Accuracy: 0.7857, Validation F1: 0.7788\n"
     ]
    },
    {
     "name": "stderr",
     "output_type": "stream",
     "text": [
      "\n",
      "Epoch:  75%|███████▌  | 15/20 [09:26<02:55, 35.04s/it]\u001b[A"
     ]
    },
    {
     "name": "stdout",
     "output_type": "stream",
     "text": [
      "Epoch: 15 | Time: 0m 32s\n",
      "\n",
      " Epoch [15/20], Train Loss: 0.3977, Validation Loss: 0.5059, Validation Accuracy: 0.7905, Validation F1: 0.7844\n"
     ]
    },
    {
     "name": "stderr",
     "output_type": "stream",
     "text": [
      "\n",
      "Epoch:  80%|████████  | 16/20 [10:02<02:21, 35.41s/it]\u001b[A"
     ]
    },
    {
     "name": "stdout",
     "output_type": "stream",
     "text": [
      "Epoch: 16 | Time: 0m 34s\n",
      "\n",
      " Epoch [16/20], Train Loss: 0.3861, Validation Loss: 0.4993, Validation Accuracy: 0.7977, Validation F1: 0.7927\n"
     ]
    },
    {
     "name": "stderr",
     "output_type": "stream",
     "text": [
      "\n",
      "Epoch:  85%|████████▌ | 17/20 [10:37<01:45, 35.26s/it]\u001b[A"
     ]
    },
    {
     "name": "stdout",
     "output_type": "stream",
     "text": [
      "Epoch: 17 | Time: 0m 32s\n",
      "\n",
      " Epoch [17/20], Train Loss: 0.3767, Validation Loss: 0.4947, Validation Accuracy: 0.8040, Validation F1: 0.7996\n"
     ]
    },
    {
     "name": "stderr",
     "output_type": "stream",
     "text": [
      "\n",
      "Epoch:  90%|█████████ | 18/20 [11:12<01:10, 35.09s/it]\u001b[A"
     ]
    },
    {
     "name": "stdout",
     "output_type": "stream",
     "text": [
      "Epoch: 18 | Time: 0m 32s\n",
      "\n",
      " Epoch [18/20], Train Loss: 0.3686, Validation Loss: 0.4898, Validation Accuracy: 0.8079, Validation F1: 0.8043\n"
     ]
    },
    {
     "name": "stderr",
     "output_type": "stream",
     "text": [
      "\n",
      "Epoch:  95%|█████████▌| 19/20 [11:48<00:35, 35.27s/it]\u001b[A"
     ]
    },
    {
     "name": "stdout",
     "output_type": "stream",
     "text": [
      "Epoch: 19 | Time: 0m 33s\n",
      "\n",
      " Epoch [19/20], Train Loss: 0.3605, Validation Loss: 0.4912, Validation Accuracy: 0.8063, Validation F1: 0.8024\n"
     ]
    },
    {
     "name": "stderr",
     "output_type": "stream",
     "text": [
      "\n",
      "Epoch: 100%|██████████| 20/20 [12:23<00:00, 37.15s/it]"
     ]
    },
    {
     "name": "stdout",
     "output_type": "stream",
     "text": [
      "Epoch: 20 | Time: 0m 32s\n",
      "\n",
      " Epoch [20/20], Train Loss: 0.3543, Validation Loss: 0.4874, Validation Accuracy: 0.8098, Validation F1: 0.8065\n"
     ]
    },
    {
     "name": "stderr",
     "output_type": "stream",
     "text": [
      "\n"
     ]
    }
   ],
   "source": [
    "#second run -- this time saving model\n",
    "\n",
    "MAX_EPOCH = 20\n",
    "total_step = len(train_iter)\n",
    "loss_list = []\n",
    "acc_list = []\n",
    "\n",
    "for epoch in trange(MAX_EPOCH, desc=\"Epoch\"):\n",
    "    start_time = time.time()\n",
    "    train_loss = train(model, train_iter, optimizer, loss_func)  \n",
    "    val_loss, val_acc, val_f1 = evaluate(model, val_iter, loss_func)\n",
    "    end_time = time.time()\n",
    "    \n",
    "    epoch_mins, epoch_secs = epoch_time(start_time, end_time)\n",
    "\n",
    "    # Create checkpoint at end of each epoch\n",
    "    state_dict_model = model.state_dict() \n",
    "    state = {\n",
    "        'epoch': epoch,\n",
    "        'state_dict': state_dict_model,\n",
    "        'optimizer': optimizer.state_dict()\n",
    "        }\n",
    "\n",
    "    torch.save(state, \"./drive/My Drive/Colab Notebooks/ckpt/CNN_\"+str(epoch+1)+\".pt\")\n",
    "    print(f'Epoch: {epoch+1:02} | Time: {epoch_mins}m {epoch_secs}s')\n",
    "    print('\\n Epoch [{}/{}], Train Loss: {:.4f}, Validation Loss: {:.4f}, Validation Accuracy: {:.4f}, Validation F1: {:.4f}'.format(epoch+1, \n",
    "                                                                MAX_EPOCH, train_loss, val_loss, val_acc, val_f1))"
   ]
  },
  {
   "cell_type": "code",
   "execution_count": 0,
   "metadata": {
    "colab": {},
    "colab_type": "code",
    "id": "LZ4shD5mDwrm"
   },
   "outputs": [],
   "source": []
  },
  {
   "cell_type": "markdown",
   "metadata": {
    "colab_type": "text",
    "id": "Q-59zk_Q797F"
   },
   "source": [
    "#Best model Evaluations and Analysis"
   ]
  },
  {
   "cell_type": "code",
   "execution_count": 0,
   "metadata": {
    "colab": {},
    "colab_type": "code",
    "id": "mVmEAjjEnRVK"
   },
   "outputs": [],
   "source": [
    "#functions I need\n",
    "\n",
    "def init_weights(m):\n",
    "    for name, param in m.named_parameters():\n",
    "        if 'weight' in name:\n",
    "            nn.init.normal_(param.data, mean=0, std=0.1)\n",
    "        else:\n",
    "            nn.init.constant_(param.data, 0)\n",
    "\n",
    "def evaluate_confusion_matrix(model, iterator, criterion):\n",
    "    \n",
    "    model.eval()\n",
    "    \n",
    "    epoch_loss = 0\n",
    "    all_pred=[]\n",
    "    all_label = []\n",
    "    \n",
    "    with torch.no_grad():\n",
    "    \n",
    "        for i, batch in enumerate(iterator):\n",
    "\n",
    "            batch_input, labels = batch.text, batch.label\n",
    "            batch_input = batch_input.to(device)\n",
    "            labels = labels.to(device)\n",
    "\n",
    "            optimizer.zero_grad()\n",
    "\n",
    "            outputs = model(batch_input)\n",
    "\n",
    "            loss = criterion(outputs, labels)\n",
    "\n",
    "            epoch_loss += loss.cpu().item()\n",
    "\n",
    "            # identify the predicted class for each example in the batch\n",
    "            probabilities, predicted = torch.max(outputs.cpu().data, 1)\n",
    "            # put all the true labels and predictions to two lists\n",
    "            all_pred.extend(predicted)\n",
    "            all_label.extend(labels.cpu())\n",
    "  \n",
    "    confuse_matrix = sklearn.metrics.confusion_matrix(all_label,all_pred, labels=[1, 0])\n",
    "    class_report = classification_report(all_label, all_pred, labels=[1,0], target_names=[\"Webtext\", \"GPT-2\"])\n",
    "    accuracy = accuracy_score(all_label, all_pred)\n",
    "    f1score = f1_score(all_label, all_pred, average='macro') \n",
    "    return epoch_loss / len(iterator), accuracy, f1score, confuse_matrix, class_report\n",
    "\n",
    "\n",
    "#credit this function to https://deeplizard.com/learn/video/0LhiS6yu2qQ\n",
    "\n",
    "import itertools\n",
    "import numpy as np\n",
    "import matplotlib.pyplot as plt\n",
    "\n",
    "def plot_confusion_matrix(cm, classes, normalize=False, title='Confusion matrix', cmap=plt.cm.Blues):\n",
    "    if normalize:\n",
    "        cm = cm.astype('float') / cm.sum(axis=1)[:, np.newaxis]\n",
    "        print(\"Normalized confusion matrix\")\n",
    "    else:\n",
    "        print('Confusion matrix, without normalization')\n",
    "\n",
    "    print(cm)\n",
    "    plt.imshow(cm, interpolation='nearest', cmap=cmap)\n",
    "    plt.title(title)\n",
    "    plt.colorbar()\n",
    "    tick_marks = np.arange(len(classes))\n",
    "    plt.xticks(tick_marks, classes, rotation=45)\n",
    "    plt.yticks(tick_marks, classes)\n",
    "\n",
    "    fmt = '.2f' if normalize else 'd'\n",
    "    thresh = cm.max() / 2.\n",
    "    for i, j in itertools.product(range(cm.shape[0]), range(cm.shape[1])):\n",
    "        plt.text(j, i, format(cm[i, j], fmt), horizontalalignment=\"center\", color=\"white\" if cm[i, j] > thresh else \"black\")\n",
    "\n",
    "    plt.tight_layout()\n",
    "    plt.ylabel('True label')\n",
    "    plt.xlabel('Predicted label')"
   ]
  },
  {
   "cell_type": "code",
   "execution_count": 0,
   "metadata": {
    "colab": {},
    "colab_type": "code",
    "id": "-v1tr-NlnRSf"
   },
   "outputs": [],
   "source": [
    "#100k subset\n",
    "# train, val, test = TabularDataset.splits(\n",
    "#                path=path, # the root directory where the data lies\n",
    "#                train='subset_100k_train.csv', validation=\"subset_100k_valid.csv\", test=\"subset_100k_test.csv\", # file names\n",
    "#                format='csv',\n",
    "#                skip_header=True, \n",
    "#                fields=[('text', TEXT), ('label', LABEL)])\n",
    "\n",
    "# TEXT.build_vocab(train, min_freq=2)\n",
    "# LABEL.build_vocab(train)\n",
    "\n",
    "# print(\"Vocabulary size of TEXT:\",len(TEXT.vocab.stoi))\n",
    "# print(\"Vocabulary size of LABEL:\",len(LABEL.vocab.stoi))\n",
    "\n",
    "# train_iter, val_iter = BucketIterator.splits( \n",
    "#  (train, val), \n",
    "#  batch_sizes=(64,256),\n",
    "#  sort_key=lambda x: len(x.text), \n",
    "#  sort=True,\n",
    "#  device=device,\n",
    "#  sort_within_batch=True\n",
    "# )\n",
    "\n",
    "# test_iter = Iterator(\n",
    "#     test,\n",
    "#     batch_size=(256),\n",
    "#     sort_key=lambda x: len(x.text),\n",
    "#     sort=False,\n",
    "#     shuffle=False)"
   ]
  },
  {
   "cell_type": "code",
   "execution_count": 0,
   "metadata": {
    "colab": {
     "base_uri": "https://localhost:8080/",
     "height": 191
    },
    "colab_type": "code",
    "id": "lF-nfyBeDwrr",
    "outputId": "ea84fe82-9df3-4f40-d82a-eb46e5bf0dbc"
   },
   "outputs": [
    {
     "data": {
      "text/plain": [
       "CNN_Text(\n",
       "  (embeddings): Embedding(145549, 300)\n",
       "  (convolution_layers): ModuleList(\n",
       "    (0): Conv2d(1, 32, kernel_size=(2, 300), stride=(1, 1))\n",
       "    (1): Conv2d(1, 32, kernel_size=(3, 300), stride=(1, 1))\n",
       "    (2): Conv2d(1, 32, kernel_size=(4, 300), stride=(1, 1))\n",
       "  )\n",
       "  (dropout): Dropout(p=0.5, inplace=False)\n",
       "  (fc): Linear(in_features=96, out_features=2, bias=True)\n",
       ")"
      ]
     },
     "execution_count": 32,
     "metadata": {
      "tags": []
     },
     "output_type": "execute_result"
    }
   ],
   "source": [
    "# Hyper Parameters\n",
    "\n",
    "# the vocabulary size\n",
    "vocabulary_size = len(TEXT.vocab.stoi) \n",
    "\n",
    "# Dimension of word embedding is 300. Namely, each word is expressed by a vector that has 300 dimensions.\n",
    "embedding_dim = 300 \n",
    "\n",
    "# region size as 2, 3, and 4\n",
    "kernel_sizes = [2,3,4] \n",
    "\n",
    "# the number of kernel in each region size\n",
    "kernels_num = 32  \n",
    "\n",
    "# The dropout rate is set to be 0.5.\n",
    "dropout = 0.5\n",
    "\n",
    "# The output size of labels.\n",
    "output_size = 2\n",
    "\n",
    "# learning rate is set to be 0.01. CHANGED FROM ORIGINAL\n",
    "lr = 0.0001        \n",
    "\n",
    "\n",
    "# employ class CNN_Text and assign to cnn\n",
    "best_model = CNN_Text(vocabulary_size, embedding_dim, output_size, kernels_num, kernel_sizes, dropout).to(device)\n",
    "best_model.apply(init_weights)\n",
    "optimizer = torch.optim.Adam(best_model.parameters(), lr=lr)   # define a optimizer for backpropagation\n",
    "loss_func = nn.CrossEntropyLoss() \n",
    "best_model.load_state_dict(torch.load('./drive/My Drive/Colab Notebooks/ckpt/CNN_20.pt')['state_dict'])\n",
    "best_model = best_model.to(device)\n",
    "\n",
    "best_model"
   ]
  },
  {
   "cell_type": "code",
   "execution_count": 0,
   "metadata": {
    "colab": {
     "base_uri": "https://localhost:8080/",
     "height": 554
    },
    "colab_type": "code",
    "id": "lS0ZfyA9DmhC",
    "outputId": "b8a37579-9615-4d3c-a463-a2ea0359ff4c"
   },
   "outputs": [
    {
     "name": "stdout",
     "output_type": "stream",
     "text": [
      "Overall f-score: 0.8041\n",
      "Classification report:\n",
      "              precision    recall  f1-score   support\n",
      "\n",
      "     Webtext       0.75      0.93      0.83      9994\n",
      "       GPT-2       0.91      0.68      0.78     10006\n",
      "\n",
      "    accuracy                           0.81     20000\n",
      "   macro avg       0.83      0.81      0.80     20000\n",
      "weighted avg       0.83      0.81      0.80     20000\n",
      "\n",
      "Confusion matrix, without normalization\n",
      "[[9306  688]\n",
      " [3170 6836]]\n"
     ]
    },
    {
     "data": {
      "image/png": "[encoded data removed]",
      "text/plain": [
       "<Figure size 432x288 with 2 Axes>"
      ]
     },
     "metadata": {
      "needs_background": "light",
      "tags": []
     },
     "output_type": "display_data"
    }
   ],
   "source": [
    "loss, acc, fscore, cm, cr = evaluate_confusion_matrix(best_model, test_iter, loss_func)\n",
    "print(\"Overall f-score:\", round(fscore, 4))\n",
    "print(\"Classification report:\")\n",
    "print(cr)\n",
    "\n",
    "plot_confusion_matrix(cm, (\"Webtext\", \"GPT-2\"))"
   ]
  },
  {
   "cell_type": "markdown",
   "metadata": {
    "colab_type": "text",
    "id": "dXo1KbmUFcaj"
   },
   "source": [
    "My evaluation:\n",
    "- Overall, the best CNN model did well on the test set, predicting about 80% of the data correctly (16142 out of 20000). In terms of error, the model had a tougher time correclty detecting GPT-2 generated text. Actually, 82% of the wrong predictions were categorizing GPT-2 text as Webtext (3170/3858). I suspect two reasons for this result: (1) there is a subset of GPT-2 data that is (coincidentally?) very well generated and mimics human text, or (2) the shorter lengthed GPT-2 text is harder to categorize. "
   ]
  },
  {
   "cell_type": "code",
   "execution_count": 0,
   "metadata": {
    "colab": {},
    "colab_type": "code",
    "id": "FQC4Q4pBDmXT"
   },
   "outputs": [],
   "source": [
    "test_string1 = \"Scientists can now visualize and experiment with structures and dynamics of complex molecular structures (at atomic-level precision), with real-time multi-user collaboration via the cloud\\n\\nJuly 6, 2018\"\n",
    "\n",
    "test_string2 = \"Pro Tour Amonkhet is now down to just eight players. Take a look at what they brought for this weekend's Standard rounds, and what they will be battling with on Sunday for the title of Pro Tour Champion.\"\n",
    "\n",
    "test_string3 =  long_string\n",
    "\n",
    "test_string4 = long_string2\n",
    "\n",
    "test_string5 = \"Scientists can now visualize and experiment with structures and the dynamics of complex molecular makeup (at atomic-level precision), with real-time multi-user collaboration via the cloud\\n\\nJuly 6, 2018\"\n",
    "\n",
    "test_string6 = \"Summary Focus of this page: This page discusses our current view of the evidence for a wide range of programs and interventions that aim to improve education in developing countries. These include demand-side interventions that lower the cost of schooling or increase its (perceived) returns, provision of school inputs, pedagogy interventions, and governance reforms. We focus mainly on interventions aimed at improving primary and secondary education but consider vocational training interventions briefly. We have not yet completed a report on early childhood (pre-school) interventions. On this page, we focus on evidence from experimental study designs.\"\n",
    "\n",
    "test_string7 = \"If you look on a board game shelf, how many games will you see with actions based on collaboration, stewardship, generosity, and gratitude? Most likely, you'll find mechanics like attacking, stealing, and backstabbing. Indigenous communities looking to facilitate intergenerational gameplay are thus hard-pressed to find options that reinforce their teachings. In response, communities are developing their own games for passing on teachings in many forms. As espoused by game designer Brenda Romero, the mechanic is the message. And the messages in the board game The Gift of Food—inspired by collaborative game development with Indigenous communities working with the Northwest Indian College—produce culturally responsive gameplay, meaning gameplay that is drawn from and that uplifts the cultures involved.\\n\\nThe Gift of Food is an ideal example of how culturally responsive board games can function as important pathways for passing on Indigenous ways of knowing\"\n",
    "\n",
    "test_strings_list = [test_string1, test_string2, test_string3, test_string4, test_string5, test_string6, test_string7]\n",
    "\n",
    "test_strings_list2 = [test_string1, test_string2, test_string3, test_string4]"
   ]
  },
  {
   "cell_type": "code",
   "execution_count": 0,
   "metadata": {
    "colab": {
     "base_uri": "https://localhost:8080/",
     "height": 593
    },
    "colab_type": "code",
    "id": "WozCvOEdjbFA",
    "outputId": "111e9829-963a-46e4-e629-61032bc0a64d"
   },
   "outputs": [
    {
     "name": "stdout",
     "output_type": "stream",
     "text": [
      "GPT-2_string_1 is 38 words long.\n",
      "The text: \"Scientists can now visualize and experiment with structures and dynamics of complex molecular structures (at atomic-level precision), with real-time multi-user collaboration via the cloud\n",
      "\n",
      "July 6, 2018\"\n",
      "The prediction for GPT-2_string_1 is 1 and the model was 0.6872% confident.\n",
      "----------\n",
      "GPT-2_string_2 is 42 words long.\n",
      "The text: \"Pro Tour Amonkhet is now down to just eight players. Take a look at what they brought for this weekend's Standard rounds, and what they will be battling with on Sunday for the title of Pro Tour Champion.\"\n",
      "The prediction for GPT-2_string_2 is 1 and the model was 0.8143% confident.\n",
      "----------\n",
      "GPT-2_string_3 is 169 words long.\n",
      "The text: \"Summary Focus of this page: This page discusses our current view of the evidence for a wide range of programs and interventions that aim to improve education in developing countries. These include demand-side interventions that lower the cost of schooling or increase its (perceived) returns, provision of school inputs, pedagogy interventions, and governance reforms. We focus mainly on interventions aimed at improving primary and secondary education but consider vocational training interventions briefly. We have not yet completed a report on early childhood (pre-school) interventions. On this page, we focus on evidence from experimental study designs.\\n\\nThis page discusses our current view of the evidence for a wide range of programs and interventions that aim to improve education in developing countries. These include demand-side interventions that lower the cost of schooling or increase its (perceived) returns, provision of school inputs, pedagogy interventions, and governance re...\"\n",
      "The prediction for GPT-2_string_3 is 0 and the model was 0.8338% confident.\n",
      "----------\n",
      "GPT-2_string_4 is 169 words long.\n",
      "The text: \"If you look on a board game shelf, how many games will you see with actions based on collaboration, stewardship, generosity, and gratitude? Most likely, you'll find mechanics like attacking, stealing, and backstabbing. Indigenous communities looking to facilitate intergenerational gameplay are thus hard-pressed to find options that reinforce their teachings. In response, communities are developing their own games for passing on teachings in many forms. As espoused by game designer Brenda Romero, the mechanic is the message. And the messages in the board game The Gift of Food—inspired by collaborative game development with Indigenous communities working with the Northwest Indian College—produce culturally responsive gameplay, meaning gameplay that is drawn from and that uplifts the cultures involved.\\n\\nThe Gift of Food is an ideal example of how culturally responsive board games can function as important pathways for passing on Indigenous ways of knowing, as learning and reinforcin...\"\n",
      "The prediction for GPT-2_string_4 is 0 and the model was 0.9623% confident.\n",
      "----------\n",
      "GPT-2_string_5 is 39 words long.\n",
      "The text: \"Scientists can now visualize and experiment with structures and the dynamics of complex molecular makeup (at atomic-level precision), with real-time multi-user collaboration via the cloud\n",
      "\n",
      "July 6, 2018\"\n",
      "The prediction for GPT-2_string_5 is 1 and the model was 0.7422% confident.\n",
      "----------\n",
      "GPT-2_string_6 is 113 words long.\n",
      "The text: \"Summary Focus of this page: This page discusses our current view of the evidence for a wide range of programs and interventions that aim to improve education in developing countries. These include demand-side interventions that lower the cost of schooling or increase its (perceived) returns, provision of school inputs, pedagogy interventions, and governance reforms. We focus mainly on interventions aimed at improving primary and secondary education but consider vocational training interventions briefly. We have not yet completed a report on early childhood (pre-school) interventions. On this page, we focus on evidence from experimental study designs.\"\n",
      "The prediction for GPT-2_string_6 is 1 and the model was 0.6829% confident.\n",
      "----------\n",
      "GPT-2_string_7 is 28 words long.\n",
      "The text: \"If you look on a board game shelf, how many games will you see with actions based on collaboration, stewardship, generosity, and gratitude?\"\n",
      "The prediction for GPT-2_string_7 is 1 and the model was 0.6283% confident.\n",
      "----------\n"
     ]
    }
   ],
   "source": [
    "i=1\n",
    "for each in test_strings_list:\n",
    "  preprocessed = TEXT.preprocess(each)\n",
    "  tensored = TEXT.process([preprocessed], device=device)\n",
    "  best_model.eval()\n",
    "  output = best_model(tensored)\n",
    "  probabilities, predicted = torch.max(output.cpu().data, 1)\n",
    "  print(f\"GPT-2_string_{i} is {len(preprocessed)} words long.\")\n",
    "  print(f'The text: \"{each}\"')\n",
    "  print(f\"The prediction for GPT-2_string_{i} is {predicted.item()} and the model was {round(probabilities.item(), 4)}% confident.\")\n",
    "  print(\"----------\")\n",
    "  i+=1\n"
   ]
  },
  {
   "cell_type": "markdown",
   "metadata": {
    "colab_type": "text",
    "id": "y4RYv4sbn-ou"
   },
   "source": [
    "My analysis:\n",
    "* As previous works have pointed out, short sentences are harder to detect. This CNN model found the same, making wrong predictions for the shorter sentences. Interestingly, the model was not as confident with its prediction for string_1 though.\n",
    "* String_1 analysis: I managed to increase the model's prediction probability to 74% by making the sentence a bit more fluent by adding one \"the\" and removing a repeated word, replacing the second \"structure\" with \"makeup\". I also experimented with the punctuations and but found that they did not make a difference in the model's probability. I also removed the date during my trial-and-error and found it made no difference to the model. The biggest gain in probability comes from removing the repeated word.\n",
    "* String_4 analysis: having established that repeated words appear to be an indicator for synthetic text detection for a CNN model, this string actually has a few repeated sentences. Hence, the model confidently predicted it is GPT-2 generated. I removed the repetition in string_6, which also shortened the sentence, and the model then made the wrong prediction, thinking string_6 is human-generated.\n",
    "* String_5 analysis: I think the model correctly predicted this document because it lacks coherence. Even though the document is more or less grammatically correct, the topics include boardgames, Indigenous communities, cultural values, a specific board game that is oddlyl named. I tried using this example to see how short it needed to be for the model to make a wrong prediction. I simply deleted one sentence at a time to see how the CNN responded and I was surprised to find I had to truncate the document to one sentence (i.e., 28 words long) in order to fool the model. There is definitely some features in this document that makes the model very confident it is synthetically produced.\n",
    "* From my personal analysis as a linguist, I actually agree with the CNN model's predictions, even the wrong ones. When I read the short sentences (string_1 and string_2), even though I think that string_1 is worded a little awkwardly, overall I would be unsure if it was synthetic text or not. \n",
    "\n"
   ]
  },
  {
   "cell_type": "code",
   "execution_count": 0,
   "metadata": {
    "colab": {},
    "colab_type": "code",
    "id": "IxzlnHyYjbCi"
   },
   "outputs": [],
   "source": []
  },
  {
   "cell_type": "markdown",
   "metadata": {
    "colab_type": "text",
    "id": "j5Z2f70gt00t"
   },
   "source": [
    "# Model interpretability from tutorial"
   ]
  },
  {
   "cell_type": "code",
   "execution_count": 0,
   "metadata": {
    "colab": {},
    "colab_type": "code",
    "id": "KStK0kkWjbAE"
   },
   "outputs": [],
   "source": [
    "def S(model, token_tensor, erase_tokenid, gold_label_id):\n",
    "    '''\n",
    "    input:\n",
    "    i) trained_model - trained CNN model on IMDB dataset\n",
    "    ii) token_tensor - tensor containing token ids for a test sample 'e'\n",
    "    iii) erase_tokenid - id corresponding to the token to be erased. -1 if no token needs to be erased (useful in computing S(e,c))\n",
    "    iv) gold_label_id - gold sentiment label for the test sample 'e'\n",
    "    \n",
    "    returns:\n",
    "    probability by model to the gold label. S(e,c) if erase_tokenid == -1 else S(e,c,~d)\n",
    "    '''\n",
    "    \n",
    "        # input_embeddings = self.embeddings(x)  \n",
    "        # # (batch size, word_sequence, embedding_dim) word embedding\n",
    "\n",
    "        # input_embeddings = input_embeddings.permute(1,0,2)\n",
    "        # input_embeddings = input_embeddings.unsqueeze(1)\n",
    "        # #  [batch size, number of channel is one, sequence length, embeeding size]\n",
    "\n",
    "        # # convolutional layers\n",
    "        # convolute_outputs = [F.relu(conv(input_embeddings)).squeeze(3) for conv in self.convolution_layers]  \n",
    "        \n",
    "        # # to get the maximum value of filtered tensor\n",
    "        # max_pooling_outputs = [F.max_pool1d(i, i.size(2)).squeeze(2) for i in convolute_outputs] \n",
    "        \n",
    "        # concat_list = torch.cat(max_pooling_outputs, 1) # concatenate representations\n",
    "        \n",
    "        # drop_output = self.dropout(concat_list)  # add drop layer\n",
    "        \n",
    "        # fc1_output = self.fc(drop_output)  # get the fc1 using a fully connected layer\n",
    "        \n",
    "        # final_output = F.softmax(fc1_output,dim=1)\n",
    "\n",
    "    #token_tensor = [1, sent len]  note: batch_size is 1\n",
    "    embedded = model.embeddings(token_tensor.permute(1,0).to(device))\n",
    "    #embedded = [batch size, sent len, emb dim]\n",
    "\n",
    "\n",
    "    # check if word embedings corresponding to a token has to be erased\n",
    "    if erase_tokenid != -1:\n",
    "        embedded[0, erase_tokenid, :].fill_(0.0)\n",
    "    #embedded = [batch size, sent len, emb dim]\n",
    "\n",
    "    #embedded = [batch size, sent len, emb dim]\n",
    "    embedded = embedded.unsqueeze(1)\n",
    "    #print(\"embedded\", embedded.shape)\n",
    "    #embedded = [batch size, 1, sent len, emb dim]\n",
    "\n",
    "    conved = [F.relu(conv(embedded)).squeeze(3) for conv in model.convolution_layers]\n",
    "    #conved_n = [batch size, n_filters, sent len - filter_sizes[n] + 1]\n",
    "\n",
    "    pooled = [F.max_pool1d(conv, conv.shape[2]).squeeze(2) for conv in conved]\n",
    "    #pooled_n = [batch size, n_filters]\n",
    "\n",
    "    cat = model.dropout(torch.cat(pooled, dim = 1))\n",
    "    #cat = [batch size, n_filters * len(filter_sizes)]\n",
    "\n",
    "    probability =  torch.softmax(model.fc(cat), dim=1)\n",
    "\n",
    "    return probability[0,gold_label_id].item() \n"
   ]
  },
  {
   "cell_type": "code",
   "execution_count": 0,
   "metadata": {
    "colab": {},
    "colab_type": "code",
    "id": "MvrhixIsja9O"
   },
   "outputs": [],
   "source": [
    "import matplotlib\n",
    "import matplotlib.pyplot as plt\n",
    "import numpy as np\n",
    "import altair as alt\n",
    "\n",
    "def interpret_sentence(sentence, min_len = 5, true_label = 1):\n",
    "  '''\n",
    "  input:\n",
    "  i) sentence - the sample sentence to be analyzed\n",
    "  ii) min_len - minimum length of the sentence (alternatively, maximum width of the filter used by the orginal author)\n",
    "  iii) true_label - gold sentiment label for the sample sentence to be analyzed\n",
    "  returns:\n",
    "  None (actually the code plots the heatmap and returns nothing)\n",
    "  '''\n",
    "  # # tokenize sentence\n",
    "  # token_ids = [TEXT.vocab.stoi[tok.text] for tok in nlp.tokenizer(sentence)]\n",
    "  # # pad the sentence if necessary\n",
    "  # if len(token_ids) < 5: # where 5 in min_len\n",
    "  #   token_ids += [TEXT.vocab.stoi['pad']] * (5 - len(token_ids))\n",
    "  \n",
    "  # # convert to tensor\n",
    "  # token_tensor = torch.tensor(token_ids, device=device).unsqueeze(0)\n",
    "  \n",
    "  \n",
    "  preprocessed = TEXT.preprocess(sentence) #tokenize\n",
    "  token_tensor = TEXT.process([preprocessed], device=device) #tensored\n",
    "    \n",
    "  # get prediction\n",
    "  #prediction = round(torch.sigmoid(best_model(token_tensor)).item())\n",
    "  best_model.eval()\n",
    "  output = best_model(token_tensor)\n",
    "  probabilities, prediction = torch.max(output.cpu().data, 1)\n",
    "\n",
    "   \n",
    "  # get word importance\n",
    "  tokens, imp_scores = [None], []\n",
    "  s_ec = S(best_model, token_tensor, -1, true_label)\n",
    "  for t_i, token_id in enumerate(token_tensor):\n",
    "    if token_id != TEXT.vocab.stoi['pad']: # we don't need to calculate importance score for pad tokens (seriously?)\n",
    "      s_e = S(best_model, token_tensor, t_i, true_label)\n",
    "      tokens.append(TEXT.vocab.itos[token_id])\n",
    "      imp_scores.append([((s_ec-s_e)/s_ec)])\n",
    "  \n",
    "  # plot the heatmap and other values\n",
    "  print('sentence = %s'%sentence)\n",
    "  print('predicted label = %d; gold label = %d'%(prediction, true_label))\n",
    "  fig, ax = plt.subplots()\n",
    "  print(imp_scores)\n",
    "  print(tokens)\n",
    "  im = ax.imshow(np.array(imp_scores).transpose(), cmap=plt.cm.Blues)\n",
    "  ax.set_xticklabels(tokens)\n",
    "  ax.set_yticklabels(['importance'])\n",
    "  plt.colorbar(im)\n",
    "  fig.tight_layout()\n",
    "  plt.show()\n"
   ]
  },
  {
   "cell_type": "code",
   "execution_count": 0,
   "metadata": {
    "colab": {
     "base_uri": "https://localhost:8080/",
     "height": 421
    },
    "colab_type": "code",
    "id": "TLH_d4j3Fal4",
    "outputId": "a789575a-0d96-4e9c-e16a-9651677746e4"
   },
   "outputs": [
    {
     "name": "stdout",
     "output_type": "stream",
     "text": [
      "sentence = Scientists can now visualize and experiment with structures and dynamics of complex molecular structures (at atomic-level precision), with real-time multi-user collaboration via the cloud\n",
      "\n",
      "July 6, 2018\n",
      "predicted label = 1; gold label = 0\n",
      "[[0.008620489224602864], [0.04814444467313244], [0.020235361872070413], [-0.030916996930244824], [0.07057787931524716], [0.0], [0.059435247375614696], [0.0], [0.10718939787213444], [0.0050027404444627395], [0.11418191443867388], [-0.06894962079719111], [-0.10529538484759089], [0.025544830088631842], [0.040149893545738745], [0.01628782594709227], [0.0], [-0.13650748457690054], [0.03581920994396382], [0.07279234139153595], [0.025779807002578838], [0.0], [-0.0014086227570472112], [0.020426983353800908], [0.0445092584334415], [-0.0014086227570472112], [0.0], [-0.11097494646795204], [-0.05713102526163812], [-0.1278541214531445], [-0.07711721250679394], [-0.4254217959478012], [-0.08736405451616862], [0.0022820203212151565], [-0.0849986583637679], [0.007047973405110872], [0.0028255354538808735], [0.004840657828637988]]\n",
      "[None, 'scientists', 'can', 'now', 'visualize', 'and', 'experiment', 'with', 'structures', 'and', 'dynamics', 'of', 'complex', 'molecular', 'structures', '(', 'at', 'atomic', '-', 'level', 'precision', ')', ',', 'with', 'real', '-', 'time', 'multi', '-', 'user', 'collaboration', 'via', 'the', 'cloud', '\\n\\n', 'july', '6', ',', '2018']\n"
     ]
    },
    {
     "data": {
      "image/png": "[encoded data removed]",
      "text/plain": [
       "<Figure size 432x288 with 2 Axes>"
      ]
     },
     "metadata": {
      "needs_background": "light",
      "tags": []
     },
     "output_type": "display_data"
    }
   ],
   "source": [
    "interpret_sentence(test_string1, true_label=0)"
   ]
  },
  {
   "cell_type": "code",
   "execution_count": 0,
   "metadata": {
    "colab": {
     "base_uri": "https://localhost:8080/",
     "height": 421
    },
    "colab_type": "code",
    "id": "5yFOEAEQFaif",
    "outputId": "dd28e2b7-97aa-4076-aed0-ff4b68fc929c"
   },
   "outputs": [
    {
     "name": "stdout",
     "output_type": "stream",
     "text": [
      "sentence = Scientists can now visualize and experiment with structures and the dynamics of complex molecular makeup (at atomic-level precision), with real-time multi-user collaboration via the cloud\n",
      "\n",
      "July 6, 2018\n",
      "predicted label = 1; gold label = 0\n",
      "[[0.009303396618317056], [0.05219832048721685], [0.02181824529246744], [-0.0313161947998082], [0.08369086135488343], [0.0], [0.013724128396121242], [0.0], [0.16428638971336568], [-0.003032967408980922], [0.008631651616465163], [-0.27410455963537345], [-0.04913795614733954], [-0.32479489293464364], [-0.15775476486959755], [-0.06638935269722207], [0.00891822120166407], [0.0], [-0.15960469349885859], [0.03857302912027877], [0.08049958130091263], [0.02778407149373616], [0.0], [-0.0015216278539625673], [0.022024358067945313], [0.04286579295503528], [-0.0015216278539625673], [0.0], [-0.12644030405275747], [-0.08254348482487465], [-0.12078844436758404], [-0.10494319240598692], [-0.4762267467104031], [-0.09501429033163465], [-0.02110153233230882], [-0.1005877739866488], [0.0076072144788965025], [0.0030506540352558042], [0.005225646671608132]]\n",
      "[None, 'scientists', 'can', 'now', 'visualize', 'and', 'experiment', 'with', 'structures', 'and', 'the', 'dynamics', 'of', 'complex', 'molecular', 'makeup', '(', 'at', 'atomic', '-', 'level', 'precision', ')', ',', 'with', 'real', '-', 'time', 'multi', '-', 'user', 'collaboration', 'via', 'the', 'cloud', '\\n\\n', 'july', '6', ',', '2018']\n"
     ]
    },
    {
     "data": {
      "image/png": "[encoded data removed]",
      "text/plain": [
       "<Figure size 432x288 with 2 Axes>"
      ]
     },
     "metadata": {
      "needs_background": "light",
      "tags": []
     },
     "output_type": "display_data"
    }
   ],
   "source": [
    "interpret_sentence(test_string5, true_label=0)"
   ]
  },
  {
   "cell_type": "code",
   "execution_count": 0,
   "metadata": {
    "colab": {},
    "colab_type": "code",
    "id": "Q9O2hib2A1N0"
   },
   "outputs": [],
   "source": [
    "import numpy as np\n",
    "import altair as alt\n",
    "\n",
    "def interpret_sentence_altair(sentence, min_len = 5, true_label = 1):\n",
    "  '''\n",
    "  input:\n",
    "  i) sentence - the sample sentence to be analyzed\n",
    "  ii) min_len - minimum length of the sentence (alternatively, maximum width of the filter used by the orginal author)\n",
    "  iii) true_label - gold sentiment label for the sample sentence to be analyzed\n",
    "  returns:\n",
    "  None (actually the code plots the heatmap and returns nothing)\n",
    "  '''\n",
    "  # # tokenize sentence\n",
    "  # token_ids = [TEXT.vocab.stoi[tok.text] for tok in nlp.tokenizer(sentence)]\n",
    "  # # pad the sentence if necessary\n",
    "  # if len(token_ids) < 5: # where 5 in min_len\n",
    "  #   token_ids += [TEXT.vocab.stoi['pad']] * (5 - len(token_ids))\n",
    "  \n",
    "  # # convert to tensor\n",
    "  # token_tensor = torch.tensor(token_ids, device=device).unsqueeze(0)\n",
    "  \n",
    "  \n",
    "  preprocessed = TEXT.preprocess(sentence) #tokenize\n",
    "  token_tensor = TEXT.process([preprocessed], device=device) #tensored\n",
    "    \n",
    "  # get prediction\n",
    "  #prediction = round(torch.sigmoid(best_model(token_tensor)).item())\n",
    "  best_model.eval()\n",
    "  output = best_model(token_tensor)\n",
    "  probabilities, prediction = torch.max(output.cpu().data, 1)\n",
    "\n",
    "   \n",
    "  # get word importance\n",
    "  tokens, imp_scores = [None], []\n",
    "  s_ec = S(best_model, token_tensor, -1, true_label)\n",
    "  for t_i, token_id in enumerate(token_tensor):\n",
    "    if token_id != TEXT.vocab.stoi['pad']: # we don't need to calculate importance score for pad tokens (seriously?)\n",
    "      s_e = S(best_model, token_tensor, t_i, true_label)\n",
    "      tokens.append(TEXT.vocab.itos[token_id])\n",
    "      imp_scores.append([((s_ec-s_e)/s_ec)])\n",
    "\n",
    "  tokens_scores = pd.DataFrame(\n",
    "    {'tokens': tokens[1:],\n",
    "     'scores': imp_scores,\n",
    "    })\n",
    "  \n",
    "  tokens_scores[\"tokens_index\"] = list(tokens_scores[\"tokens\"].index)\n",
    "  tokens_scores['tokens_index'] = tokens_scores.tokens_index.astype(str)\n",
    "  tokens_scores[\"tokens_index\"] = tokens_scores[\"tokens\"].str.cat(tokens_scores[\"tokens_index\"], sep=\"_\")\n",
    "  \n",
    "  viz = alt.Chart(tokens_scores).mark_rect().encode(\n",
    "    x=alt.X('tokens_index:O', sort=None),\n",
    "    color=\"scores:Q\" \n",
    "  )\n",
    "  \n",
    "  print('sentence = %s'%sentence)\n",
    "  print('predicted label = %d; gold label = %d'%(prediction, true_label))\n",
    "\n",
    "  return viz\n",
    "\n",
    "  # # plot the heatmap and other values\n",
    "  # print('sentence = %s'%sentence)\n",
    "  # print('predicted label = %d; gold label = %d'%(prediction, true_label))\n",
    "  # fig, ax = plt.subplots()\n",
    "  # im = ax.imshow(np.array(imp_scores[:15]).transpose(), cmap=plt.cm.Blues)\n",
    "  # ax.set_xticklabels(tokens[:15])\n",
    "  # ax.set_yticklabels(['importance'])\n",
    "  # plt.colorbar(im)\n",
    "  # fig.tight_layout()\n",
    "  # plt.show()\n"
   ]
  },
  {
   "cell_type": "code",
   "execution_count": 0,
   "metadata": {
    "colab": {},
    "colab_type": "code",
    "id": "ASlz_ZF03bIJ"
   },
   "outputs": [],
   "source": []
  },
  {
   "cell_type": "code",
   "execution_count": 0,
   "metadata": {
    "colab": {},
    "colab_type": "code",
    "id": "VT2TxDNd3a3f"
   },
   "outputs": [],
   "source": []
  },
  {
   "cell_type": "code",
   "execution_count": 0,
   "metadata": {
    "colab": {
     "base_uri": "https://localhost:8080/",
     "height": 349
    },
    "colab_type": "code",
    "id": "fwBBgBo68a1W",
    "outputId": "0b15c699-2572-4c83-a376-6397cff247ac"
   },
   "outputs": [
    {
     "name": "stdout",
     "output_type": "stream",
     "text": [
      "       tokens                  scores  tokens_index\n",
      "0  scientists  [0.009303396618317056]  scientists_0\n",
      "1         can   [0.05219832048721685]         can_1\n",
      "2         now   [0.02181824529246744]         now_2\n",
      "3   visualize   [-0.0313161947998082]   visualize_3\n",
      "4         and   [0.08369086135488343]         and_4\n",
      "sentence = Scientists can now visualize and experiment with structures and the dynamics of complex molecular makeup (at atomic-level precision), with real-time multi-user collaboration via the cloud\n",
      "\n",
      "July 6, 2018\n",
      "predicted label = 1; gold label = 0\n"
     ]
    },
    {
     "data": {
      "text/html": [
       "\n",
       "<div id=\"altair-viz-2509b7d081e34643bda459f588c0551b\"></div>\n",
       "<script type=\"text/javascript\">\n",
       "  (function(spec, embedOpt){\n",
       "    let outputDiv = document.currentScript.previousElementSibling;\n",
       "    if (outputDiv.id !== \"altair-viz-2509b7d081e34643bda459f588c0551b\") {\n",
       "      outputDiv = document.getElementById(\"altair-viz-2509b7d081e34643bda459f588c0551b\");\n",
       "    }\n",
       "    const paths = {\n",
       "      \"vega\": \"https://cdn.jsdelivr.net/npm//vega@5?noext\",\n",
       "      \"vega-lib\": \"https://cdn.jsdelivr.net/npm//vega-lib?noext\",\n",
       "      \"vega-lite\": \"https://cdn.jsdelivr.net/npm//vega-lite@4.8.1?noext\",\n",
       "      \"vega-embed\": \"https://cdn.jsdelivr.net/npm//vega-embed@6?noext\",\n",
       "    };\n",
       "\n",
       "    function loadScript(lib) {\n",
       "      return new Promise(function(resolve, reject) {\n",
       "        var s = document.createElement('script');\n",
       "        s.src = paths[lib];\n",
       "        s.async = true;\n",
       "        s.onload = () => resolve(paths[lib]);\n",
       "        s.onerror = () => reject(`Error loading script: ${paths[lib]}`);\n",
       "        document.getElementsByTagName(\"head\")[0].appendChild(s);\n",
       "      });\n",
       "    }\n",
       "\n",
       "    function showError(err) {\n",
       "      outputDiv.innerHTML = `<div class=\"error\" style=\"color:red;\">${err}</div>`;\n",
       "      throw err;\n",
       "    }\n",
       "\n",
       "    function displayChart(vegaEmbed) {\n",
       "      vegaEmbed(outputDiv, spec, embedOpt)\n",
       "        .catch(err => showError(`Javascript Error: ${err.message}<br>This usually means there's a typo in your chart specification. See the javascript console for the full traceback.`));\n",
       "    }\n",
       "\n",
       "    if(typeof define === \"function\" && define.amd) {\n",
       "      requirejs.config({paths});\n",
       "      require([\"vega-embed\"], displayChart, err => showError(`Error loading script: ${err.message}`));\n",
       "    } else if (typeof vegaEmbed === \"function\") {\n",
       "      displayChart(vegaEmbed);\n",
       "    } else {\n",
       "      loadScript(\"vega\")\n",
       "        .then(() => loadScript(\"vega-lite\"))\n",
       "        .then(() => loadScript(\"vega-embed\"))\n",
       "        .catch(showError)\n",
       "        .then(() => displayChart(vegaEmbed));\n",
       "    }\n",
       "  })({\"config\": {\"view\": {\"continuousWidth\": 400, \"continuousHeight\": 300}}, \"data\": {\"name\": \"data-df8e57c09da94775fedfa90630729833\"}, \"mark\": \"rect\", \"encoding\": {\"color\": {\"type\": \"quantitative\", \"field\": \"scores\"}, \"x\": {\"type\": \"ordinal\", \"field\": \"tokens_index\", \"sort\": null}}, \"$schema\": \"https://vega.github.io/schema/vega-lite/v4.8.1.json\", \"datasets\": {\"data-df8e57c09da94775fedfa90630729833\": [{\"tokens\": \"scientists\", \"scores\": [0.009303396618317056], \"tokens_index\": \"scientists_0\"}, {\"tokens\": \"can\", \"scores\": [0.05219832048721685], \"tokens_index\": \"can_1\"}, {\"tokens\": \"now\", \"scores\": [0.02181824529246744], \"tokens_index\": \"now_2\"}, {\"tokens\": \"visualize\", \"scores\": [-0.0313161947998082], \"tokens_index\": \"visualize_3\"}, {\"tokens\": \"and\", \"scores\": [0.08369086135488343], \"tokens_index\": \"and_4\"}, {\"tokens\": \"experiment\", \"scores\": [0.0], \"tokens_index\": \"experiment_5\"}, {\"tokens\": \"with\", \"scores\": [0.013724128396121242], \"tokens_index\": \"with_6\"}, {\"tokens\": \"structures\", \"scores\": [0.0], \"tokens_index\": \"structures_7\"}, {\"tokens\": \"and\", \"scores\": [0.16428638971336568], \"tokens_index\": \"and_8\"}, {\"tokens\": \"the\", \"scores\": [-0.003032967408980922], \"tokens_index\": \"the_9\"}, {\"tokens\": \"dynamics\", \"scores\": [0.008631651616465163], \"tokens_index\": \"dynamics_10\"}, {\"tokens\": \"of\", \"scores\": [-0.27410455963537345], \"tokens_index\": \"of_11\"}, {\"tokens\": \"complex\", \"scores\": [-0.04913795614733954], \"tokens_index\": \"complex_12\"}, {\"tokens\": \"molecular\", \"scores\": [-0.32479489293464364], \"tokens_index\": \"molecular_13\"}, {\"tokens\": \"makeup\", \"scores\": [-0.15775476486959755], \"tokens_index\": \"makeup_14\"}, {\"tokens\": \"(\", \"scores\": [-0.06638935269722207], \"tokens_index\": \"(_15\"}, {\"tokens\": \"at\", \"scores\": [0.00891822120166407], \"tokens_index\": \"at_16\"}, {\"tokens\": \"atomic\", \"scores\": [0.0], \"tokens_index\": \"atomic_17\"}, {\"tokens\": \"-\", \"scores\": [-0.15960469349885859], \"tokens_index\": \"-_18\"}, {\"tokens\": \"level\", \"scores\": [0.03857302912027877], \"tokens_index\": \"level_19\"}, {\"tokens\": \"precision\", \"scores\": [0.08049958130091263], \"tokens_index\": \"precision_20\"}, {\"tokens\": \")\", \"scores\": [0.02778407149373616], \"tokens_index\": \")_21\"}, {\"tokens\": \",\", \"scores\": [0.0], \"tokens_index\": \",_22\"}, {\"tokens\": \"with\", \"scores\": [-0.0015216278539625673], \"tokens_index\": \"with_23\"}, {\"tokens\": \"real\", \"scores\": [0.022024358067945313], \"tokens_index\": \"real_24\"}, {\"tokens\": \"-\", \"scores\": [0.04286579295503528], \"tokens_index\": \"-_25\"}, {\"tokens\": \"time\", \"scores\": [-0.0015216278539625673], \"tokens_index\": \"time_26\"}, {\"tokens\": \"multi\", \"scores\": [0.0], \"tokens_index\": \"multi_27\"}, {\"tokens\": \"-\", \"scores\": [-0.12644030405275747], \"tokens_index\": \"-_28\"}, {\"tokens\": \"user\", \"scores\": [-0.08254348482487465], \"tokens_index\": \"user_29\"}, {\"tokens\": \"collaboration\", \"scores\": [-0.12078844436758404], \"tokens_index\": \"collaboration_30\"}, {\"tokens\": \"via\", \"scores\": [-0.10494319240598692], \"tokens_index\": \"via_31\"}, {\"tokens\": \"the\", \"scores\": [-0.4762267467104031], \"tokens_index\": \"the_32\"}, {\"tokens\": \"cloud\", \"scores\": [-0.09501429033163465], \"tokens_index\": \"cloud_33\"}, {\"tokens\": \"\\n\\n\", \"scores\": [-0.02110153233230882], \"tokens_index\": \"\\n\\n_34\"}, {\"tokens\": \"july\", \"scores\": [-0.1005877739866488], \"tokens_index\": \"july_35\"}, {\"tokens\": \"6\", \"scores\": [0.0076072144788965025], \"tokens_index\": \"6_36\"}, {\"tokens\": \",\", \"scores\": [0.0030506540352558042], \"tokens_index\": \",_37\"}, {\"tokens\": \"2018\", \"scores\": [0.005225646671608132], \"tokens_index\": \"2018_38\"}]}}, {\"mode\": \"vega-lite\"});\n",
       "</script>"
      ],
      "text/plain": [
       "alt.Chart(...)"
      ]
     },
     "execution_count": 62,
     "metadata": {
      "tags": []
     },
     "output_type": "execute_result"
    }
   ],
   "source": [
    "interpret_sentence_altair(test_string5, true_label=0)"
   ]
  },
  {
   "cell_type": "code",
   "execution_count": 0,
   "metadata": {
    "colab": {
     "base_uri": "https://localhost:8080/",
     "height": 349
    },
    "colab_type": "code",
    "id": "MqKhlWGY8emn",
    "outputId": "6fddd75a-b95d-43b6-fedc-2599d2b4af49"
   },
   "outputs": [
    {
     "name": "stdout",
     "output_type": "stream",
     "text": [
      "       tokens                   scores  tokens_index\n",
      "0  scientists   [0.008620489224602864]  scientists_0\n",
      "1         can    [0.04814444467313244]         can_1\n",
      "2         now   [0.020235361872070413]         now_2\n",
      "3   visualize  [-0.030916996930244824]   visualize_3\n",
      "4         and    [0.07057787931524716]         and_4\n",
      "sentence = Scientists can now visualize and experiment with structures and dynamics of complex molecular structures (at atomic-level precision), with real-time multi-user collaboration via the cloud\n",
      "\n",
      "July 6, 2018\n",
      "predicted label = 1; gold label = 0\n"
     ]
    },
    {
     "data": {
      "text/html": [
       "\n",
       "<div id=\"altair-viz-14709419a1534f6e97d04f28b8629dad\"></div>\n",
       "<script type=\"text/javascript\">\n",
       "  (function(spec, embedOpt){\n",
       "    let outputDiv = document.currentScript.previousElementSibling;\n",
       "    if (outputDiv.id !== \"altair-viz-14709419a1534f6e97d04f28b8629dad\") {\n",
       "      outputDiv = document.getElementById(\"altair-viz-14709419a1534f6e97d04f28b8629dad\");\n",
       "    }\n",
       "    const paths = {\n",
       "      \"vega\": \"https://cdn.jsdelivr.net/npm//vega@5?noext\",\n",
       "      \"vega-lib\": \"https://cdn.jsdelivr.net/npm//vega-lib?noext\",\n",
       "      \"vega-lite\": \"https://cdn.jsdelivr.net/npm//vega-lite@4.8.1?noext\",\n",
       "      \"vega-embed\": \"https://cdn.jsdelivr.net/npm//vega-embed@6?noext\",\n",
       "    };\n",
       "\n",
       "    function loadScript(lib) {\n",
       "      return new Promise(function(resolve, reject) {\n",
       "        var s = document.createElement('script');\n",
       "        s.src = paths[lib];\n",
       "        s.async = true;\n",
       "        s.onload = () => resolve(paths[lib]);\n",
       "        s.onerror = () => reject(`Error loading script: ${paths[lib]}`);\n",
       "        document.getElementsByTagName(\"head\")[0].appendChild(s);\n",
       "      });\n",
       "    }\n",
       "\n",
       "    function showError(err) {\n",
       "      outputDiv.innerHTML = `<div class=\"error\" style=\"color:red;\">${err}</div>`;\n",
       "      throw err;\n",
       "    }\n",
       "\n",
       "    function displayChart(vegaEmbed) {\n",
       "      vegaEmbed(outputDiv, spec, embedOpt)\n",
       "        .catch(err => showError(`Javascript Error: ${err.message}<br>This usually means there's a typo in your chart specification. See the javascript console for the full traceback.`));\n",
       "    }\n",
       "\n",
       "    if(typeof define === \"function\" && define.amd) {\n",
       "      requirejs.config({paths});\n",
       "      require([\"vega-embed\"], displayChart, err => showError(`Error loading script: ${err.message}`));\n",
       "    } else if (typeof vegaEmbed === \"function\") {\n",
       "      displayChart(vegaEmbed);\n",
       "    } else {\n",
       "      loadScript(\"vega\")\n",
       "        .then(() => loadScript(\"vega-lite\"))\n",
       "        .then(() => loadScript(\"vega-embed\"))\n",
       "        .catch(showError)\n",
       "        .then(() => displayChart(vegaEmbed));\n",
       "    }\n",
       "  })({\"config\": {\"view\": {\"continuousWidth\": 400, \"continuousHeight\": 300}}, \"data\": {\"name\": \"data-1c06ae7a03e4788515a637d811dcfce9\"}, \"mark\": \"rect\", \"encoding\": {\"color\": {\"type\": \"quantitative\", \"field\": \"scores\"}, \"x\": {\"type\": \"ordinal\", \"field\": \"tokens_index\", \"sort\": null}}, \"$schema\": \"https://vega.github.io/schema/vega-lite/v4.8.1.json\", \"datasets\": {\"data-1c06ae7a03e4788515a637d811dcfce9\": [{\"tokens\": \"scientists\", \"scores\": [0.008620489224602864], \"tokens_index\": \"scientists_0\"}, {\"tokens\": \"can\", \"scores\": [0.04814444467313244], \"tokens_index\": \"can_1\"}, {\"tokens\": \"now\", \"scores\": [0.020235361872070413], \"tokens_index\": \"now_2\"}, {\"tokens\": \"visualize\", \"scores\": [-0.030916996930244824], \"tokens_index\": \"visualize_3\"}, {\"tokens\": \"and\", \"scores\": [0.07057787931524716], \"tokens_index\": \"and_4\"}, {\"tokens\": \"experiment\", \"scores\": [0.0], \"tokens_index\": \"experiment_5\"}, {\"tokens\": \"with\", \"scores\": [0.059435247375614696], \"tokens_index\": \"with_6\"}, {\"tokens\": \"structures\", \"scores\": [0.0], \"tokens_index\": \"structures_7\"}, {\"tokens\": \"and\", \"scores\": [0.10718939787213444], \"tokens_index\": \"and_8\"}, {\"tokens\": \"dynamics\", \"scores\": [0.0050027404444627395], \"tokens_index\": \"dynamics_9\"}, {\"tokens\": \"of\", \"scores\": [0.11418191443867388], \"tokens_index\": \"of_10\"}, {\"tokens\": \"complex\", \"scores\": [-0.06894962079719111], \"tokens_index\": \"complex_11\"}, {\"tokens\": \"molecular\", \"scores\": [-0.10529538484759089], \"tokens_index\": \"molecular_12\"}, {\"tokens\": \"structures\", \"scores\": [0.025544830088631842], \"tokens_index\": \"structures_13\"}, {\"tokens\": \"(\", \"scores\": [0.040149893545738745], \"tokens_index\": \"(_14\"}, {\"tokens\": \"at\", \"scores\": [0.01628782594709227], \"tokens_index\": \"at_15\"}, {\"tokens\": \"atomic\", \"scores\": [0.0], \"tokens_index\": \"atomic_16\"}, {\"tokens\": \"-\", \"scores\": [-0.13650748457690054], \"tokens_index\": \"-_17\"}, {\"tokens\": \"level\", \"scores\": [0.03581920994396382], \"tokens_index\": \"level_18\"}, {\"tokens\": \"precision\", \"scores\": [0.07279234139153595], \"tokens_index\": \"precision_19\"}, {\"tokens\": \")\", \"scores\": [0.025779807002578838], \"tokens_index\": \")_20\"}, {\"tokens\": \",\", \"scores\": [0.0], \"tokens_index\": \",_21\"}, {\"tokens\": \"with\", \"scores\": [-0.0014086227570472112], \"tokens_index\": \"with_22\"}, {\"tokens\": \"real\", \"scores\": [0.020426983353800908], \"tokens_index\": \"real_23\"}, {\"tokens\": \"-\", \"scores\": [0.0445092584334415], \"tokens_index\": \"-_24\"}, {\"tokens\": \"time\", \"scores\": [-0.0014086227570472112], \"tokens_index\": \"time_25\"}, {\"tokens\": \"multi\", \"scores\": [0.0], \"tokens_index\": \"multi_26\"}, {\"tokens\": \"-\", \"scores\": [-0.11097494646795204], \"tokens_index\": \"-_27\"}, {\"tokens\": \"user\", \"scores\": [-0.05713102526163812], \"tokens_index\": \"user_28\"}, {\"tokens\": \"collaboration\", \"scores\": [-0.1278541214531445], \"tokens_index\": \"collaboration_29\"}, {\"tokens\": \"via\", \"scores\": [-0.07711721250679394], \"tokens_index\": \"via_30\"}, {\"tokens\": \"the\", \"scores\": [-0.4254217959478012], \"tokens_index\": \"the_31\"}, {\"tokens\": \"cloud\", \"scores\": [-0.08736405451616862], \"tokens_index\": \"cloud_32\"}, {\"tokens\": \"\\n\\n\", \"scores\": [0.0022820203212151565], \"tokens_index\": \"\\n\\n_33\"}, {\"tokens\": \"july\", \"scores\": [-0.0849986583637679], \"tokens_index\": \"july_34\"}, {\"tokens\": \"6\", \"scores\": [0.007047973405110872], \"tokens_index\": \"6_35\"}, {\"tokens\": \",\", \"scores\": [0.0028255354538808735], \"tokens_index\": \",_36\"}, {\"tokens\": \"2018\", \"scores\": [0.004840657828637988], \"tokens_index\": \"2018_37\"}]}}, {\"mode\": \"vega-lite\"});\n",
       "</script>"
      ],
      "text/plain": [
       "alt.Chart(...)"
      ]
     },
     "execution_count": 63,
     "metadata": {
      "tags": []
     },
     "output_type": "execute_result"
    }
   ],
   "source": [
    "interpret_sentence_altair(test_string1, true_label=0)"
   ]
  },
  {
   "cell_type": "code",
   "execution_count": 0,
   "metadata": {
    "colab": {
     "base_uri": "https://localhost:8080/",
     "height": 299
    },
    "colab_type": "code",
    "id": "IR713TNy_fFL",
    "outputId": "11ce6b13-eb38-41a2-e778-9d3e38b87787"
   },
   "outputs": [
    {
     "name": "stdout",
     "output_type": "stream",
     "text": [
      "     tokens                   scores tokens_index\n",
      "0       pro    [-0.0915214968375158]        pro_0\n",
      "1      tour  [-0.021189719206575735]       tour_1\n",
      "2  amonkhet    [0.22872924905561923]   amonkhet_2\n",
      "3        is    [-0.6577880485728306]         is_3\n",
      "4       now    [0.05153265514849988]        now_4\n",
      "sentence = Pro Tour Amonkhet is now down to just eight players. Take a look at what they brought for this weekend's Standard rounds, and what they will be battling with on Sunday for the title of Pro Tour Champion.\n",
      "predicted label = 1; gold label = 0\n"
     ]
    },
    {
     "data": {
      "text/html": [
       "\n",
       "<div id=\"altair-viz-f5b5a977a4614e48963a077ff9883402\"></div>\n",
       "<script type=\"text/javascript\">\n",
       "  (function(spec, embedOpt){\n",
       "    let outputDiv = document.currentScript.previousElementSibling;\n",
       "    if (outputDiv.id !== \"altair-viz-f5b5a977a4614e48963a077ff9883402\") {\n",
       "      outputDiv = document.getElementById(\"altair-viz-f5b5a977a4614e48963a077ff9883402\");\n",
       "    }\n",
       "    const paths = {\n",
       "      \"vega\": \"https://cdn.jsdelivr.net/npm//vega@5?noext\",\n",
       "      \"vega-lib\": \"https://cdn.jsdelivr.net/npm//vega-lib?noext\",\n",
       "      \"vega-lite\": \"https://cdn.jsdelivr.net/npm//vega-lite@4.8.1?noext\",\n",
       "      \"vega-embed\": \"https://cdn.jsdelivr.net/npm//vega-embed@6?noext\",\n",
       "    };\n",
       "\n",
       "    function loadScript(lib) {\n",
       "      return new Promise(function(resolve, reject) {\n",
       "        var s = document.createElement('script');\n",
       "        s.src = paths[lib];\n",
       "        s.async = true;\n",
       "        s.onload = () => resolve(paths[lib]);\n",
       "        s.onerror = () => reject(`Error loading script: ${paths[lib]}`);\n",
       "        document.getElementsByTagName(\"head\")[0].appendChild(s);\n",
       "      });\n",
       "    }\n",
       "\n",
       "    function showError(err) {\n",
       "      outputDiv.innerHTML = `<div class=\"error\" style=\"color:red;\">${err}</div>`;\n",
       "      throw err;\n",
       "    }\n",
       "\n",
       "    function displayChart(vegaEmbed) {\n",
       "      vegaEmbed(outputDiv, spec, embedOpt)\n",
       "        .catch(err => showError(`Javascript Error: ${err.message}<br>This usually means there's a typo in your chart specification. See the javascript console for the full traceback.`));\n",
       "    }\n",
       "\n",
       "    if(typeof define === \"function\" && define.amd) {\n",
       "      requirejs.config({paths});\n",
       "      require([\"vega-embed\"], displayChart, err => showError(`Error loading script: ${err.message}`));\n",
       "    } else if (typeof vegaEmbed === \"function\") {\n",
       "      displayChart(vegaEmbed);\n",
       "    } else {\n",
       "      loadScript(\"vega\")\n",
       "        .then(() => loadScript(\"vega-lite\"))\n",
       "        .then(() => loadScript(\"vega-embed\"))\n",
       "        .catch(showError)\n",
       "        .then(() => displayChart(vegaEmbed));\n",
       "    }\n",
       "  })({\"config\": {\"view\": {\"continuousWidth\": 400, \"continuousHeight\": 300}}, \"data\": {\"name\": \"data-ba2fed630d5f3175f4d6e5706b695d5e\"}, \"mark\": \"rect\", \"encoding\": {\"color\": {\"type\": \"quantitative\", \"field\": \"scores\"}, \"x\": {\"type\": \"ordinal\", \"field\": \"tokens_index\", \"sort\": null}}, \"$schema\": \"https://vega.github.io/schema/vega-lite/v4.8.1.json\", \"datasets\": {\"data-ba2fed630d5f3175f4d6e5706b695d5e\": [{\"tokens\": \"pro\", \"scores\": [-0.0915214968375158], \"tokens_index\": \"pro_0\"}, {\"tokens\": \"tour\", \"scores\": [-0.021189719206575735], \"tokens_index\": \"tour_1\"}, {\"tokens\": \"amonkhet\", \"scores\": [0.22872924905561923], \"tokens_index\": \"amonkhet_2\"}, {\"tokens\": \"is\", \"scores\": [-0.6577880485728306], \"tokens_index\": \"is_3\"}, {\"tokens\": \"now\", \"scores\": [0.05153265514849988], \"tokens_index\": \"now_4\"}, {\"tokens\": \"down\", \"scores\": [0.07634096293945276], \"tokens_index\": \"down_5\"}, {\"tokens\": \"to\", \"scores\": [-0.0009238420404208773], \"tokens_index\": \"to_6\"}, {\"tokens\": \"just\", \"scores\": [0.021245879816935664], \"tokens_index\": \"just_7\"}, {\"tokens\": \"eight\", \"scores\": [-0.003639849386870548], \"tokens_index\": \"eight_8\"}, {\"tokens\": \"players\", \"scores\": [0.006287100100350987], \"tokens_index\": \"players_9\"}, {\"tokens\": \".\", \"scores\": [0.006507490381292034], \"tokens_index\": \"._10\"}, {\"tokens\": \"take\", \"scores\": [-0.041575298702240616], \"tokens_index\": \"take_11\"}, {\"tokens\": \"a\", \"scores\": [-0.009175520520605648], \"tokens_index\": \"a_12\"}, {\"tokens\": \"look\", \"scores\": [-0.05086418342632996], \"tokens_index\": \"look_13\"}, {\"tokens\": \"at\", \"scores\": [0.07704987030108185], \"tokens_index\": \"at_14\"}, {\"tokens\": \"what\", \"scores\": [-0.25302954401114486], \"tokens_index\": \"what_15\"}, {\"tokens\": \"they\", \"scores\": [-0.030946582273850047], \"tokens_index\": \"they_16\"}, {\"tokens\": \"brought\", \"scores\": [-0.003066208866765531], \"tokens_index\": \"brought_17\"}, {\"tokens\": \"for\", \"scores\": [-0.0018382972359673086], \"tokens_index\": \"for_18\"}, {\"tokens\": \"this\", \"scores\": [0.001791122323264966], \"tokens_index\": \"this_19\"}, {\"tokens\": \"weekend\", \"scores\": [0.0], \"tokens_index\": \"weekend_20\"}, {\"tokens\": \"'s\", \"scores\": [0.05670095566103766], \"tokens_index\": \"'s_21\"}, {\"tokens\": \"standard\", \"scores\": [-0.07007472249437832], \"tokens_index\": \"standard_22\"}, {\"tokens\": \"rounds\", \"scores\": [-0.021451427650853016], \"tokens_index\": \"rounds_23\"}, {\"tokens\": \",\", \"scores\": [-0.04172492661412815], \"tokens_index\": \",_24\"}, {\"tokens\": \"and\", \"scores\": [0.019716064790731125], \"tokens_index\": \"and_25\"}, {\"tokens\": \"what\", \"scores\": [-0.008591851320079216], \"tokens_index\": \"what_26\"}, {\"tokens\": \"they\", \"scores\": [0.005423430142458609], \"tokens_index\": \"they_27\"}, {\"tokens\": \"will\", \"scores\": [-0.17669532034493526], \"tokens_index\": \"will_28\"}, {\"tokens\": \"be\", \"scores\": [-0.2866620475901803], \"tokens_index\": \"be_29\"}, {\"tokens\": \"battling\", \"scores\": [-0.012330142233966387], \"tokens_index\": \"battling_30\"}, {\"tokens\": \"with\", \"scores\": [0.058457980470869815], \"tokens_index\": \"with_31\"}, {\"tokens\": \"on\", \"scores\": [0.014476680991366349], \"tokens_index\": \"on_32\"}, {\"tokens\": \"sunday\", \"scores\": [-0.026924760507088592], \"tokens_index\": \"sunday_33\"}, {\"tokens\": \"for\", \"scores\": [0.1468088097063506], \"tokens_index\": \"for_34\"}, {\"tokens\": \"the\", \"scores\": [0.016367047136081652], \"tokens_index\": \"the_35\"}, {\"tokens\": \"title\", \"scores\": [-0.07296209993186915], \"tokens_index\": \"title_36\"}, {\"tokens\": \"of\", \"scores\": [-0.031292290945337115], \"tokens_index\": \"of_37\"}, {\"tokens\": \"pro\", \"scores\": [-0.1371272018569586], \"tokens_index\": \"pro_38\"}, {\"tokens\": \"tour\", \"scores\": [-0.03929959054101281], \"tokens_index\": \"tour_39\"}, {\"tokens\": \"champion\", \"scores\": [0.0009783980619133823], \"tokens_index\": \"champion_40\"}, {\"tokens\": \".\", \"scores\": [0.03915060446467225], \"tokens_index\": \"._41\"}]}}, {\"mode\": \"vega-lite\"});\n",
       "</script>"
      ],
      "text/plain": [
       "alt.Chart(...)"
      ]
     },
     "execution_count": 64,
     "metadata": {
      "tags": []
     },
     "output_type": "execute_result"
    }
   ],
   "source": [
    "interpret_sentence_altair(test_string2, true_label=0)"
   ]
  },
  {
   "cell_type": "code",
   "execution_count": 0,
   "metadata": {
    "colab": {
     "base_uri": "https://localhost:8080/",
     "height": 385
    },
    "colab_type": "code",
    "id": "0oVX4Rqi_5A0",
    "outputId": "e8e0a3f0-0f83-40f6-dfdf-6975daaf147a"
   },
   "outputs": [
    {
     "name": "stdout",
     "output_type": "stream",
     "text": [
      "    tokens                    scores tokens_index\n",
      "0  summary  [-0.0008603524635640553]    summary_0\n",
      "1    focus  [-0.0021342603074121207]      focus_1\n",
      "2       of                     [0.0]         of_2\n",
      "3     this                     [0.0]       this_3\n",
      "4     page                     [0.0]       page_4\n",
      "sentence = Summary Focus of this page: This page discusses our current view of the evidence for a wide range of programs and interventions that aim to improve education in developing countries. These include demand-side interventions that lower the cost of schooling or increase its (perceived) returns, provision of school inputs, pedagogy interventions, and governance reforms. We focus mainly on interventions aimed at improving primary and secondary education but consider vocational training interventions briefly. We have not yet completed a report on early childhood (pre-school) interventions. On this page, we focus on evidence from experimental study designs.\\n\\nThis page discusses our current view of the evidence for a wide range of programs and interventions that aim to improve education in developing countries. These include demand-side interventions that lower the cost of schooling or increase its (perceived) returns, provision of school inputs, pedagogy interventions, and governance re...\n",
      "predicted label = 0; gold label = 0\n"
     ]
    },
    {
     "data": {
      "text/html": [
       "\n",
       "<div id=\"altair-viz-b2fdb36005d74c92bf0b0f331750386d\"></div>\n",
       "<script type=\"text/javascript\">\n",
       "  (function(spec, embedOpt){\n",
       "    let outputDiv = document.currentScript.previousElementSibling;\n",
       "    if (outputDiv.id !== \"altair-viz-b2fdb36005d74c92bf0b0f331750386d\") {\n",
       "      outputDiv = document.getElementById(\"altair-viz-b2fdb36005d74c92bf0b0f331750386d\");\n",
       "    }\n",
       "    const paths = {\n",
       "      \"vega\": \"https://cdn.jsdelivr.net/npm//vega@5?noext\",\n",
       "      \"vega-lib\": \"https://cdn.jsdelivr.net/npm//vega-lib?noext\",\n",
       "      \"vega-lite\": \"https://cdn.jsdelivr.net/npm//vega-lite@4.8.1?noext\",\n",
       "      \"vega-embed\": \"https://cdn.jsdelivr.net/npm//vega-embed@6?noext\",\n",
       "    };\n",
       "\n",
       "    function loadScript(lib) {\n",
       "      return new Promise(function(resolve, reject) {\n",
       "        var s = document.createElement('script');\n",
       "        s.src = paths[lib];\n",
       "        s.async = true;\n",
       "        s.onload = () => resolve(paths[lib]);\n",
       "        s.onerror = () => reject(`Error loading script: ${paths[lib]}`);\n",
       "        document.getElementsByTagName(\"head\")[0].appendChild(s);\n",
       "      });\n",
       "    }\n",
       "\n",
       "    function showError(err) {\n",
       "      outputDiv.innerHTML = `<div class=\"error\" style=\"color:red;\">${err}</div>`;\n",
       "      throw err;\n",
       "    }\n",
       "\n",
       "    function displayChart(vegaEmbed) {\n",
       "      vegaEmbed(outputDiv, spec, embedOpt)\n",
       "        .catch(err => showError(`Javascript Error: ${err.message}<br>This usually means there's a typo in your chart specification. See the javascript console for the full traceback.`));\n",
       "    }\n",
       "\n",
       "    if(typeof define === \"function\" && define.amd) {\n",
       "      requirejs.config({paths});\n",
       "      require([\"vega-embed\"], displayChart, err => showError(`Error loading script: ${err.message}`));\n",
       "    } else if (typeof vegaEmbed === \"function\") {\n",
       "      displayChart(vegaEmbed);\n",
       "    } else {\n",
       "      loadScript(\"vega\")\n",
       "        .then(() => loadScript(\"vega-lite\"))\n",
       "        .then(() => loadScript(\"vega-embed\"))\n",
       "        .catch(showError)\n",
       "        .then(() => displayChart(vegaEmbed));\n",
       "    }\n",
       "  })({\"config\": {\"view\": {\"continuousWidth\": 400, \"continuousHeight\": 300}}, \"data\": {\"name\": \"data-fdf692776fea451a3113005e689f8e24\"}, \"mark\": \"rect\", \"encoding\": {\"color\": {\"type\": \"quantitative\", \"field\": \"scores\"}, \"x\": {\"type\": \"ordinal\", \"field\": \"tokens_index\", \"sort\": null}}, \"$schema\": \"https://vega.github.io/schema/vega-lite/v4.8.1.json\", \"datasets\": {\"data-fdf692776fea451a3113005e689f8e24\": [{\"tokens\": \"summary\", \"scores\": [-0.0008603524635640553], \"tokens_index\": \"summary_0\"}, {\"tokens\": \"focus\", \"scores\": [-0.0021342603074121207], \"tokens_index\": \"focus_1\"}, {\"tokens\": \"of\", \"scores\": [0.0], \"tokens_index\": \"of_2\"}, {\"tokens\": \"this\", \"scores\": [0.0], \"tokens_index\": \"this_3\"}, {\"tokens\": \"page\", \"scores\": [0.0], \"tokens_index\": \"page_4\"}, {\"tokens\": \":\", \"scores\": [0.0012844165112468118], \"tokens_index\": \":_5\"}, {\"tokens\": \"this\", \"scores\": [-0.0010038994304802683], \"tokens_index\": \"this_6\"}, {\"tokens\": \"page\", \"scores\": [-0.011196234494264663], \"tokens_index\": \"page_7\"}, {\"tokens\": \"discusses\", \"scores\": [0.0], \"tokens_index\": \"discusses_8\"}, {\"tokens\": \"our\", \"scores\": [-0.0468331272943477], \"tokens_index\": \"our_9\"}, {\"tokens\": \"current\", \"scores\": [0.0], \"tokens_index\": \"current_10\"}, {\"tokens\": \"view\", \"scores\": [0.00032176538749495746], \"tokens_index\": \"view_11\"}, {\"tokens\": \"of\", \"scores\": [0.01493367422401891], \"tokens_index\": \"of_12\"}, {\"tokens\": \"the\", \"scores\": [0.0], \"tokens_index\": \"the_13\"}, {\"tokens\": \"evidence\", \"scores\": [0.0], \"tokens_index\": \"evidence_14\"}, {\"tokens\": \"for\", \"scores\": [0.0], \"tokens_index\": \"for_15\"}, {\"tokens\": \"a\", \"scores\": [0.0], \"tokens_index\": \"a_16\"}, {\"tokens\": \"wide\", \"scores\": [0.010689888295725052], \"tokens_index\": \"wide_17\"}, {\"tokens\": \"range\", \"scores\": [0.0019967182932951913], \"tokens_index\": \"range_18\"}, {\"tokens\": \"of\", \"scores\": [0.00615486215666593], \"tokens_index\": \"of_19\"}, {\"tokens\": \"programs\", \"scores\": [0.0], \"tokens_index\": \"programs_20\"}, {\"tokens\": \"and\", \"scores\": [0.0008665718789633135], \"tokens_index\": \"and_21\"}, {\"tokens\": \"interventions\", \"scores\": [0.0060221098072817635], \"tokens_index\": \"interventions_22\"}, {\"tokens\": \"that\", \"scores\": [0.00077699799970733], \"tokens_index\": \"that_23\"}, {\"tokens\": \"aim\", \"scores\": [0.0], \"tokens_index\": \"aim_24\"}, {\"tokens\": \"to\", \"scores\": [-0.014887207327357786], \"tokens_index\": \"to_25\"}, {\"tokens\": \"improve\", \"scores\": [0.0009964647270144884], \"tokens_index\": \"improve_26\"}, {\"tokens\": \"education\", \"scores\": [0.013355658413407115], \"tokens_index\": \"education_27\"}, {\"tokens\": \"in\", \"scores\": [0.030886117285449648], \"tokens_index\": \"in_28\"}, {\"tokens\": \"developing\", \"scores\": [0.0], \"tokens_index\": \"developing_29\"}, {\"tokens\": \"countries\", \"scores\": [0.0], \"tokens_index\": \"countries_30\"}, {\"tokens\": \".\", \"scores\": [0.001740578461392407], \"tokens_index\": \"._31\"}, {\"tokens\": \"these\", \"scores\": [-0.010414875755024519], \"tokens_index\": \"these_32\"}, {\"tokens\": \"include\", \"scores\": [0.0], \"tokens_index\": \"include_33\"}, {\"tokens\": \"demand\", \"scores\": [0.0], \"tokens_index\": \"demand_34\"}, {\"tokens\": \"-\", \"scores\": [-0.07569300193523902], \"tokens_index\": \"-_35\"}, {\"tokens\": \"side\", \"scores\": [0.0], \"tokens_index\": \"side_36\"}, {\"tokens\": \"interventions\", \"scores\": [0.00788507492572624], \"tokens_index\": \"interventions_37\"}, {\"tokens\": \"that\", \"scores\": [-0.0015163220693524867], \"tokens_index\": \"that_38\"}, {\"tokens\": \"lower\", \"scores\": [0.0005768329063978697], \"tokens_index\": \"lower_39\"}, {\"tokens\": \"the\", \"scores\": [0.0], \"tokens_index\": \"the_40\"}, {\"tokens\": \"cost\", \"scores\": [-0.007725800701478569], \"tokens_index\": \"cost_41\"}, {\"tokens\": \"of\", \"scores\": [-0.05901510338562813], \"tokens_index\": \"of_42\"}, {\"tokens\": \"schooling\", \"scores\": [0.0], \"tokens_index\": \"schooling_43\"}, {\"tokens\": \"or\", \"scores\": [0.007512624877103994], \"tokens_index\": \"or_44\"}, {\"tokens\": \"increase\", \"scores\": [0.0], \"tokens_index\": \"increase_45\"}, {\"tokens\": \"its\", \"scores\": [0.00039782812295255235], \"tokens_index\": \"its_46\"}, {\"tokens\": \"(\", \"scores\": [0.0], \"tokens_index\": \"(_47\"}, {\"tokens\": \"perceived\", \"scores\": [0.0], \"tokens_index\": \"perceived_48\"}, {\"tokens\": \")\", \"scores\": [0.00029552946276475316], \"tokens_index\": \")_49\"}, {\"tokens\": \"returns\", \"scores\": [0.0], \"tokens_index\": \"returns_50\"}, {\"tokens\": \",\", \"scores\": [0.0034845168368510798], \"tokens_index\": \",_51\"}, {\"tokens\": \"provision\", \"scores\": [0.0], \"tokens_index\": \"provision_52\"}, {\"tokens\": \"of\", \"scores\": [-0.03757427644071864], \"tokens_index\": \"of_53\"}, {\"tokens\": \"school\", \"scores\": [0.0], \"tokens_index\": \"school_54\"}, {\"tokens\": \"inputs\", \"scores\": [0.0], \"tokens_index\": \"inputs_55\"}, {\"tokens\": \",\", \"scores\": [-0.0008128847414363833], \"tokens_index\": \",_56\"}, {\"tokens\": \"pedagogy\", \"scores\": [0.0], \"tokens_index\": \"pedagogy_57\"}, {\"tokens\": \"interventions\", \"scores\": [-0.013955724768135547], \"tokens_index\": \"interventions_58\"}, {\"tokens\": \",\", \"scores\": [-0.059033618656759254], \"tokens_index\": \",_59\"}, {\"tokens\": \"and\", \"scores\": [-0.07826162049513266], \"tokens_index\": \"and_60\"}, {\"tokens\": \"governance\", \"scores\": [0.0], \"tokens_index\": \"governance_61\"}, {\"tokens\": \"reforms\", \"scores\": [-0.0032005683544849457], \"tokens_index\": \"reforms_62\"}, {\"tokens\": \".\", \"scores\": [0.004810968017692879], \"tokens_index\": \"._63\"}, {\"tokens\": \"we\", \"scores\": [-0.13335770581636153], \"tokens_index\": \"we_64\"}, {\"tokens\": \"focus\", \"scores\": [-4.375037039478204e-05], \"tokens_index\": \"focus_65\"}, {\"tokens\": \"mainly\", \"scores\": [0.07793749601903799], \"tokens_index\": \"mainly_66\"}, {\"tokens\": \"on\", \"scores\": [-0.11802906297072306], \"tokens_index\": \"on_67\"}, {\"tokens\": \"interventions\", \"scores\": [0.0004830412626757226], \"tokens_index\": \"interventions_68\"}, {\"tokens\": \"aimed\", \"scores\": [-0.00892943630006835], \"tokens_index\": \"aimed_69\"}, {\"tokens\": \"at\", \"scores\": [-0.04483605156338589], \"tokens_index\": \"at_70\"}, {\"tokens\": \"improving\", \"scores\": [0.007342770497924252], \"tokens_index\": \"improving_71\"}, {\"tokens\": \"primary\", \"scores\": [0.0002731538648340885], \"tokens_index\": \"primary_72\"}, {\"tokens\": \"and\", \"scores\": [0.000978378381083312], \"tokens_index\": \"and_73\"}, {\"tokens\": \"secondary\", \"scores\": [0.0], \"tokens_index\": \"secondary_74\"}, {\"tokens\": \"education\", \"scores\": [0.0], \"tokens_index\": \"education_75\"}, {\"tokens\": \"but\", \"scores\": [0.0], \"tokens_index\": \"but_76\"}, {\"tokens\": \"consider\", \"scores\": [-0.004677071867775514], \"tokens_index\": \"consider_77\"}, {\"tokens\": \"vocational\", \"scores\": [0.09237847816338232], \"tokens_index\": \"vocational_78\"}, {\"tokens\": \"training\", \"scores\": [-0.0013984391268998795], \"tokens_index\": \"training_79\"}, {\"tokens\": \"interventions\", \"scores\": [-0.09493673103094388], \"tokens_index\": \"interventions_80\"}, {\"tokens\": \"briefly\", \"scores\": [0.08959153667671471], \"tokens_index\": \"briefly_81\"}, {\"tokens\": \".\", \"scores\": [0.005895290923163555], \"tokens_index\": \"._82\"}, {\"tokens\": \"we\", \"scores\": [-0.02851008614033303], \"tokens_index\": \"we_83\"}, {\"tokens\": \"have\", \"scores\": [0.02086142048731193], \"tokens_index\": \"have_84\"}, {\"tokens\": \"not\", \"scores\": [-0.08383593239366784], \"tokens_index\": \"not_85\"}, {\"tokens\": \"yet\", \"scores\": [-0.03652698407751021], \"tokens_index\": \"yet_86\"}, {\"tokens\": \"completed\", \"scores\": [-0.014624991055122393], \"tokens_index\": \"completed_87\"}, {\"tokens\": \"a\", \"scores\": [-0.021130499562746503], \"tokens_index\": \"a_88\"}, {\"tokens\": \"report\", \"scores\": [-0.044197453428195387], \"tokens_index\": \"report_89\"}, {\"tokens\": \"on\", \"scores\": [0.04076984066787085], \"tokens_index\": \"on_90\"}, {\"tokens\": \"early\", \"scores\": [-0.004494635682730607], \"tokens_index\": \"early_91\"}, {\"tokens\": \"childhood\", \"scores\": [0.0013213040784424124], \"tokens_index\": \"childhood_92\"}, {\"tokens\": \"(\", \"scores\": [-0.01726759921200722], \"tokens_index\": \"(_93\"}, {\"tokens\": \"pre\", \"scores\": [0.0], \"tokens_index\": \"pre_94\"}, {\"tokens\": \"-\", \"scores\": [-0.024350369551229146], \"tokens_index\": \"-_95\"}, {\"tokens\": \"school\", \"scores\": [0.0], \"tokens_index\": \"school_96\"}, {\"tokens\": \")\", \"scores\": [0.0], \"tokens_index\": \")_97\"}, {\"tokens\": \"interventions\", \"scores\": [0.0], \"tokens_index\": \"interventions_98\"}, {\"tokens\": \".\", \"scores\": [0.0025700483105601454], \"tokens_index\": \"._99\"}, {\"tokens\": \"on\", \"scores\": [-0.020873716343043795], \"tokens_index\": \"on_100\"}, {\"tokens\": \"this\", \"scores\": [0.0031382312254257137], \"tokens_index\": \"this_101\"}, {\"tokens\": \"page\", \"scores\": [-0.0005868411610633427], \"tokens_index\": \"page_102\"}, {\"tokens\": \",\", \"scores\": [0.008936871003534129], \"tokens_index\": \",_103\"}, {\"tokens\": \"we\", \"scores\": [0.0], \"tokens_index\": \"we_104\"}, {\"tokens\": \"focus\", \"scores\": [0.0], \"tokens_index\": \"focus_105\"}, {\"tokens\": \"on\", \"scores\": [-0.016213658508199585], \"tokens_index\": \"on_106\"}, {\"tokens\": \"evidence\", \"scores\": [-0.009476744855203074], \"tokens_index\": \"evidence_107\"}, {\"tokens\": \"from\", \"scores\": [-0.0026676287935485073], \"tokens_index\": \"from_108\"}, {\"tokens\": \"experimental\", \"scores\": [-0.047350339597952686], \"tokens_index\": \"experimental_109\"}, {\"tokens\": \"study\", \"scores\": [-0.11952372431747814], \"tokens_index\": \"study_110\"}, {\"tokens\": \"<unk>\", \"scores\": [0.34939131582312927], \"tokens_index\": \"<unk>_111\"}, {\"tokens\": \"page\", \"scores\": [-0.1482785837719153], \"tokens_index\": \"page_112\"}, {\"tokens\": \"discusses\", \"scores\": [-0.0611976177780345], \"tokens_index\": \"discusses_113\"}, {\"tokens\": \"our\", \"scores\": [-0.15281761321284063], \"tokens_index\": \"our_114\"}, {\"tokens\": \"current\", \"scores\": [0.0], \"tokens_index\": \"current_115\"}, {\"tokens\": \"view\", \"scores\": [0.00032176538749495746], \"tokens_index\": \"view_116\"}, {\"tokens\": \"of\", \"scores\": [0.01493367422401891], \"tokens_index\": \"of_117\"}, {\"tokens\": \"the\", \"scores\": [0.0], \"tokens_index\": \"the_118\"}, {\"tokens\": \"evidence\", \"scores\": [0.0], \"tokens_index\": \"evidence_119\"}, {\"tokens\": \"for\", \"scores\": [0.0], \"tokens_index\": \"for_120\"}, {\"tokens\": \"a\", \"scores\": [0.0], \"tokens_index\": \"a_121\"}, {\"tokens\": \"wide\", \"scores\": [0.010689888295725052], \"tokens_index\": \"wide_122\"}, {\"tokens\": \"range\", \"scores\": [0.0019967182932951913], \"tokens_index\": \"range_123\"}, {\"tokens\": \"of\", \"scores\": [0.00615486215666593], \"tokens_index\": \"of_124\"}, {\"tokens\": \"programs\", \"scores\": [0.0], \"tokens_index\": \"programs_125\"}, {\"tokens\": \"and\", \"scores\": [0.0008665718789633135], \"tokens_index\": \"and_126\"}, {\"tokens\": \"interventions\", \"scores\": [0.0060221098072817635], \"tokens_index\": \"interventions_127\"}, {\"tokens\": \"that\", \"scores\": [0.00077699799970733], \"tokens_index\": \"that_128\"}, {\"tokens\": \"aim\", \"scores\": [0.0], \"tokens_index\": \"aim_129\"}, {\"tokens\": \"to\", \"scores\": [-0.014887207327357786], \"tokens_index\": \"to_130\"}, {\"tokens\": \"improve\", \"scores\": [0.0009964647270144884], \"tokens_index\": \"improve_131\"}, {\"tokens\": \"education\", \"scores\": [0.013355658413407115], \"tokens_index\": \"education_132\"}, {\"tokens\": \"in\", \"scores\": [0.030886117285449648], \"tokens_index\": \"in_133\"}, {\"tokens\": \"developing\", \"scores\": [0.0], \"tokens_index\": \"developing_134\"}, {\"tokens\": \"countries\", \"scores\": [0.0], \"tokens_index\": \"countries_135\"}, {\"tokens\": \".\", \"scores\": [0.001740578461392407], \"tokens_index\": \"._136\"}, {\"tokens\": \"these\", \"scores\": [-0.010414875755024519], \"tokens_index\": \"these_137\"}, {\"tokens\": \"include\", \"scores\": [0.0], \"tokens_index\": \"include_138\"}, {\"tokens\": \"demand\", \"scores\": [0.0], \"tokens_index\": \"demand_139\"}, {\"tokens\": \"-\", \"scores\": [-0.07569300193523902], \"tokens_index\": \"-_140\"}, {\"tokens\": \"side\", \"scores\": [0.0], \"tokens_index\": \"side_141\"}, {\"tokens\": \"interventions\", \"scores\": [0.00788507492572624], \"tokens_index\": \"interventions_142\"}, {\"tokens\": \"that\", \"scores\": [-0.0015163220693524867], \"tokens_index\": \"that_143\"}, {\"tokens\": \"lower\", \"scores\": [0.0005768329063978697], \"tokens_index\": \"lower_144\"}, {\"tokens\": \"the\", \"scores\": [0.0], \"tokens_index\": \"the_145\"}, {\"tokens\": \"cost\", \"scores\": [-0.007725800701478569], \"tokens_index\": \"cost_146\"}, {\"tokens\": \"of\", \"scores\": [-0.05901510338562813], \"tokens_index\": \"of_147\"}, {\"tokens\": \"schooling\", \"scores\": [0.0], \"tokens_index\": \"schooling_148\"}, {\"tokens\": \"or\", \"scores\": [0.007512624877103994], \"tokens_index\": \"or_149\"}, {\"tokens\": \"increase\", \"scores\": [0.0], \"tokens_index\": \"increase_150\"}, {\"tokens\": \"its\", \"scores\": [0.00039782812295255235], \"tokens_index\": \"its_151\"}, {\"tokens\": \"(\", \"scores\": [0.0], \"tokens_index\": \"(_152\"}, {\"tokens\": \"perceived\", \"scores\": [0.0], \"tokens_index\": \"perceived_153\"}, {\"tokens\": \")\", \"scores\": [0.00029552946276475316], \"tokens_index\": \")_154\"}, {\"tokens\": \"returns\", \"scores\": [0.0], \"tokens_index\": \"returns_155\"}, {\"tokens\": \",\", \"scores\": [0.0034845168368510798], \"tokens_index\": \",_156\"}, {\"tokens\": \"provision\", \"scores\": [0.0], \"tokens_index\": \"provision_157\"}, {\"tokens\": \"of\", \"scores\": [-0.03757427644071864], \"tokens_index\": \"of_158\"}, {\"tokens\": \"school\", \"scores\": [0.0], \"tokens_index\": \"school_159\"}, {\"tokens\": \"inputs\", \"scores\": [0.0], \"tokens_index\": \"inputs_160\"}, {\"tokens\": \",\", \"scores\": [-0.0008128847414363833], \"tokens_index\": \",_161\"}, {\"tokens\": \"pedagogy\", \"scores\": [0.0], \"tokens_index\": \"pedagogy_162\"}, {\"tokens\": \"interventions\", \"scores\": [-0.013955724768135547], \"tokens_index\": \"interventions_163\"}, {\"tokens\": \",\", \"scores\": [-0.059033618656759254], \"tokens_index\": \",_164\"}, {\"tokens\": \"and\", \"scores\": [-0.10548972070035192], \"tokens_index\": \"and_165\"}, {\"tokens\": \"governance\", \"scores\": [0.033629880301989074], \"tokens_index\": \"governance_166\"}, {\"tokens\": \"re\", \"scores\": [0.0769150813174266], \"tokens_index\": \"re_167\"}, {\"tokens\": \"...\", \"scores\": [0.03286181824394735], \"tokens_index\": \"..._168\"}]}}, {\"mode\": \"vega-lite\"});\n",
       "</script>"
      ],
      "text/plain": [
       "alt.Chart(...)"
      ]
     },
     "execution_count": 65,
     "metadata": {
      "tags": []
     },
     "output_type": "execute_result"
    }
   ],
   "source": [
    "interpret_sentence_altair(test_string3, true_label=0)"
   ]
  },
  {
   "cell_type": "code",
   "execution_count": 0,
   "metadata": {
    "colab": {
     "base_uri": "https://localhost:8080/",
     "height": 385
    },
    "colab_type": "code",
    "id": "r8uzRn2CACPH",
    "outputId": "6ef4bb8f-17d2-4613-b773-54625e5ccad8"
   },
   "outputs": [
    {
     "name": "stdout",
     "output_type": "stream",
     "text": [
      "  tokens                    scores tokens_index\n",
      "0     if                     [0.0]         if_0\n",
      "1    you                     [0.0]        you_1\n",
      "2   look   [7.023970817940782e-05]       look_2\n",
      "3     on   [0.0013304664300649736]         on_3\n",
      "4      a  [-0.0022591295206592075]          a_4\n",
      "sentence = If you look on a board game shelf, how many games will you see with actions based on collaboration, stewardship, generosity, and gratitude? Most likely, you'll find mechanics like attacking, stealing, and backstabbing. Indigenous communities looking to facilitate intergenerational gameplay are thus hard-pressed to find options that reinforce their teachings. In response, communities are developing their own games for passing on teachings in many forms. As espoused by game designer Brenda Romero, the mechanic is the message. And the messages in the board game The Gift of Food—inspired by collaborative game development with Indigenous communities working with the Northwest Indian College—produce culturally responsive gameplay, meaning gameplay that is drawn from and that uplifts the cultures involved.\\n\\nThe Gift of Food is an ideal example of how culturally responsive board games can function as important pathways for passing on Indigenous ways of knowing, as learning and reinforcin...\n",
      "predicted label = 0; gold label = 0\n"
     ]
    },
    {
     "data": {
      "text/html": [
       "\n",
       "<div id=\"altair-viz-c661dd6ef1e64dc2bc3ee3f66cd1cec1\"></div>\n",
       "<script type=\"text/javascript\">\n",
       "  (function(spec, embedOpt){\n",
       "    let outputDiv = document.currentScript.previousElementSibling;\n",
       "    if (outputDiv.id !== \"altair-viz-c661dd6ef1e64dc2bc3ee3f66cd1cec1\") {\n",
       "      outputDiv = document.getElementById(\"altair-viz-c661dd6ef1e64dc2bc3ee3f66cd1cec1\");\n",
       "    }\n",
       "    const paths = {\n",
       "      \"vega\": \"https://cdn.jsdelivr.net/npm//vega@5?noext\",\n",
       "      \"vega-lib\": \"https://cdn.jsdelivr.net/npm//vega-lib?noext\",\n",
       "      \"vega-lite\": \"https://cdn.jsdelivr.net/npm//vega-lite@4.8.1?noext\",\n",
       "      \"vega-embed\": \"https://cdn.jsdelivr.net/npm//vega-embed@6?noext\",\n",
       "    };\n",
       "\n",
       "    function loadScript(lib) {\n",
       "      return new Promise(function(resolve, reject) {\n",
       "        var s = document.createElement('script');\n",
       "        s.src = paths[lib];\n",
       "        s.async = true;\n",
       "        s.onload = () => resolve(paths[lib]);\n",
       "        s.onerror = () => reject(`Error loading script: ${paths[lib]}`);\n",
       "        document.getElementsByTagName(\"head\")[0].appendChild(s);\n",
       "      });\n",
       "    }\n",
       "\n",
       "    function showError(err) {\n",
       "      outputDiv.innerHTML = `<div class=\"error\" style=\"color:red;\">${err}</div>`;\n",
       "      throw err;\n",
       "    }\n",
       "\n",
       "    function displayChart(vegaEmbed) {\n",
       "      vegaEmbed(outputDiv, spec, embedOpt)\n",
       "        .catch(err => showError(`Javascript Error: ${err.message}<br>This usually means there's a typo in your chart specification. See the javascript console for the full traceback.`));\n",
       "    }\n",
       "\n",
       "    if(typeof define === \"function\" && define.amd) {\n",
       "      requirejs.config({paths});\n",
       "      require([\"vega-embed\"], displayChart, err => showError(`Error loading script: ${err.message}`));\n",
       "    } else if (typeof vegaEmbed === \"function\") {\n",
       "      displayChart(vegaEmbed);\n",
       "    } else {\n",
       "      loadScript(\"vega\")\n",
       "        .then(() => loadScript(\"vega-lite\"))\n",
       "        .then(() => loadScript(\"vega-embed\"))\n",
       "        .catch(showError)\n",
       "        .then(() => displayChart(vegaEmbed));\n",
       "    }\n",
       "  })({\"config\": {\"view\": {\"continuousWidth\": 400, \"continuousHeight\": 300}}, \"data\": {\"name\": \"data-17222bdd45a3d99793560b483ff4ba12\"}, \"mark\": \"rect\", \"encoding\": {\"color\": {\"type\": \"quantitative\", \"field\": \"scores\"}, \"x\": {\"type\": \"ordinal\", \"field\": \"tokens_index\", \"sort\": null}}, \"$schema\": \"https://vega.github.io/schema/vega-lite/v4.8.1.json\", \"datasets\": {\"data-17222bdd45a3d99793560b483ff4ba12\": [{\"tokens\": \"if\", \"scores\": [0.0], \"tokens_index\": \"if_0\"}, {\"tokens\": \"you\", \"scores\": [0.0], \"tokens_index\": \"you_1\"}, {\"tokens\": \"look\", \"scores\": [7.023970817940782e-05], \"tokens_index\": \"look_2\"}, {\"tokens\": \"on\", \"scores\": [0.0013304664300649736], \"tokens_index\": \"on_3\"}, {\"tokens\": \"a\", \"scores\": [-0.0022591295206592075], \"tokens_index\": \"a_4\"}, {\"tokens\": \"board\", \"scores\": [-0.0006705600359349816], \"tokens_index\": \"board_5\"}, {\"tokens\": \"game\", \"scores\": [-0.001828214485558555], \"tokens_index\": \"game_6\"}, {\"tokens\": \"shelf\", \"scores\": [-0.00038142515252980017], \"tokens_index\": \"shelf_7\"}, {\"tokens\": \",\", \"scores\": [-0.008528673843339683], \"tokens_index\": \",_8\"}, {\"tokens\": \"how\", \"scores\": [0.0], \"tokens_index\": \"how_9\"}, {\"tokens\": \"many\", \"scores\": [0.0], \"tokens_index\": \"many_10\"}, {\"tokens\": \"games\", \"scores\": [-0.0005806854181498662], \"tokens_index\": \"games_11\"}, {\"tokens\": \"will\", \"scores\": [-0.0030710361298441086], \"tokens_index\": \"will_12\"}, {\"tokens\": \"you\", \"scores\": [0.0005162061093185052], \"tokens_index\": \"you_13\"}, {\"tokens\": \"see\", \"scores\": [0.0], \"tokens_index\": \"see_14\"}, {\"tokens\": \"with\", \"scores\": [0.0], \"tokens_index\": \"with_15\"}, {\"tokens\": \"actions\", \"scores\": [0.0], \"tokens_index\": \"actions_16\"}, {\"tokens\": \"based\", \"scores\": [0.0], \"tokens_index\": \"based_17\"}, {\"tokens\": \"on\", \"scores\": [-0.0015260722487868165], \"tokens_index\": \"on_18\"}, {\"tokens\": \"collaboration\", \"scores\": [-8.405227865913265e-05], \"tokens_index\": \"collaboration_19\"}, {\"tokens\": \",\", \"scores\": [-0.011090317239438246], \"tokens_index\": \",_20\"}, {\"tokens\": \"stewardship\", \"scores\": [0.00027030519091264174], \"tokens_index\": \"stewardship_21\"}, {\"tokens\": \",\", \"scores\": [-0.009526771425000158], \"tokens_index\": \",_22\"}, {\"tokens\": \"generosity\", \"scores\": [0.00027030519091264174], \"tokens_index\": \"generosity_23\"}, {\"tokens\": \",\", \"scores\": [-0.0032606957298840973], \"tokens_index\": \",_24\"}, {\"tokens\": \"and\", \"scores\": [0.0], \"tokens_index\": \"and_25\"}, {\"tokens\": \"gratitude\", \"scores\": [0.013044517233318596], \"tokens_index\": \"gratitude_26\"}, {\"tokens\": \"?\", \"scores\": [0.0012363799073802112], \"tokens_index\": \"?_27\"}, {\"tokens\": \"most\", \"scores\": [-0.007920920742231791], \"tokens_index\": \"most_28\"}, {\"tokens\": \"likely\", \"scores\": [0.006553166565849354], \"tokens_index\": \"likely_29\"}, {\"tokens\": \",\", \"scores\": [0.0], \"tokens_index\": \",_30\"}, {\"tokens\": \"you\", \"scores\": [0.0], \"tokens_index\": \"you_31\"}, {\"tokens\": \"'ll\", \"scores\": [-0.00044138285757183433], \"tokens_index\": \"'ll_32\"}, {\"tokens\": \"find\", \"scores\": [-0.0031026254165914613], \"tokens_index\": \"find_33\"}, {\"tokens\": \"mechanics\", \"scores\": [-0.004735853481207533], \"tokens_index\": \"mechanics_34\"}, {\"tokens\": \"like\", \"scores\": [-0.004754559294144201], \"tokens_index\": \"like_35\"}, {\"tokens\": \"attacking\", \"scores\": [-0.004585092061711344], \"tokens_index\": \"attacking_36\"}, {\"tokens\": \",\", \"scores\": [-0.005821286149757747], \"tokens_index\": \",_37\"}, {\"tokens\": \"stealing\", \"scores\": [0.0018302584982304426], \"tokens_index\": \"stealing_38\"}, {\"tokens\": \",\", \"scores\": [0.0], \"tokens_index\": \",_39\"}, {\"tokens\": \"and\", \"scores\": [-0.009607726714762491], \"tokens_index\": \"and_40\"}, {\"tokens\": \"<unk>\", \"scores\": [0.03436016271331905], \"tokens_index\": \"<unk>_41\"}, {\"tokens\": \".\", \"scores\": [-0.02963929865837202], \"tokens_index\": \"._42\"}, {\"tokens\": \"indigenous\", \"scores\": [-0.012838381652347635], \"tokens_index\": \"indigenous_43\"}, {\"tokens\": \"communities\", \"scores\": [-0.016005486377770457], \"tokens_index\": \"communities_44\"}, {\"tokens\": \"looking\", \"scores\": [-0.007218523660437713], \"tokens_index\": \"looking_45\"}, {\"tokens\": \"to\", \"scores\": [-0.01864306794161854], \"tokens_index\": \"to_46\"}, {\"tokens\": \"facilitate\", \"scores\": [-0.002887756326931527], \"tokens_index\": \"facilitate_47\"}, {\"tokens\": \"intergenerational\", \"scores\": [0.010482811897442098], \"tokens_index\": \"intergenerational_48\"}, {\"tokens\": \"gameplay\", \"scores\": [-0.009040668047758542], \"tokens_index\": \"gameplay_49\"}, {\"tokens\": \"are\", \"scores\": [-0.016339155961511614], \"tokens_index\": \"are_50\"}, {\"tokens\": \"thus\", \"scores\": [0.0], \"tokens_index\": \"thus_51\"}, {\"tokens\": \"hard\", \"scores\": [-0.004380443035410847], \"tokens_index\": \"hard_52\"}, {\"tokens\": \"-\", \"scores\": [-0.011536531399689087], \"tokens_index\": \"-_53\"}, {\"tokens\": \"pressed\", \"scores\": [0.0], \"tokens_index\": \"pressed_54\"}, {\"tokens\": \"to\", \"scores\": [-0.023346588858743487], \"tokens_index\": \"to_55\"}, {\"tokens\": \"find\", \"scores\": [-0.000612336644675155], \"tokens_index\": \"find_56\"}, {\"tokens\": \"options\", \"scores\": [2.1678922277595008e-05], \"tokens_index\": \"options_57\"}, {\"tokens\": \"that\", \"scores\": [-0.01102174990526311], \"tokens_index\": \"that_58\"}, {\"tokens\": \"reinforce\", \"scores\": [0.0004466477386963931], \"tokens_index\": \"reinforce_59\"}, {\"tokens\": \"their\", \"scores\": [-0.01092159328434062], \"tokens_index\": \"their_60\"}, {\"tokens\": \"teachings\", \"scores\": [0.0], \"tokens_index\": \"teachings_61\"}, {\"tokens\": \".\", \"scores\": [0.0], \"tokens_index\": \"._62\"}, {\"tokens\": \"in\", \"scores\": [-0.008232725584361543], \"tokens_index\": \"in_63\"}, {\"tokens\": \"response\", \"scores\": [0.0], \"tokens_index\": \"response_64\"}, {\"tokens\": \",\", \"scores\": [0.0], \"tokens_index\": \",_65\"}, {\"tokens\": \"communities\", \"scores\": [0.0], \"tokens_index\": \"communities_66\"}, {\"tokens\": \"are\", \"scores\": [0.0], \"tokens_index\": \"are_67\"}, {\"tokens\": \"developing\", \"scores\": [0.0], \"tokens_index\": \"developing_68\"}, {\"tokens\": \"their\", \"scores\": [0.00023605249371404162], \"tokens_index\": \"their_69\"}, {\"tokens\": \"own\", \"scores\": [0.0], \"tokens_index\": \"own_70\"}, {\"tokens\": \"games\", \"scores\": [0.0], \"tokens_index\": \"games_71\"}, {\"tokens\": \"for\", \"scores\": [0.0], \"tokens_index\": \"for_72\"}, {\"tokens\": \"passing\", \"scores\": [0.0], \"tokens_index\": \"passing_73\"}, {\"tokens\": \"on\", \"scores\": [-0.0017852282796709809], \"tokens_index\": \"on_74\"}, {\"tokens\": \"teachings\", \"scores\": [-5.5745800142387164e-05], \"tokens_index\": \"teachings_75\"}, {\"tokens\": \"in\", \"scores\": [0.007041066196651114], \"tokens_index\": \"in_76\"}, {\"tokens\": \"many\", \"scores\": [1.0715581582925532e-05], \"tokens_index\": \"many_77\"}, {\"tokens\": \"forms\", \"scores\": [0.0], \"tokens_index\": \"forms_78\"}, {\"tokens\": \".\", \"scores\": [0.0], \"tokens_index\": \"._79\"}, {\"tokens\": \"as\", \"scores\": [-0.014097493458230354], \"tokens_index\": \"as_80\"}, {\"tokens\": \"espoused\", \"scores\": [-0.00042323450263659053], \"tokens_index\": \"espoused_81\"}, {\"tokens\": \"by\", \"scores\": [-0.00048486458168289635], \"tokens_index\": \"by_82\"}, {\"tokens\": \"game\", \"scores\": [-0.024396034516312892], \"tokens_index\": \"game_83\"}, {\"tokens\": \"designer\", \"scores\": [0.002960040047782822], \"tokens_index\": \"designer_84\"}, {\"tokens\": \"brenda\", \"scores\": [0.05020553476512498], \"tokens_index\": \"brenda_85\"}, {\"tokens\": \"romero\", \"scores\": [0.023776450917619228], \"tokens_index\": \"romero_86\"}, {\"tokens\": \",\", \"scores\": [-0.0032830559897189878], \"tokens_index\": \",_87\"}, {\"tokens\": \"the\", \"scores\": [-0.0022994523160955343], \"tokens_index\": \"the_88\"}, {\"tokens\": \"mechanic\", \"scores\": [-0.0005421588762736831], \"tokens_index\": \"mechanic_89\"}, {\"tokens\": \"is\", \"scores\": [-0.0012514932131965917], \"tokens_index\": \"is_90\"}, {\"tokens\": \"the\", \"scores\": [-0.003879040533019043], \"tokens_index\": \"the_91\"}, {\"tokens\": \"message\", \"scores\": [0.0], \"tokens_index\": \"message_92\"}, {\"tokens\": \".\", \"scores\": [0.0], \"tokens_index\": \"._93\"}, {\"tokens\": \"and\", \"scores\": [0.0], \"tokens_index\": \"and_94\"}, {\"tokens\": \"the\", \"scores\": [0.0], \"tokens_index\": \"the_95\"}, {\"tokens\": \"messages\", \"scores\": [-0.00023326520370692229], \"tokens_index\": \"messages_96\"}, {\"tokens\": \"in\", \"scores\": [-0.006469981444081326], \"tokens_index\": \"in_97\"}, {\"tokens\": \"the\", \"scores\": [-0.005718775817273691], \"tokens_index\": \"the_98\"}, {\"tokens\": \"board\", \"scores\": [-0.00024255617039732014], \"tokens_index\": \"board_99\"}, {\"tokens\": \"game\", \"scores\": [-0.0012516790325303997], \"tokens_index\": \"game_100\"}, {\"tokens\": \"the\", \"scores\": [0.0011458858918157362], \"tokens_index\": \"the_101\"}, {\"tokens\": \"gift\", \"scores\": [-0.0004832541474565607], \"tokens_index\": \"gift_102\"}, {\"tokens\": \"of\", \"scores\": [1.5051366038444533e-05], \"tokens_index\": \"of_103\"}, {\"tokens\": \"food\", \"scores\": [-0.0005641474974409581], \"tokens_index\": \"food_104\"}, {\"tokens\": \"\\u2014\", \"scores\": [-0.001627777364157705], \"tokens_index\": \"\\u2014_105\"}, {\"tokens\": \"inspired\", \"scores\": [0.0], \"tokens_index\": \"inspired_106\"}, {\"tokens\": \"by\", \"scores\": [-0.0005580154594252955], \"tokens_index\": \"by_107\"}, {\"tokens\": \"collaborative\", \"scores\": [0.0], \"tokens_index\": \"collaborative_108\"}, {\"tokens\": \"game\", \"scores\": [0.0], \"tokens_index\": \"game_109\"}, {\"tokens\": \"development\", \"scores\": [-0.003559617098203164], \"tokens_index\": \"development_110\"}, {\"tokens\": \"with\", \"scores\": [-0.0025830126194864773], \"tokens_index\": \"with_111\"}, {\"tokens\": \"indigenous\", \"scores\": [0.001914620475779255], \"tokens_index\": \"indigenous_112\"}, {\"tokens\": \"communities\", \"scores\": [-0.000612460524231027], \"tokens_index\": \"communities_113\"}, {\"tokens\": \"working\", \"scores\": [-0.004284993837611493], \"tokens_index\": \"working_114\"}, {\"tokens\": \"with\", \"scores\": [0.0010153787797046142], \"tokens_index\": \"with_115\"}, {\"tokens\": \"the\", \"scores\": [-0.0008843761493700043], \"tokens_index\": \"the_116\"}, {\"tokens\": \"northwest\", \"scores\": [-0.0011025899870384822], \"tokens_index\": \"northwest_117\"}, {\"tokens\": \"indian\", \"scores\": [-0.0006800368219591874], \"tokens_index\": \"indian_118\"}, {\"tokens\": \"college\", \"scores\": [-0.001033712953973666], \"tokens_index\": \"college_119\"}, {\"tokens\": \"\\u2014\", \"scores\": [-0.01833380263038416], \"tokens_index\": \"\\u2014_120\"}, {\"tokens\": \"produce\", \"scores\": [0.012656154825659965], \"tokens_index\": \"produce_121\"}, {\"tokens\": \"culturally\", \"scores\": [0.015867298733195274], \"tokens_index\": \"culturally_122\"}, {\"tokens\": \"responsive\", \"scores\": [-0.005486315830679937], \"tokens_index\": \"responsive_123\"}, {\"tokens\": \"gameplay\", \"scores\": [0.0036637378649135564], \"tokens_index\": \"gameplay_124\"}, {\"tokens\": \",\", \"scores\": [-0.014381735099178592], \"tokens_index\": \",_125\"}, {\"tokens\": \"meaning\", \"scores\": [-0.000112854275399366], \"tokens_index\": \"meaning_126\"}, {\"tokens\": \"gameplay\", \"scores\": [-0.00019950802473181004], \"tokens_index\": \"gameplay_127\"}, {\"tokens\": \"that\", \"scores\": [-0.009568209136439333], \"tokens_index\": \"that_128\"}, {\"tokens\": \"is\", \"scores\": [-0.004124198174089674], \"tokens_index\": \"is_129\"}, {\"tokens\": \"drawn\", \"scores\": [-0.0004779892663320019], \"tokens_index\": \"drawn_130\"}, {\"tokens\": \"from\", \"scores\": [0.0], \"tokens_index\": \"from_131\"}, {\"tokens\": \"and\", \"scores\": [-0.001076265581415688], \"tokens_index\": \"and_132\"}, {\"tokens\": \"that\", \"scores\": [-0.00025215683597739795], \"tokens_index\": \"that_133\"}, {\"tokens\": \"<unk>\", \"scores\": [0.0009237698481372913], \"tokens_index\": \"<unk>_134\"}, {\"tokens\": \"the\", \"scores\": [-0.032276508583552486], \"tokens_index\": \"the_135\"}, {\"tokens\": \"cultures\", \"scores\": [-0.002002327201336611], \"tokens_index\": \"cultures_136\"}, {\"tokens\": \"<unk>\", \"scores\": [0.02268723992261492], \"tokens_index\": \"<unk>_137\"}, {\"tokens\": \"gift\", \"scores\": [-0.018326617616143587], \"tokens_index\": \"gift_138\"}, {\"tokens\": \"of\", \"scores\": [-0.030290967062036527], \"tokens_index\": \"of_139\"}, {\"tokens\": \"food\", \"scores\": [-0.00959694919340163], \"tokens_index\": \"food_140\"}, {\"tokens\": \"is\", \"scores\": [-0.004143027866582214], \"tokens_index\": \"is_141\"}, {\"tokens\": \"an\", \"scores\": [0.0002341323605980261], \"tokens_index\": \"an_142\"}, {\"tokens\": \"ideal\", \"scores\": [-0.004223859276788675], \"tokens_index\": \"ideal_143\"}, {\"tokens\": \"example\", \"scores\": [-0.0026592604861256754], \"tokens_index\": \"example_144\"}, {\"tokens\": \"of\", \"scores\": [-0.0013034606868848838], \"tokens_index\": \"of_145\"}, {\"tokens\": \"how\", \"scores\": [-0.002605248999765496], \"tokens_index\": \"how_146\"}, {\"tokens\": \"culturally\", \"scores\": [-0.0011059966748249613], \"tokens_index\": \"culturally_147\"}, {\"tokens\": \"responsive\", \"scores\": [-0.01000166370243536], \"tokens_index\": \"responsive_148\"}, {\"tokens\": \"board\", \"scores\": [0.00021852353655815767], \"tokens_index\": \"board_149\"}, {\"tokens\": \"games\", \"scores\": [-2.3041597392186695e-05], \"tokens_index\": \"games_150\"}, {\"tokens\": \"can\", \"scores\": [0.0028595737279706536], \"tokens_index\": \"can_151\"}, {\"tokens\": \"function\", \"scores\": [0.0], \"tokens_index\": \"function_152\"}, {\"tokens\": \"as\", \"scores\": [0.0009952483518754188], \"tokens_index\": \"as_153\"}, {\"tokens\": \"important\", \"scores\": [0.0], \"tokens_index\": \"important_154\"}, {\"tokens\": \"pathways\", \"scores\": [0.0], \"tokens_index\": \"pathways_155\"}, {\"tokens\": \"for\", \"scores\": [0.0], \"tokens_index\": \"for_156\"}, {\"tokens\": \"passing\", \"scores\": [0.0], \"tokens_index\": \"passing_157\"}, {\"tokens\": \"on\", \"scores\": [-0.00018080221179514236], \"tokens_index\": \"on_158\"}, {\"tokens\": \"indigenous\", \"scores\": [-0.0015951351011854406], \"tokens_index\": \"indigenous_159\"}, {\"tokens\": \"ways\", \"scores\": [-0.003598886917414579], \"tokens_index\": \"ways_160\"}, {\"tokens\": \"of\", \"scores\": [-0.0036649766604722757], \"tokens_index\": \"of_161\"}, {\"tokens\": \"knowing\", \"scores\": [4.03847352142627e-05], \"tokens_index\": \"knowing_162\"}, {\"tokens\": \",\", \"scores\": [0.0], \"tokens_index\": \",_163\"}, {\"tokens\": \"as\", \"scores\": [-0.0019683222632497547], \"tokens_index\": \"as_164\"}, {\"tokens\": \"learning\", \"scores\": [0.003443232255461447], \"tokens_index\": \"learning_165\"}, {\"tokens\": \"and\", \"scores\": [-0.01908494631741386], \"tokens_index\": \"and_166\"}, {\"tokens\": \"<unk>\", \"scores\": [0.014286967238936533], \"tokens_index\": \"<unk>_167\"}, {\"tokens\": \"...\", \"scores\": [-0.015794023975897003], \"tokens_index\": \"..._168\"}]}}, {\"mode\": \"vega-lite\"});\n",
       "</script>"
      ],
      "text/plain": [
       "alt.Chart(...)"
      ]
     },
     "execution_count": 66,
     "metadata": {
      "tags": []
     },
     "output_type": "execute_result"
    }
   ],
   "source": [
    "interpret_sentence_altair(test_string4, true_label=0)"
   ]
  },
  {
   "cell_type": "code",
   "execution_count": 0,
   "metadata": {
    "colab": {},
    "colab_type": "code",
    "id": "hgwT9oKdAOcH"
   },
   "outputs": [],
   "source": [
    "from tqdm import tqdm\n",
    "\n",
    "def compute_word_importance(input_model, data_iter, top_k=20):\n",
    "    '''\n",
    "    input:\n",
    "    i) data_iter - iterator over the training examples \n",
    "    ii) top_k - number of most and less important words to output\n",
    "    return:\n",
    "    i) top_k most important words\n",
    "    ii) top_k least important words\n",
    "    '''\n",
    "    model = input_model\n",
    "    # bookkeeping\n",
    "    word2Sscore = {} # stores word to sum of probability scores\n",
    "    word2count = {} # stores word to number of examples containing this word\n",
    "    \n",
    "    inst_i =0\n",
    "    # run over training examples\n",
    "    for batch in data_iter:\n",
    "      input, label = batch.text, batch.label\n",
    "      s_ec = S(model, input, -1, label) # no erasing\n",
    "      # run over all the words in the input\n",
    "      for t_i, token_id in enumerate(input):\n",
    "        s_e = S(model, input, t_i, label) # erase a token\n",
    "        token_str = TEXT.vocab.itos[token_id]\n",
    "        if token_str not in word2Sscore:\n",
    "          word2Sscore[token_str] = 0\n",
    "          word2count[token_str] = 0\n",
    "        word2Sscore[token_str] += (s_ec - s_e)/s_ec\n",
    "        word2count[token_str] += 1\n",
    "      inst_i += 1\n",
    "      if inst_i > 500:\n",
    "       break\n",
    "    \n",
    "    # compute importance score\n",
    "    word2impscore = {}\n",
    "    for token_str in word2Sscore:\n",
    "      word2impscore[token_str] = word2Sscore[token_str] / word2count[token_str]\n",
    "    \n",
    "    # sort the words based on importance\n",
    "    words_to_be_sorted = []\n",
    "    for word in word2impscore:\n",
    "      words_to_be_sorted.append((word2impscore[word], word))\n",
    "    sorted_words = sorted(words_to_be_sorted) # sorts in ascending order in increasing order of importance\n",
    "    \n",
    "    # pick the top k as least important  - lower the importance score lesser the importance \n",
    "    least_important_words = []\n",
    "    for word in sorted_words:\n",
    "      least_important_words.append((word[1], word[0]))\n",
    "      if len(least_important_words) == top_k:\n",
    "        break\n",
    "    \n",
    "    # sort the words based on decreasing order of importance and pick the top k as most important\n",
    "    sorted_words.reverse()\n",
    "    most_important_words = []\n",
    "    for word in sorted_words:\n",
    "      most_important_words.append((word[1], word[0]))\n",
    "      if len(most_important_words) == top_k:\n",
    "        break\n",
    "    \n",
    "    return most_important_words, least_important_words  \n",
    "\n",
    "# create an iterator over instances (usually done with train instances)\n",
    "#test_subset, _ = test_full.split(split_ratio=0.1)\n",
    "validation_iter = torchtext.data.BucketIterator(dataset=val, batch_size = 1)\n",
    "\n",
    "# train_iter, val_iter = BucketIterator.splits( \n",
    "#  (train, val), \n",
    "#  batch_sizes=(64,256),\n",
    "#  sort_key=lambda x: len(x.text), \n",
    "#  sort=True,\n",
    "#  device=device,\n",
    "#  sort_within_batch=True\n",
    "# )\n",
    "\n",
    "\n",
    "\n",
    "\n",
    "# identify the most and least important words\n",
    "most_important_words, least_important_words = compute_word_importance(best_model, validation_iter)"
   ]
  },
  {
   "cell_type": "code",
   "execution_count": 0,
   "metadata": {
    "colab": {
     "base_uri": "https://localhost:8080/",
     "height": 399
    },
    "colab_type": "code",
    "id": "R8PFsrm_A2qD",
    "outputId": "be947a7c-1f78-4b38-b53b-977a0dd3e1c6"
   },
   "outputs": [
    {
     "name": "stdout",
     "output_type": "stream",
     "text": [
      "most important words\n",
      "no.\tword\tscore\n",
      "1\tpendleton\t0.74\n",
      "2\tsandwiched\t0.72\n",
      "3\tc'mon\t0.69\n",
      "4\tleland\t0.67\n",
      "5\tyeager\t0.64\n",
      "6\tintermediate\t0.62\n",
      "7\tweaves\t0.61\n",
      "8\taseptic\t0.61\n",
      "9\tsteered\t0.61\n",
      "10\tstraightening\t0.60\n",
      "11\tard\t0.59\n",
      "12\tphys\t0.57\n",
      "13\tdrifted\t0.56\n",
      "14\tcling\t0.54\n",
      "15\tburgeoning\t0.54\n",
      "16\tspirited\t0.54\n",
      "17\tsqueezed\t0.54\n",
      "18\tinteger\t0.54\n",
      "19\teradicating\t0.53\n",
      "20\t800,000\t0.52\n"
     ]
    }
   ],
   "source": [
    "print('most important words\\nno.\\tword\\tscore')\n",
    "for i, word_score in enumerate(most_important_words):\n",
    "  print('%d\\t%s\\t%.2f'%(i+1, word_score[0], word_score[1]))"
   ]
  },
  {
   "cell_type": "code",
   "execution_count": 0,
   "metadata": {
    "colab": {
     "base_uri": "https://localhost:8080/",
     "height": 399
    },
    "colab_type": "code",
    "id": "t81FFqEbH0tN",
    "outputId": "33f5e39f-4e2f-4527-a794-847d09049f6c"
   },
   "outputs": [
    {
     "name": "stdout",
     "output_type": "stream",
     "text": [
      "least important words\n",
      "no.\tword\tscore\n",
      "1\tcooke\t-12.57\n",
      "2\tunsigned\t-4.37\n",
      "3\tprev\t-1.52\n",
      "4\tmick\t-1.10\n",
      "5\tlaird\t-1.01\n",
      "6\tmel\t-0.89\n",
      "7\tcapito\t-0.82\n",
      "8\t536\t-0.79\n",
      "9\tbsi\t-0.71\n",
      "10\tpepe\t-0.70\n",
      "11\tstrictly\t-0.69\n",
      "12\t2,066\t-0.68\n",
      "13\t1,065\t-0.63\n",
      "14\tsecularist\t-0.61\n",
      "15\tmelton\t-0.58\n",
      "16\tintersex\t-0.57\n",
      "17\tticking\t-0.54\n",
      "18\t853\t-0.52\n",
      "19\tvigo\t-0.52\n",
      "20\tagnostic\t-0.51\n"
     ]
    }
   ],
   "source": [
    "print('least important words\\nno.\\tword\\tscore')\n",
    "for i, word_score in enumerate(least_important_words):\n",
    "  print('%d\\t%s\\t%.2f'%(i+1, word_score[0], word_score[1]))"
   ]
  },
  {
   "cell_type": "code",
   "execution_count": 0,
   "metadata": {
    "colab": {},
    "colab_type": "code",
    "id": "i9D8dlFkH3o3"
   },
   "outputs": [],
   "source": []
  }
 ],
 "metadata": {
  "accelerator": "GPU",
  "colab": {
   "collapsed_sections": [],
   "name": "Best_CNN_100k.ipynb",
   "provenance": []
  },
  "kernelspec": {
   "display_name": "Python 3",
   "language": "python",
   "name": "python3"
  },
  "language_info": {
   "codemirror_mode": {
    "name": "ipython",
    "version": 3
   },
   "file_extension": ".py",
   "mimetype": "text/x-python",
   "name": "python",
   "nbconvert_exporter": "python",
   "pygments_lexer": "ipython3",
   "version": "3.7.6"
  }
 },
 "nbformat": 4,
 "nbformat_minor": 1
}
