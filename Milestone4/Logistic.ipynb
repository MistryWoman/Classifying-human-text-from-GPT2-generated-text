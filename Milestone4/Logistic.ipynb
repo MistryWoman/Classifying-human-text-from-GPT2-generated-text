{
  "nbformat": 4,
  "nbformat_minor": 0,
  "metadata": {
    "colab": {
      "name": "Logisticnew.ipynb",
      "provenance": [],
      "collapsed_sections": [],
      "toc_visible": true
    },
    "kernelspec": {
      "name": "python3",
      "display_name": "Python 3"
    },
    "accelerator": "GPU"
  },
  "cells": [
    {
      "cell_type": "code",
      "metadata": {
        "id": "0g2TXlXqEaVz",
        "colab_type": "code",
        "colab": {}
      },
      "source": [
        "import os\n",
        "import json\n",
        "import pandas as pd\n",
        "import numpy as np\n",
        "from scipy import sparse\n",
        "from sklearn.model_selection import train_test_split\n",
        "from sklearn.model_selection import PredefinedSplit, GridSearchCV\n",
        "from sklearn.linear_model import LogisticRegression\n",
        "from sklearn.feature_extraction.text import TfidfVectorizer\n",
        "import sklearn\n",
        "import torch\n",
        "import torchtext\n",
        "from torchtext.data import Field, LabelField\n",
        "from torchtext.data import TabularDataset\n",
        "from torchtext.data import Iterator, BucketIterator\n",
        "import spacy\n",
        "import en_core_web_sm\n",
        "from torch.utils.data import TensorDataset, DataLoader, RandomSampler, SequentialSampler\n",
        "import torch.nn as nn\n",
        "import torch.nn.functional as F\n",
        "import torch.autograd as autograd\n",
        "from tqdm import tqdm, trange\n",
        "import numpy as np\n",
        "from sklearn.metrics import accuracy_score, f1_score, recall_score, precision_score, classification_report, confusion_matrix\n",
        "import time"
      ],
      "execution_count": 0,
      "outputs": []
    },
    {
      "cell_type": "code",
      "metadata": {
        "id": "6pEnWOwMFIV7",
        "colab_type": "code",
        "outputId": "adaf7747-89e7-4868-f79d-6a528deb75de",
        "colab": {
          "base_uri": "https://localhost:8080/",
          "height": 34
        }
      },
      "source": [
        "manual_seed = 77\n",
        "torch.manual_seed(manual_seed)\n",
        "device = torch.device(\"cuda\" if torch.cuda.is_available() else \"cpu\")\n",
        "print(device)\n",
        "n_gpu = torch.cuda.device_count()\n",
        "if n_gpu > 0:\n",
        "    torch.cuda.manual_seed(manual_seed)"
      ],
      "execution_count": 39,
      "outputs": [
        {
          "output_type": "stream",
          "text": [
            "cuda\n"
          ],
          "name": "stdout"
        }
      ]
    },
    {
      "cell_type": "code",
      "metadata": {
        "id": "KFCZkvHHBpsA",
        "colab_type": "code",
        "colab": {}
      },
      "source": [
        "data100k = pd.read_csv('/content/drive/My Drive/milestone3/subset_100k (2).csv')"
      ],
      "execution_count": 0,
      "outputs": []
    },
    {
      "cell_type": "code",
      "metadata": {
        "id": "1obxT18VEddE",
        "colab_type": "code",
        "outputId": "5d609ab8-ba6e-4c72-d4d3-d00ed8127e8a",
        "colab": {
          "base_uri": "https://localhost:8080/",
          "height": 112
        }
      },
      "source": [
        "data100k.head(2)"
      ],
      "execution_count": 41,
      "outputs": [
        {
          "output_type": "execute_result",
          "data": {
            "text/html": [
              "<div>\n",
              "<style scoped>\n",
              "    .dataframe tbody tr th:only-of-type {\n",
              "        vertical-align: middle;\n",
              "    }\n",
              "\n",
              "    .dataframe tbody tr th {\n",
              "        vertical-align: top;\n",
              "    }\n",
              "\n",
              "    .dataframe thead th {\n",
              "        text-align: right;\n",
              "    }\n",
              "</style>\n",
              "<table border=\"1\" class=\"dataframe\">\n",
              "  <thead>\n",
              "    <tr style=\"text-align: right;\">\n",
              "      <th></th>\n",
              "      <th>Unnamed: 0</th>\n",
              "      <th>index</th>\n",
              "      <th>text</th>\n",
              "      <th>labels</th>\n",
              "    </tr>\n",
              "  </thead>\n",
              "  <tbody>\n",
              "    <tr>\n",
              "      <th>0</th>\n",
              "      <td>0</td>\n",
              "      <td>0</td>\n",
              "      <td>These girlfriends deserves a special mention f...</td>\n",
              "      <td>0</td>\n",
              "    </tr>\n",
              "    <tr>\n",
              "      <th>1</th>\n",
              "      <td>1</td>\n",
              "      <td>1</td>\n",
              "      <td>LeSean McCoy going through warmups with first ...</td>\n",
              "      <td>0</td>\n",
              "    </tr>\n",
              "  </tbody>\n",
              "</table>\n",
              "</div>"
            ],
            "text/plain": [
              "   Unnamed: 0  index                                               text  labels\n",
              "0           0      0  These girlfriends deserves a special mention f...       0\n",
              "1           1      1  LeSean McCoy going through warmups with first ...       0"
            ]
          },
          "metadata": {
            "tags": []
          },
          "execution_count": 41
        }
      ]
    },
    {
      "cell_type": "markdown",
      "metadata": {
        "id": "21oM7xikHh8L",
        "colab_type": "text"
      },
      "source": [
        "##Drop unneccessary columns and retain only the text and label columns\n",
        "\n",
        "- text: the text generated from gpt2 and handwritten text\n",
        "- labels:\n",
        "    -  0 : gpt2 generated\n",
        "    - 1 : human generated"
      ]
    },
    {
      "cell_type": "code",
      "metadata": {
        "id": "N7nKQfdDHQtP",
        "colab_type": "code",
        "outputId": "80171012-5a43-43f9-e29a-063dedd90dbc",
        "colab": {
          "base_uri": "https://localhost:8080/",
          "height": 143
        }
      },
      "source": [
        "dataset = data100k.drop(['Unnamed: 0', 'index'], axis = 1)\n",
        "dataset.head(3)"
      ],
      "execution_count": 42,
      "outputs": [
        {
          "output_type": "execute_result",
          "data": {
            "text/html": [
              "<div>\n",
              "<style scoped>\n",
              "    .dataframe tbody tr th:only-of-type {\n",
              "        vertical-align: middle;\n",
              "    }\n",
              "\n",
              "    .dataframe tbody tr th {\n",
              "        vertical-align: top;\n",
              "    }\n",
              "\n",
              "    .dataframe thead th {\n",
              "        text-align: right;\n",
              "    }\n",
              "</style>\n",
              "<table border=\"1\" class=\"dataframe\">\n",
              "  <thead>\n",
              "    <tr style=\"text-align: right;\">\n",
              "      <th></th>\n",
              "      <th>text</th>\n",
              "      <th>labels</th>\n",
              "    </tr>\n",
              "  </thead>\n",
              "  <tbody>\n",
              "    <tr>\n",
              "      <th>0</th>\n",
              "      <td>These girlfriends deserves a special mention f...</td>\n",
              "      <td>0</td>\n",
              "    </tr>\n",
              "    <tr>\n",
              "      <th>1</th>\n",
              "      <td>LeSean McCoy going through warmups with first ...</td>\n",
              "      <td>0</td>\n",
              "    </tr>\n",
              "    <tr>\n",
              "      <th>2</th>\n",
              "      <td>Tom Curran has been called up to England's Ash...</td>\n",
              "      <td>0</td>\n",
              "    </tr>\n",
              "  </tbody>\n",
              "</table>\n",
              "</div>"
            ],
            "text/plain": [
              "                                                text  labels\n",
              "0  These girlfriends deserves a special mention f...       0\n",
              "1  LeSean McCoy going through warmups with first ...       0\n",
              "2  Tom Curran has been called up to England's Ash...       0"
            ]
          },
          "metadata": {
            "tags": []
          },
          "execution_count": 42
        }
      ]
    },
    {
      "cell_type": "code",
      "metadata": {
        "id": "wSaavXrFIXFq",
        "colab_type": "code",
        "colab": {}
      },
      "source": [
        "df_shuffled = dataset.sample(frac=1, random_state=123)"
      ],
      "execution_count": 0,
      "outputs": []
    },
    {
      "cell_type": "code",
      "metadata": {
        "id": "78kS_4LZIgtG",
        "colab_type": "code",
        "colab": {}
      },
      "source": [
        "train, validate, test = np.split(dataset.sample(frac=1, random_state=123), [int(.6*len(dataset)), int(.8*len(dataset))])\n"
      ],
      "execution_count": 0,
      "outputs": []
    },
    {
      "cell_type": "code",
      "metadata": {
        "id": "inNs4p5rIugX",
        "colab_type": "code",
        "colab": {
          "base_uri": "https://localhost:8080/",
          "height": 52
        },
        "outputId": "98f8477a-47a6-448b-a692-a4795e47fd52"
      },
      "source": [
        "print(len(train), len(validate), len(test))"
      ],
      "execution_count": 46,
      "outputs": [
        {
          "output_type": "stream",
          "text": [
            "60000 20000 20000\n"
          ],
          "name": "stdout"
        },
        {
          "output_type": "execute_result",
          "data": {
            "text/plain": [
              "pandas.core.frame.DataFrame"
            ]
          },
          "metadata": {
            "tags": []
          },
          "execution_count": 46
        }
      ]
    },
    {
      "cell_type": "code",
      "metadata": {
        "id": "7Z3TDcHxXCji",
        "colab_type": "code",
        "colab": {}
      },
      "source": [
        "new = {'text' : [\"These girlfriends deserves a special mention for going that extra mile, hopefully doesn't set too many guys off on the path towards outrageous demands.\\n\\n1. She knows the severity of man-flu\\n\\n2. All fun and games is all good\\n\\n3. A voucher that says 'I love you'\\n\\n4. When arguments don't drag on forever.\\n\\n5. Providing everything he needs.\\n\\n6. Very understanding\\n\\n7. As awesome a gesture as this is, we are worried about this man's cooking skills.\\n\\n8. Nice cake\\n\\n8. Fair bargaining\\n\\n9. Excellent gift choice\\n\\n10. Very thoughtful\"\",\n",
        "                 \"Pro Tour Amonkhet is now down to just eight players. Take a look at what they brought for this weekend's Standard rounds, and what they will be battling with on Sunday for the title of Pro Tour Champion.\",\n",
        "                 \"Scientists can now visualize and experiment with structures and the dynamics of complex molecular makeup (at atomic-level precision), with real-time multi-user collaboration via the cloud\\n\\nJuly 6, 2018\",\n",
        "                 \"Summary Focus of this page: This page discusses our current view of the evidence for a wide range of programs and interventions that aim to improve education in developing countries. These include demand-side interventions that lower the cost of schooling or increase its (perceived) returns, provision of school inputs, pedagogy interventions, and governance reforms. We focus mainly on interventions aimed at improving primary and secondary education but consider vocational training interventions briefly. We have not yet completed a report on early childhood (pre-school) interventions. On this page, we focus on evidence from experimental study designs.\",\n",
        "                 \"If you look on a board game shelf, how many games will you see with actions based on collaboration, stewardship, generosity, and gratitude? Most likely, you'll find mechanics like attacking, stealing, and backstabbing. Indigenous communities looking to facilitate intergenerational gameplay are thus hard-pressed to find options that reinforce their teachings. In response, communities are developing their own games for passing on teachings in many forms. As espoused by game designer Brenda Romero, the mechanic is the message. And the messages in the board game The Gift of Food—inspired by collaborative game development with Indigenous communities working with the Northwest Indian College—produce culturally responsive gameplay, meaning gameplay that is drawn from and that uplifts the cultures involved.\\n\\nThe Gift of Food is an ideal example of how culturally responsive board games can function as important pathways for passing on Indigenous ways of knowing\"],\n",
        "        'labels' : [0,0,0,0,0]}"
      ],
      "execution_count": 0,
      "outputs": []
    },
    {
      "cell_type": "code",
      "metadata": {
        "id": "N3GWyyV6Zy-0",
        "colab_type": "code",
        "colab": {}
      },
      "source": [
        "new_data = pd.DataFrame(new)\n",
        "new_texts, new_labels = zip(*new_data.values)"
      ],
      "execution_count": 0,
      "outputs": []
    },
    {
      "cell_type": "code",
      "metadata": {
        "id": "tinKCuM-JLBQ",
        "colab_type": "code",
        "colab": {}
      },
      "source": [
        "train_texts, train_labels = zip(*train.values)"
      ],
      "execution_count": 0,
      "outputs": []
    },
    {
      "cell_type": "code",
      "metadata": {
        "id": "QX2O-XbSJMHO",
        "colab_type": "code",
        "colab": {}
      },
      "source": [
        "valid_texts, valid_labels = zip(*validate.values)\n",
        "test_texts, test_labels = zip(*test.values)"
      ],
      "execution_count": 0,
      "outputs": []
    },
    {
      "cell_type": "markdown",
      "metadata": {
        "id": "KYdR29CsKkGT",
        "colab_type": "text"
      },
      "source": [
        ""
      ]
    },
    {
      "cell_type": "code",
      "metadata": {
        "id": "f_Qil8sZOOqh",
        "colab_type": "code",
        "colab": {}
      },
      "source": [
        "n_jobs=None\n",
        "verbose=False\n",
        "\n",
        "\n",
        "vect = TfidfVectorizer(ngram_range=(1, 2), min_df=5, max_features=2**21)\n",
        "train_features = vect.fit_transform(train_texts)\n",
        "valid_features = vect.transform(valid_texts)\n",
        "test_features = vect.transform(test_texts)"
      ],
      "execution_count": 0,
      "outputs": []
    },
    {
      "cell_type": "code",
      "metadata": {
        "id": "-IGLRqNJO-tp",
        "colab_type": "code",
        "outputId": "5e7e67bd-9f7e-4e9f-f9f3-8c71076096b3",
        "colab": {
          "base_uri": "https://localhost:8080/",
          "height": 34
        }
      },
      "source": [
        "model = LogisticRegression(solver='liblinear')\n",
        "params = {'C': [0.0001, 100]} #changed from original code\n",
        "search = GridSearchCV(model, params, cv=5, n_jobs=n_jobs, verbose=verbose)\n",
        "search.fit(sparse.vstack([train_features, valid_features]), train_labels+valid_labels)\n",
        "print(search.best_params_)\n",
        "model = model.set_params(**search.best_params_)"
      ],
      "execution_count": 50,
      "outputs": [
        {
          "output_type": "stream",
          "text": [
            "{'C': 100}\n"
          ],
          "name": "stdout"
        }
      ]
    },
    {
      "cell_type": "code",
      "metadata": {
        "id": "mXJZzxJWKpmB",
        "colab_type": "code",
        "outputId": "e6e8c0b0-dc81-47ae-f028-959bf3f61138",
        "colab": {
          "base_uri": "https://localhost:8080/",
          "height": 52
        }
      },
      "source": [
        "# n_jobs=None\n",
        "# verbose=False\n",
        "\n",
        "\n",
        "# vect = TfidfVectorizer(ngram_range=(1, 2), min_df=5, max_features=2**21)\n",
        "# train_features = vect.fit_transform(train_texts)\n",
        "# valid_features = vect.transform(valid_texts)\n",
        "# test_features = vect.transform(test_texts)\n",
        "\n",
        "# print('done vectorizing features')\n",
        "\n",
        "# model = LogisticRegression(solver='liblinear')\n",
        "# params = {'C': [0.0001, 100]} #changed from original code\n",
        "# search = GridSearchCV(model, params, cv=5, n_jobs=n_jobs, verbose=verbose)\n",
        "# search.fit(sparse.vstack([train_features, valid_features]), train_labels+valid_labels)\n",
        "# print(search.best_params_)\n",
        "# model = model.set_params(**search.best_params_)\n",
        "model.fit(train_features, train_labels)\n",
        "print('model has been fit')\n",
        "valid_accuracy = model.score(valid_features, valid_labels)*100.\n",
        "test_accuracy = model.score(test_features, test_labels)*100.\n",
        "data = {\n",
        "    'valid_accuracy':valid_accuracy,\n",
        "    'test_accuracy':test_accuracy\n",
        "}\n",
        "print(data)"
      ],
      "execution_count": 57,
      "outputs": [
        {
          "output_type": "stream",
          "text": [
            "model has been fit\n",
            "{'valid_accuracy': 88.235, 'test_accuracy': 88.21}\n"
          ],
          "name": "stdout"
        }
      ]
    },
    {
      "cell_type": "code",
      "metadata": {
        "id": "RNd9iKKtRNx3",
        "colab_type": "code",
        "colab": {}
      },
      "source": [
        "test_predictions = model.predict(test_features)"
      ],
      "execution_count": 0,
      "outputs": []
    },
    {
      "cell_type": "code",
      "metadata": {
        "id": "wUvbFRNpRU4P",
        "colab_type": "code",
        "outputId": "fd5d4c6c-2818-401f-837b-475dcc1e2538",
        "colab": {
          "base_uri": "https://localhost:8080/",
          "height": 34
        }
      },
      "source": [
        "print(type(test_labels), type(test_predictions))"
      ],
      "execution_count": 0,
      "outputs": [
        {
          "output_type": "stream",
          "text": [
            "<class 'tuple'> <class 'numpy.ndarray'>\n"
          ],
          "name": "stdout"
        }
      ]
    },
    {
      "cell_type": "code",
      "metadata": {
        "id": "7uWEUsFbRhX2",
        "colab_type": "code",
        "colab": {}
      },
      "source": [
        "true_test = list(test_labels)\n",
        "predictions = list(test_predictions)"
      ],
      "execution_count": 0,
      "outputs": []
    },
    {
      "cell_type": "code",
      "metadata": {
        "id": "mXNPprZGRvBO",
        "colab_type": "code",
        "colab": {}
      },
      "source": [
        "cm = confusion_matrix(true_test, predictions)"
      ],
      "execution_count": 0,
      "outputs": []
    },
    {
      "cell_type": "code",
      "metadata": {
        "id": "jlRhmVi8SH_F",
        "colab_type": "code",
        "colab": {}
      },
      "source": [
        "import itertools\n",
        "import numpy as np\n",
        "import matplotlib.pyplot as plt\n",
        "\n",
        "def plot_confusion_matrix(cm, classes, normalize=False, title='Confusion matrix', cmap=plt.cm.Blues):\n",
        "    if normalize:\n",
        "        cm = cm.astype('float') / cm.sum(axis=1)[:, np.newaxis]\n",
        "        print(\"Normalized confusion matrix\")\n",
        "    else:\n",
        "        print('Confusion matrix, without normalization')\n",
        "\n",
        "    print(cm)\n",
        "    plt.imshow(cm, interpolation='nearest', cmap=cmap)\n",
        "    plt.title(title)\n",
        "    plt.colorbar()\n",
        "    tick_marks = np.arange(len(classes))\n",
        "    plt.xticks(tick_marks, classes, rotation=45)\n",
        "    plt.yticks(tick_marks, classes)\n",
        "\n",
        "    fmt = '.2f' if normalize else 'd'\n",
        "    thresh = cm.max() / 2.\n",
        "    for i, j in itertools.product(range(cm.shape[0]), range(cm.shape[1])):\n",
        "        plt.text(j, i, format(cm[i, j], fmt), horizontalalignment=\"center\", color=\"white\" if cm[i, j] > thresh else \"black\")\n",
        "\n",
        "    plt.tight_layout()\n",
        "    plt.ylabel('True label')\n",
        "    plt.xlabel('Predicted label')\n"
      ],
      "execution_count": 0,
      "outputs": []
    },
    {
      "cell_type": "code",
      "metadata": {
        "id": "z4vP6wZNSWTG",
        "colab_type": "code",
        "outputId": "7c7093c6-a94c-4d13-874e-37dc2fc41517",
        "colab": {
          "base_uri": "https://localhost:8080/",
          "height": 363
        }
      },
      "source": [
        "plot_confusion_matrix(cm, (\"Webtext\", \"GPT-2\"))\n"
      ],
      "execution_count": 62,
      "outputs": [
        {
          "output_type": "stream",
          "text": [
            "Confusion matrix, without normalization\n",
            "[[8843 1163]\n",
            " [1195 8799]]\n"
          ],
          "name": "stdout"
        },
        {
          "output_type": "display_data",
          "data": {
            "image/png": "[encoded data removed]",
            "text/plain": [
              "<Figure size 432x288 with 2 Axes>"
            ]
          },
          "metadata": {
            "tags": [],
            "needs_background": "light"
          }
        }
      ]
    },
    {
      "cell_type": "code",
      "metadata": {
        "id": "vW7--NIsalEk",
        "colab_type": "code",
        "colab": {}
      },
      "source": [
        "new_features = vect.transform(new_texts)"
      ],
      "execution_count": 0,
      "outputs": []
    },
    {
      "cell_type": "code",
      "metadata": {
        "id": "2m9WQrUWTCND",
        "colab_type": "code",
        "outputId": "e9568865-ee2f-4a39-da36-a7f22ba6f965",
        "colab": {
          "base_uri": "https://localhost:8080/",
          "height": 34
        }
      },
      "source": [
        "model.predict(new_features)"
      ],
      "execution_count": 67,
      "outputs": [
        {
          "output_type": "execute_result",
          "data": {
            "text/plain": [
              "array([0, 0, 0, 0, 0])"
            ]
          },
          "metadata": {
            "tags": []
          },
          "execution_count": 67
        }
      ]
    }
  ]
}