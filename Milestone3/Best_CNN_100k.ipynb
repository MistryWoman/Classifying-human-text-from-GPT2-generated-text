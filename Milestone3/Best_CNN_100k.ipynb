{
 "cells": [
  {
   "cell_type": "code",
   "execution_count": 1,
   "metadata": {
    "colab": {
     "base_uri": "https://localhost:8080/",
     "height": 124
    },
    "colab_type": "code",
    "id": "pvEg-06BHycP",
    "outputId": "4a87c4e1-db17-496e-92a4-8ea149f793e6"
   },
   "outputs": [
    {
     "name": "stdout",
     "output_type": "stream",
     "text": [
      "Go to this URL in a browser: https://accounts.google.com/o/oauth2/auth?client_id=947318989803-6bn6qk8qdgf4n4g3pfee6491hc0brc4i.apps.googleusercontent.com&redirect_uri=urn%3aietf%3awg%3aoauth%3a2.0%3aoob&response_type=code&scope=email%20https%3a%2f%2fwww.googleapis.com%2fauth%2fdocs.test%20https%3a%2f%2fwww.googleapis.com%2fauth%2fdrive%20https%3a%2f%2fwww.googleapis.com%2fauth%2fdrive.photos.readonly%20https%3a%2f%2fwww.googleapis.com%2fauth%2fpeopleapi.readonly\n",
      "\n",
      "Enter your authorization code:\n",
      "··········\n",
      "Mounted at /content/drive\n"
     ]
    }
   ],
   "source": [
    "from google.colab import drive\n",
    "drive.mount('/content/drive')"
   ]
  },
  {
   "cell_type": "code",
   "execution_count": 0,
   "metadata": {
    "colab": {},
    "colab_type": "code",
    "id": "2fGixuwMDwpk"
   },
   "outputs": [],
   "source": [
    "import os\n",
    "import json\n",
    "import pandas as pd\n",
    "import numpy as np\n",
    "from scipy import sparse\n",
    "from sklearn.model_selection import train_test_split\n",
    "from sklearn.model_selection import PredefinedSplit, GridSearchCV\n",
    "from sklearn.linear_model import LogisticRegression\n",
    "from sklearn.feature_extraction.text import TfidfVectorizer\n",
    "import sklearn\n",
    "import torch\n",
    "import torchtext\n",
    "from torchtext.data import Field, LabelField\n",
    "from torchtext.data import TabularDataset\n",
    "from torchtext.data import Iterator, BucketIterator\n",
    "import spacy\n",
    "import en_core_web_sm\n",
    "from torch.utils.data import TensorDataset, DataLoader, RandomSampler, SequentialSampler\n",
    "import torch.nn as nn\n",
    "import torch.nn.functional as F\n",
    "import torch.autograd as autograd\n",
    "from tqdm import tqdm, trange\n",
    "import numpy as np\n",
    "from sklearn.metrics import accuracy_score, f1_score, recall_score, precision_score, classification_report, confusion_matrix\n",
    "import time\n",
    "from collections import Counter\n",
    "\n",
    "path = \"/content/drive/My Drive/Colab Notebooks/data/\"\n"
   ]
  },
  {
   "cell_type": "code",
   "execution_count": 3,
   "metadata": {
    "colab": {
     "base_uri": "https://localhost:8080/",
     "height": 34
    },
    "colab_type": "code",
    "id": "d5z9RPU7P4sS",
    "outputId": "ac93bde8-b403-47a9-f6cc-6eda1ff304f8"
   },
   "outputs": [
    {
     "name": "stdout",
     "output_type": "stream",
     "text": [
      "Requirement already up-to-date: torch in /usr/local/lib/python3.6/dist-packages (1.4.0)\n"
     ]
    }
   ],
   "source": [
    "!pip install -U torch"
   ]
  },
  {
   "cell_type": "code",
   "execution_count": 4,
   "metadata": {
    "colab": {
     "base_uri": "https://localhost:8080/",
     "height": 436
    },
    "colab_type": "code",
    "id": "us_0vewlDzgd",
    "outputId": "68ab8daf-8af2-4bd5-ce40-0c553fa149f7"
   },
   "outputs": [
    {
     "name": "stdout",
     "output_type": "stream",
     "text": [
      "Requirement already satisfied: en_core_web_sm==2.2.5 from https://github.com/explosion/spacy-models/releases/download/en_core_web_sm-2.2.5/en_core_web_sm-2.2.5.tar.gz#egg=en_core_web_sm==2.2.5 in /usr/local/lib/python3.6/dist-packages (2.2.5)\n",
      "Requirement already satisfied: spacy>=2.2.2 in /usr/local/lib/python3.6/dist-packages (from en_core_web_sm==2.2.5) (2.2.4)\n",
      "Requirement already satisfied: plac<1.2.0,>=0.9.6 in /usr/local/lib/python3.6/dist-packages (from spacy>=2.2.2->en_core_web_sm==2.2.5) (1.1.3)\n",
      "Requirement already satisfied: blis<0.5.0,>=0.4.0 in /usr/local/lib/python3.6/dist-packages (from spacy>=2.2.2->en_core_web_sm==2.2.5) (0.4.1)\n",
      "Requirement already satisfied: tqdm<5.0.0,>=4.38.0 in /usr/local/lib/python3.6/dist-packages (from spacy>=2.2.2->en_core_web_sm==2.2.5) (4.38.0)\n",
      "Requirement already satisfied: preshed<3.1.0,>=3.0.2 in /usr/local/lib/python3.6/dist-packages (from spacy>=2.2.2->en_core_web_sm==2.2.5) (3.0.2)\n",
      "Requirement already satisfied: wasabi<1.1.0,>=0.4.0 in /usr/local/lib/python3.6/dist-packages (from spacy>=2.2.2->en_core_web_sm==2.2.5) (0.6.0)\n",
      "Requirement already satisfied: catalogue<1.1.0,>=0.0.7 in /usr/local/lib/python3.6/dist-packages (from spacy>=2.2.2->en_core_web_sm==2.2.5) (1.0.0)\n",
      "Requirement already satisfied: requests<3.0.0,>=2.13.0 in /usr/local/lib/python3.6/dist-packages (from spacy>=2.2.2->en_core_web_sm==2.2.5) (2.21.0)\n",
      "Requirement already satisfied: numpy>=1.15.0 in /usr/local/lib/python3.6/dist-packages (from spacy>=2.2.2->en_core_web_sm==2.2.5) (1.18.2)\n",
      "Requirement already satisfied: srsly<1.1.0,>=1.0.2 in /usr/local/lib/python3.6/dist-packages (from spacy>=2.2.2->en_core_web_sm==2.2.5) (1.0.2)\n",
      "Requirement already satisfied: cymem<2.1.0,>=2.0.2 in /usr/local/lib/python3.6/dist-packages (from spacy>=2.2.2->en_core_web_sm==2.2.5) (2.0.3)\n",
      "Requirement already satisfied: thinc==7.4.0 in /usr/local/lib/python3.6/dist-packages (from spacy>=2.2.2->en_core_web_sm==2.2.5) (7.4.0)\n",
      "Requirement already satisfied: murmurhash<1.1.0,>=0.28.0 in /usr/local/lib/python3.6/dist-packages (from spacy>=2.2.2->en_core_web_sm==2.2.5) (1.0.2)\n",
      "Requirement already satisfied: setuptools in /usr/local/lib/python3.6/dist-packages (from spacy>=2.2.2->en_core_web_sm==2.2.5) (46.1.3)\n",
      "Requirement already satisfied: importlib-metadata>=0.20; python_version < \"3.8\" in /usr/local/lib/python3.6/dist-packages (from catalogue<1.1.0,>=0.0.7->spacy>=2.2.2->en_core_web_sm==2.2.5) (1.6.0)\n",
      "Requirement already satisfied: certifi>=2017.4.17 in /usr/local/lib/python3.6/dist-packages (from requests<3.0.0,>=2.13.0->spacy>=2.2.2->en_core_web_sm==2.2.5) (2020.4.5.1)\n",
      "Requirement already satisfied: idna<2.9,>=2.5 in /usr/local/lib/python3.6/dist-packages (from requests<3.0.0,>=2.13.0->spacy>=2.2.2->en_core_web_sm==2.2.5) (2.8)\n",
      "Requirement already satisfied: chardet<3.1.0,>=3.0.2 in /usr/local/lib/python3.6/dist-packages (from requests<3.0.0,>=2.13.0->spacy>=2.2.2->en_core_web_sm==2.2.5) (3.0.4)\n",
      "Requirement already satisfied: urllib3<1.25,>=1.21.1 in /usr/local/lib/python3.6/dist-packages (from requests<3.0.0,>=2.13.0->spacy>=2.2.2->en_core_web_sm==2.2.5) (1.24.3)\n",
      "Requirement already satisfied: zipp>=0.5 in /usr/local/lib/python3.6/dist-packages (from importlib-metadata>=0.20; python_version < \"3.8\"->catalogue<1.1.0,>=0.0.7->spacy>=2.2.2->en_core_web_sm==2.2.5) (3.1.0)\n",
      "\u001b[38;5;2m✔ Download and installation successful\u001b[0m\n",
      "You can now load the model via spacy.load('en_core_web_sm')\n"
     ]
    }
   ],
   "source": [
    "!python -m spacy download en_core_web_sm"
   ]
  },
  {
   "cell_type": "code",
   "execution_count": 5,
   "metadata": {
    "colab": {
     "base_uri": "https://localhost:8080/",
     "height": 34
    },
    "colab_type": "code",
    "id": "uYh0BzRTDwpu",
    "outputId": "2aea7815-eebb-4454-8514-2f0eac121f9d"
   },
   "outputs": [
    {
     "name": "stdout",
     "output_type": "stream",
     "text": [
      "cuda\n"
     ]
    }
   ],
   "source": [
    "manual_seed = 77\n",
    "torch.manual_seed(manual_seed)\n",
    "device = torch.device(\"cuda\" if torch.cuda.is_available() else \"cpu\")\n",
    "print(device)\n",
    "n_gpu = torch.cuda.device_count()\n",
    "if n_gpu > 0:\n",
    "    torch.cuda.manual_seed(manual_seed)"
   ]
  },
  {
   "cell_type": "markdown",
   "metadata": {
    "colab_type": "text",
    "id": "ZHMsTWXgDwp5"
   },
   "source": [
    "#EDA"
   ]
  },
  {
   "cell_type": "code",
   "execution_count": 0,
   "metadata": {
    "colab": {},
    "colab_type": "code",
    "id": "axp-pCd3Dwp6"
   },
   "outputs": [],
   "source": [
    "# reading in 50k data\n",
    "df = pd.read_csv(path+\"subset_100k.csv\", index_col=0, encoding=\"utf-8\").reset_index(drop=True)\n",
    "# df_shuffled = df.sample(frac=1, random_state=123) #shuffle rows randomly\n",
    "# df_shuffled = df_shuffled.drop(columns=\"index\") #drops index to only keep text and label\n",
    "train, validate, test = np.split(df.sample(frac=1, random_state=123).drop(columns=\"index\"), \n",
    "                                                                          [int(.6*len(df)), int(.8*len(df))])\n",
    "train_texts, train_labels = zip(*train.values) #resulting type is tuples\n",
    "valid_texts, valid_labels = zip(*validate.values)\n",
    "test_texts, test_labels = zip(*test.values)"
   ]
  },
  {
   "cell_type": "code",
   "execution_count": 0,
   "metadata": {
    "colab": {
     "base_uri": "https://localhost:8080/",
     "height": 69
    },
    "colab_type": "code",
    "id": "2APQb4cd6t-z",
    "outputId": "935656fc-7fb3-4afc-f109-f86261f4e082"
   },
   "outputs": [
    {
     "name": "stdout",
     "output_type": "stream",
     "text": [
      "Counter({0: 30118, 1: 29882})\n",
      "Counter({1: 10124, 0: 9876})\n",
      "Counter({0: 10006, 1: 9994})\n"
     ]
    }
   ],
   "source": [
    "#check distribution of shuffled data by class (random state 123)\n",
    "\n",
    "print(Counter(train_labels))\n",
    "print(Counter(valid_labels))\n",
    "print(Counter(test_labels))"
   ]
  },
  {
   "cell_type": "code",
   "execution_count": 0,
   "metadata": {
    "colab": {
     "base_uri": "https://localhost:8080/",
     "height": 156
    },
    "colab_type": "code",
    "id": "Ug6_viDP6t4u",
    "outputId": "fa2a0bf5-8d5b-49f0-8f62-6c95a647d6a6"
   },
   "outputs": [
    {
     "name": "stdout",
     "output_type": "stream",
     "text": [
      "                                                    text  labels\n",
      "42083  MUMBAI: India's star professional boxer and Ol...       0\n",
      "71825  P.S: This may not seem like something that is ...       1\n",
      "99535  This pattern is available\\n\\nThe pattern is fr...       1\n",
      "                                                    text  labels\n",
      "20737  Ohio Gov. John Kasich is continuing his attack...       0\n",
      "37688  This page has been flagged for a review of its...       0\n",
      "83502  An Ottawa family is speaking out after a photo...       1\n"
     ]
    }
   ],
   "source": [
    "print(train[:3])\n",
    "print(train[-3:])"
   ]
  },
  {
   "cell_type": "code",
   "execution_count": 0,
   "metadata": {
    "colab": {
     "base_uri": "https://localhost:8080/",
     "height": 156
    },
    "colab_type": "code",
    "id": "-jscE4_hGNba",
    "outputId": "31251484-6d11-468d-ee4c-e4967bcdf62d"
   },
   "outputs": [
    {
     "name": "stdout",
     "output_type": "stream",
     "text": [
      "                                                    text  labels\n",
      "75082  A recent study has found that children are mor...       1\n",
      "88345  Greetings Friends,\\n\\n\\nI hope everyone is cel...       1\n",
      "95838  The UESPWiki – Your source for The Elder Scrol...       1\n",
      "                                                    text  labels\n",
      "89728  The Washington Post reports this week that the...       1\n",
      "32245  Climate Change Protesters Canceled March in Co...       0\n",
      "4458   When Canadiens general manager Marc Bergevin s...       0\n"
     ]
    }
   ],
   "source": [
    "print(validate[:3])\n",
    "print(validate[-3:])"
   ]
  },
  {
   "cell_type": "code",
   "execution_count": 0,
   "metadata": {
    "colab": {
     "base_uri": "https://localhost:8080/",
     "height": 156
    },
    "colab_type": "code",
    "id": "yxev-MELGNYX",
    "outputId": "66c3944b-45a2-400c-e919-888617363efb"
   },
   "outputs": [
    {
     "name": "stdout",
     "output_type": "stream",
     "text": [
      "                                                    text  labels\n",
      "21563  According to local services' estimates, about ...       0\n",
      "67879  \"I feel extremely lucky that I was at the righ...       1\n",
      "86351  The Department of Homeland Security (DHS) is t...       1\n",
      "                                                    text  labels\n",
      "17730  Just checked into the speaker forum to look fo...       0\n",
      "28030  SHOWCASE ! That Bastard Is Trying To Steal Our...       0\n",
      "15725  Touch Of Malice Check List\\n\\nMausoleum\\n\\n1\\n...       0\n"
     ]
    }
   ],
   "source": [
    "print(test[:3])\n",
    "print(test[-3:])"
   ]
  },
  {
   "cell_type": "code",
   "execution_count": 0,
   "metadata": {
    "colab": {},
    "colab_type": "code",
    "id": "dcIpj5u_GNVt"
   },
   "outputs": [],
   "source": []
  },
  {
   "cell_type": "code",
   "execution_count": 0,
   "metadata": {
    "colab": {},
    "colab_type": "code",
    "id": "PROuds5qDwqB"
   },
   "outputs": [],
   "source": [
    "#create train, val, test subsets from 50k subset\n",
    "\n",
    "# train.to_csv(path+\"subset_50k_train.csv\", index=False)\n",
    "# validate.to_csv(path+\"subset_50k_valid.csv\", index=False)\n",
    "# test.to_csv(path+\"subset_50k_test.csv\", index=False)"
   ]
  },
  {
   "cell_type": "code",
   "execution_count": 0,
   "metadata": {
    "colab": {
     "base_uri": "https://localhost:8080/",
     "height": 121
    },
    "colab_type": "code",
    "id": "WwCrAhh-DwqT",
    "outputId": "1472a940-4d15-416c-e2d1-b5bfc0f02c94",
    "scrolled": true
   },
   "outputs": [
    {
     "name": "stdout",
     "output_type": "stream",
     "text": [
      "60000\n",
      "20000\n",
      "20000\n",
      "60000\n",
      "20000\n",
      "20000\n"
     ]
    }
   ],
   "source": [
    "print(len(train))\n",
    "print(len(validate))\n",
    "print(len(test))\n",
    "\n",
    "print(len(train_texts))\n",
    "print(len(valid_texts))\n",
    "print(len(test_texts))"
   ]
  },
  {
   "cell_type": "code",
   "execution_count": 31,
   "metadata": {
    "colab": {
     "base_uri": "https://localhost:8080/",
     "height": 419
    },
    "colab_type": "code",
    "id": "RiKTKhVVIaBI",
    "outputId": "44482f53-fe30-4c96-eae5-4b4633c2fbfe"
   },
   "outputs": [
    {
     "name": "stdout",
     "output_type": "stream",
     "text": [
      "                                                                                                                                                                                                                        text  labels\n",
      "0                  We're taking one for the team today in order to make shopping here better.While you wait, read our blog , or check @FinishLine on Instagramand stay up to speed on all things sneakers, style, and sport.       0\n",
      "1              Goal 3: Cut the unemployment rate among young people in half within 3 years. 15 Goals to Rebuild the American Dream\\n\\nThe unemployment rate for young people aged 16 to 24 is above 14 percent.\\n\\nRead More       0\n",
      "2                  Molly Dorozenski, Greenpeace USA joins Thom. Hillary Clinton says that Bernie Sanders is lying when he says that her campaign accepts money from the fossil fuel industry. But what about her Super PACs?       0\n",
      "3                Scientists can now visualize and experiment with structures and dynamics of complex molecular structures (at atomic-level precision), with real-time multi-user collaboration via the cloud\\n\\nJuly 6, 2018       0\n",
      "4  SOLARIUS LYONAR KINGDOMS\\n\\nidle breathing run attack death\\n\\nType: Unit\\n\\nRarity: Legendary\\n\\nSet: Denizens of Shim'Zar\\n\\nCost: 5\\n\\nStats: 3/2\\n\\nEffect:\\n\\nZeal: Draw 2 additional cards at the end of your turn.       0\n",
      "5                  Beasts Of Burgundy - Twelve original new songs from the mind of Jimbo Mathus and the Squirrel Nut Zippers. This is the bands first studio album in 18 years. A return to form... a revival not a reunion.       0\n",
      "6             This program focuses on hands-on, practical experience and culminates with an capstone experience in place of a thesis\\n\\nTo be considered for a $4000 scholarship apply by October 1, 2018\\n\\nNo GRE required       0\n",
      "7                 \"Playing with cats and taking their pictures gives me a lot of joy,\" he told BuzzFeed. \"I decided that my pictures shouldn't look like all other beautiful cat pictures — they must be something special.\"       0\n",
      "8               Milk It Kit\\n\\nMilk It was created by a mom to support moms and the milk they make! It was formed with the idea that pumping milk while working should be less daunting and could be more fun and rewarding.       0\n",
      "9                Pro Tour Amonkhet is now down to just eight players. Take a look at what they brought for this weekend's Standard rounds, and what they will be battling with on Sunday for the title of Pro Tour Champion.       0\n",
      "0    201\n",
      "1    201\n",
      "2    201\n",
      "3    201\n",
      "4    201\n",
      "5    201\n",
      "6    202\n",
      "7    202\n",
      "8    202\n",
      "9    203\n",
      "Name: text, dtype: int64\n"
     ]
    }
   ],
   "source": [
    "pd.set_option('display.max_colwidth',1000)\n",
    "\n",
    "sub_val = validate[validate.labels==0]\n",
    "\n",
    "# print(validate.text.str.len())\n",
    "\n",
    "# print(validate.text.str.len().sort_values())\n",
    "\n",
    "s = sub_val.text.str.len().sort_values().index\n",
    "df1 = sub_val.reindex(s)\n",
    "df1 = df1.reset_index(drop=True)\n",
    "print(df1.head(10))\n",
    "print(df1.text.str.len().head(10))"
   ]
  },
  {
   "cell_type": "code",
   "execution_count": 0,
   "metadata": {
    "colab": {},
    "colab_type": "code",
    "id": "K-Jth99wrSUt"
   },
   "outputs": [],
   "source": [
    "short_string = sub_val[sub_val.text.str.contains(\"Summary Focus of this page: This page discusses our current view of the evidence for a wide range of programs\")].text"
   ]
  },
  {
   "cell_type": "code",
   "execution_count": 0,
   "metadata": {
    "colab": {},
    "colab_type": "code",
    "id": "CLth2aZYIZ-F"
   },
   "outputs": [],
   "source": [
    "long_string = sub_val[sub_val.text.str.contains(\"Summary Focus of this page: This page discusses our current view of the evidence for a wide range of programs\")].text\n"
   ]
  },
  {
   "cell_type": "code",
   "execution_count": 0,
   "metadata": {
    "colab": {},
    "colab_type": "code",
    "id": "9AgMjA11IZ7Z"
   },
   "outputs": [],
   "source": [
    "long_string = long_string.to_string()[8:]"
   ]
  },
  {
   "cell_type": "code",
   "execution_count": 0,
   "metadata": {
    "colab": {},
    "colab_type": "code",
    "id": "IDuwLyDmIZ0O"
   },
   "outputs": [],
   "source": [
    "long_string2 = sub_val[sub_val.text.str.contains(\"If you look on a board game shelf, how many games will you see with actions based on collaboration\")].text\n",
    "long_string2 = long_string2.to_string()[9:]"
   ]
  },
  {
   "cell_type": "code",
   "execution_count": 0,
   "metadata": {
    "colab": {},
    "colab_type": "code",
    "id": "3Sc-S656IZw7"
   },
   "outputs": [],
   "source": []
  },
  {
   "cell_type": "markdown",
   "metadata": {
    "colab_type": "text",
    "id": "xGVuozlj-3ga"
   },
   "source": [
    "#Logistic Regression Baseline"
   ]
  },
  {
   "cell_type": "code",
   "execution_count": 0,
   "metadata": {
    "colab": {},
    "colab_type": "code",
    "id": "0v0ZfjMb-3MX"
   },
   "outputs": [],
   "source": []
  },
  {
   "cell_type": "code",
   "execution_count": 0,
   "metadata": {
    "colab": {
     "base_uri": "https://localhost:8080/",
     "height": 52
    },
    "colab_type": "code",
    "id": "-HXiqTnUDwqY",
    "outputId": "c2827b1f-9c85-4b22-8450-a7245e64dd32"
   },
   "outputs": [
    {
     "name": "stdout",
     "output_type": "stream",
     "text": [
      "{'C': 100}\n",
      "{'valid_accuracy': 85.79, 'test_accuracy': 87.01}\n"
     ]
    }
   ],
   "source": [
    "#100k subset\n",
    "\n",
    "n_jobs=None\n",
    "verbose=False\n",
    "\n",
    "start = time.time()\n",
    "\n",
    "vect = TfidfVectorizer(ngram_range=(1, 2), min_df=5, max_features=2**21)\n",
    "train_features = vect.fit_transform(train_texts)\n",
    "valid_features = vect.transform(valid_texts)\n",
    "test_features = vect.transform(test_texts)\n",
    "\n",
    "model = LogisticRegression(solver='liblinear')\n",
    "params = {'C': [0.0001, 0.001, 0.01, 0.1, 1.0, 10, 100]} #changed from original code\n",
    "search = GridSearchCV(model, params, cv=5, n_jobs=n_jobs, verbose=verbose)\n",
    "search.fit(sparse.vstack([train_features, valid_features]), train_labels+valid_labels)\n",
    "print(search.best_params_)\n",
    "model = model.set_params(**search.best_params_)\n",
    "model.fit(train_features, train_labels)\n",
    "valid_accuracy = model.score(valid_features, valid_labels)*100.\n",
    "test_accuracy = model.score(test_features, test_labels)*100.\n",
    "data = {\n",
    "    'valid_accuracy':valid_accuracy,\n",
    "    'test_accuracy':test_accuracy\n",
    "}\n",
    "\n",
    "end = time.time()\n",
    "\n",
    "print(\"time in seconds:\", end-start)\n",
    "print(data)"
   ]
  },
  {
   "cell_type": "markdown",
   "metadata": {
    "colab_type": "text",
    "id": "B7niM3RYDwqi"
   },
   "source": [
    "# Load and prepare dataset for pytorch"
   ]
  },
  {
   "cell_type": "code",
   "execution_count": 0,
   "metadata": {
    "colab": {},
    "colab_type": "code",
    "id": "JPyePrH3Dwqj"
   },
   "outputs": [],
   "source": [
    "# spacy_en = spacy.load(\"en_core_web_sm\", disable=[\"tagger\", \"parser\", \"ner\",\"textcat\"])\n",
    "# spacy_en.add_pipe(spacy_en.create_pipe('sentencizer')) #adding sentence tokenizer\n",
    "\n",
    "spacy_en = spacy.load('en_core_web_sm') #changed syntax?\n",
    "\n",
    "def tokenize_en(text):\n",
    "    \"\"\"\n",
    "    Tokenizes English text from a string into a list of strings (tokens)\n",
    "    \"\"\"\n",
    "    return [tok.text for tok in spacy_en.tokenizer(text)]\n",
    "\n",
    "TEXT = Field(sequential=True, tokenize=tokenize_en, lower=True)\n",
    "LABEL = Field(sequential=False, unk_token = None)\n"
   ]
  },
  {
   "cell_type": "code",
   "execution_count": 0,
   "metadata": {
    "colab": {},
    "colab_type": "code",
    "id": "Nb-Pc1vtDwqo"
   },
   "outputs": [],
   "source": [
    "#100k subset\n",
    "train, val, test = TabularDataset.splits(\n",
    "               path=path, # the root directory where the data lies\n",
    "               train='subset_100k_train.csv', validation=\"subset_100k_valid.csv\", test=\"subset_100k_test.csv\", # file names\n",
    "               format='csv',\n",
    "               skip_header=True, \n",
    "               fields=[('text', TEXT), ('label', LABEL)])"
   ]
  },
  {
   "cell_type": "code",
   "execution_count": 13,
   "metadata": {
    "colab": {
     "base_uri": "https://localhost:8080/",
     "height": 52
    },
    "colab_type": "code",
    "id": "VBZUYNmrDwqu",
    "outputId": "b1b288d5-e839-4892-f988-4afa8cfc0ca5"
   },
   "outputs": [
    {
     "name": "stdout",
     "output_type": "stream",
     "text": [
      "Vocabulary size of TEXT: 145549\n",
      "Vocabulary size of LABEL: 2\n"
     ]
    }
   ],
   "source": [
    "#100k subset\n",
    "\n",
    "TEXT.build_vocab(train, min_freq=2)\n",
    "LABEL.build_vocab(train)\n",
    "\n",
    "print(\"Vocabulary size of TEXT:\",len(TEXT.vocab.stoi))\n",
    "print(\"Vocabulary size of LABEL:\",len(LABEL.vocab.stoi))"
   ]
  },
  {
   "cell_type": "code",
   "execution_count": 0,
   "metadata": {
    "colab": {},
    "colab_type": "code",
    "id": "555zXk3JAMyP"
   },
   "outputs": [],
   "source": []
  },
  {
   "cell_type": "code",
   "execution_count": 0,
   "metadata": {
    "colab": {},
    "colab_type": "code",
    "id": "FOZ4YW9KAMvD"
   },
   "outputs": [],
   "source": []
  },
  {
   "cell_type": "code",
   "execution_count": 0,
   "metadata": {
    "colab": {},
    "colab_type": "code",
    "id": "XnPFViAHAMsc"
   },
   "outputs": [],
   "source": []
  },
  {
   "cell_type": "code",
   "execution_count": 0,
   "metadata": {
    "colab": {},
    "colab_type": "code",
    "id": "45ZqiRdsDwqz"
   },
   "outputs": [],
   "source": [
    "train_iter, val_iter = BucketIterator.splits( \n",
    " (train, val), \n",
    " batch_sizes=(64,256),\n",
    " sort_key=lambda x: len(x.text), \n",
    " sort=True,\n",
    " device=device,\n",
    " sort_within_batch=True\n",
    ")\n",
    "\n",
    "test_iter = Iterator(\n",
    "    test,\n",
    "    batch_size=(256),\n",
    "    sort_key=lambda x: len(x.text),\n",
    "    sort=False,\n",
    "    shuffle=False)"
   ]
  },
  {
   "cell_type": "code",
   "execution_count": 0,
   "metadata": {
    "colab": {},
    "colab_type": "code",
    "id": "FWGVVU7dI0UD"
   },
   "outputs": [],
   "source": []
  },
  {
   "cell_type": "code",
   "execution_count": 0,
   "metadata": {
    "colab": {},
    "colab_type": "code",
    "id": "wLzV6PFZI0Po"
   },
   "outputs": [],
   "source": []
  },
  {
   "cell_type": "code",
   "execution_count": 0,
   "metadata": {
    "colab": {
     "base_uri": "https://localhost:8080/",
     "height": 1000
    },
    "colab_type": "code",
    "id": "MZNAD9ecDwq5",
    "outputId": "023d45e3-d6dd-4ed1-986b-3e0fc9438b3e"
   },
   "outputs": [
    {
     "name": "stdout",
     "output_type": "stream",
     "text": [
      "0\n",
      "tensor([[    2,    11,    14,  ...,     0,    21, 11695],\n",
      "        [  156,    24,    13,  ...,     8,   115,  2534],\n",
      "        [    6,    13,   266,  ..., 17087,   101,  1805],\n",
      "        ...,\n",
      "        [  152,  9754,  2035,  ...,     1,     1,     1],\n",
      "        [ 1035,     4,  1538,  ...,     1,     1,     1],\n",
      "        [    4,    11,     4,  ...,     1,     1,     1]])\n",
      "tensor([0, 1, 1, 0, 0, 0, 0, 0, 0, 1, 0, 1, 0, 1, 0, 0, 1, 0, 0, 0, 1, 0, 0, 0,\n",
      "        0, 0, 0, 1, 1, 0, 1, 1, 0, 0, 1, 0, 0, 0, 0, 0, 1, 0, 0, 0, 1, 0, 1, 1,\n",
      "        1, 1, 1, 1, 0, 0, 1, 0, 1, 1, 1, 1, 0, 1, 1, 0, 0, 0, 1, 0, 0, 0, 1, 0,\n",
      "        1, 1, 1, 1, 1, 1, 0, 1, 1, 1, 0, 0, 0, 0, 1, 1, 0, 0, 0, 0, 1, 0, 0, 0,\n",
      "        0, 0, 0, 0, 0, 1, 0, 0, 0, 1, 1, 0, 0, 0, 0, 0, 0, 0, 0, 0, 0, 0, 0, 0,\n",
      "        0, 0, 0, 0, 0, 1, 1, 0, 0, 0, 0, 0, 0, 0, 1, 0, 0, 0, 0, 0, 0, 1, 1, 0,\n",
      "        0, 0, 0, 0, 0, 0, 0, 0, 0, 0, 0, 0, 0, 0, 0, 0, 0, 0, 0, 1, 0, 0, 1, 1,\n",
      "        1, 1, 0, 0, 0, 0, 1, 0, 0, 0, 1, 0, 1, 0, 0, 1, 1, 1, 1, 0, 0, 0, 0, 1,\n",
      "        0, 0, 1, 0, 1, 1, 0, 0, 1, 0, 0, 0, 0, 1, 0, 1, 0, 0, 0, 1, 0, 1, 1, 0,\n",
      "        1, 1, 0, 0, 0, 1, 1, 1, 1, 1, 0, 1, 1, 1, 1, 0, 1, 1, 0, 0, 0, 1, 0, 1,\n",
      "        1, 1, 1, 1, 1, 1, 1, 1, 1, 1, 1, 1, 0, 0, 1, 1])\n",
      "1\n",
      "tensor([[  6552,    748,  27342,  ...,     34,    192,    628],\n",
      "        [    13,      2, 120582,  ...,   4086,    519,    877],\n",
      "        [     7,  21297,   3091,  ...,  34586,     21,   1141],\n",
      "        ...,\n",
      "        [    18,     14,      0,  ...,      1,      1,      1],\n",
      "        [   666,      4,     31,  ...,      1,      1,      1],\n",
      "        [     4,     11,      4,  ...,      1,      1,      1]])\n",
      "tensor([1, 0, 0, 0, 1, 1, 0, 0, 0, 0, 0, 1, 0, 0, 0, 0, 0, 0, 0, 0, 1, 0, 0, 0,\n",
      "        0, 1, 0, 0, 0, 1, 0, 0, 0, 0, 0, 0, 0, 0, 1, 0, 0, 1, 1, 1, 0, 0, 1, 0,\n",
      "        1, 0, 0, 0, 0, 0, 0, 1, 0, 1, 0, 0, 1, 0, 1, 0, 0, 0, 0, 1, 0, 1, 0, 0,\n",
      "        1, 0, 0, 1, 0, 0, 0, 0, 0, 1, 1, 0, 0, 0, 0, 0, 0, 0, 0, 0, 0, 1, 0, 0,\n",
      "        0, 0, 0, 1, 0, 1, 0, 0, 0, 0, 1, 1, 0, 1, 0, 1, 0, 0, 0, 1, 0, 0, 0, 1,\n",
      "        1, 1, 1, 0, 0, 1, 0, 0, 0, 0, 1, 0, 1, 0, 0, 0, 0, 0, 1, 1, 0, 1, 0, 1,\n",
      "        0, 1, 0, 0, 1, 0, 0, 0, 0, 0, 1, 0, 1, 0, 0, 0, 0, 0, 0, 1, 1, 0, 1, 1,\n",
      "        0, 1, 0, 0, 0, 0, 0, 0, 1, 0, 0, 0, 0, 1, 0, 0, 0, 1, 0, 0, 0, 0, 0, 0,\n",
      "        0, 1, 0, 0, 0, 0, 0, 1, 0, 0, 0, 0, 1, 1, 0, 0, 0, 0, 0, 0, 0, 0, 1, 0,\n",
      "        1, 0, 0, 0, 0, 1, 1, 0, 0, 1, 0, 0, 1, 1, 0, 0, 0, 0, 0, 0, 0, 0, 0, 0,\n",
      "        0, 1, 0, 0, 0, 1, 0, 0, 0, 1, 0, 0, 1, 0, 0, 0])\n",
      "2\n",
      "tensor([[ 309,   19,   14,  ..., 1267,  318, 4703],\n",
      "        [   4,   22,   22,  ...,    9,   24,    0],\n",
      "        [   2, 4802, 1676,  ..., 6390,  211,   22],\n",
      "        ...,\n",
      "        [ 268,   23,  231,  ...,    1,    1,    1],\n",
      "        [  61, 2428, 7557,  ...,    1,    1,    1],\n",
      "        [   4,   35,    4,  ...,    1,    1,    1]])\n",
      "tensor([0, 1, 0, 1, 0, 1, 0, 0, 1, 1, 1, 1, 0, 1, 0, 0, 1, 0, 0, 0, 1, 0, 0, 1,\n",
      "        1, 0, 0, 0, 0, 0, 0, 0, 0, 1, 1, 0, 0, 1, 0, 0, 0, 1, 0, 0, 0, 0, 0, 0,\n",
      "        1, 0, 0, 0, 0, 0, 0, 0, 0, 1, 1, 1, 1, 0, 0, 0, 0, 1, 0, 1, 0, 0, 1, 0,\n",
      "        0, 0, 0, 0, 0, 1, 0, 0, 0, 0, 0, 0, 1, 0, 0, 1, 1, 0, 0, 0, 1, 0, 0, 0,\n",
      "        1, 0, 0, 0, 0, 0, 0, 0, 0, 0, 0, 0, 0, 1, 1, 0, 0, 0, 0, 0, 0, 1, 0, 0,\n",
      "        0, 1, 0, 1, 1, 0, 1, 0, 0, 1, 0, 0, 0, 0, 1, 0, 0, 1, 0, 0, 0, 1, 1, 0,\n",
      "        0, 0, 0, 1, 1, 0, 1, 0, 0, 0, 0, 1, 0, 0, 0, 0, 1, 0, 1, 0, 1, 1, 0, 0,\n",
      "        0, 0, 1, 0, 1, 0, 0, 0, 1, 1, 0, 0, 0, 0, 0, 0, 0, 0, 0, 0, 0, 0, 1, 0,\n",
      "        0, 1, 0, 0, 1, 0, 1, 1, 0, 1, 1, 0, 0, 1, 0, 1, 0, 0, 0, 1, 0, 0, 0, 1,\n",
      "        0, 0, 0, 0, 0, 0, 1, 0, 1, 1, 0, 1, 0, 1, 0, 0, 0, 1, 0, 0, 1, 0, 1, 1,\n",
      "        0, 0, 0, 0, 0, 1, 0, 0, 1, 1, 0, 1, 0, 1, 0, 0])\n",
      "texts: torch.Size([66, 256])\n",
      "labels: torch.Size([256])\n"
     ]
    }
   ],
   "source": [
    "# create a single batch and terminate the loop\n",
    "i = 0\n",
    "for batch in val_iter:\n",
    "    texts = batch.text\n",
    "    labels = batch.label\n",
    "    print(i)\n",
    "    print(texts)\n",
    "    print(labels)\n",
    "    i+=1\n",
    "    if i ==3:\n",
    "      break\n",
    "\n",
    "    #break  #we use first batch as an example.\n",
    "    \n",
    "print('texts:', texts.shape)\n",
    "print('labels:', labels.shape)\n",
    "\n",
    "# texts: [length, batch size]\n",
    "# labels: [batch size]"
   ]
  },
  {
   "cell_type": "markdown",
   "metadata": {
    "colab_type": "text",
    "id": "Ru0oxXl1Dwq-"
   },
   "source": [
    "# CNN baseline"
   ]
  },
  {
   "cell_type": "code",
   "execution_count": 0,
   "metadata": {
    "colab": {},
    "colab_type": "code",
    "id": "XRB5tHL1Dwq-"
   },
   "outputs": [],
   "source": [
    "# To define a CNN class\n",
    "class CNN_Text(nn.Module):\n",
    "    def __init__(self, vocabulary_size, embedding_dim, output_size, kernel_num, region_sizes, dropout):\n",
    "        '''\n",
    "        vocabulary_size: vocabulary size\n",
    "        embedding_dim: word embedding size\n",
    "        output_size: number of classes in prediction\n",
    "        kernel_num: number of kernels (number of output channels of convolutional layers)\n",
    "        region_sizes: height of kernels of convolutional layers\n",
    "        dropout: dropout rate\n",
    "        '''\n",
    "        super(CNN_Text, self).__init__()\n",
    "        # the size of input channel is 1.\n",
    "        Ci = 1\n",
    "        \n",
    "        # word embedding layer\n",
    "        self.embeddings = nn.Embedding(num_embeddings = vocabulary_size, embedding_dim = embedding_dim )\n",
    "        \n",
    "        # convolution with kernels\n",
    "        self.convolution_layers = nn.ModuleList([nn.Conv2d(in_channels = Ci, out_channels = kernel_num, kernel_size = (K, embedding_dim)) for K in region_sizes])\n",
    "        \n",
    "        # a dropout layer\n",
    "        self.dropout = nn.Dropout(dropout) \n",
    "        \n",
    "        # fully connected layer\n",
    "        self.fc = nn.Linear(len(kernel_sizes) * kernel_num, output_size)\n",
    "\n",
    "    def forward(self, x):\n",
    "        # input x  [sequence length, batch size]\n",
    "        \n",
    "        input_embeddings = self.embeddings(x)  \n",
    "        # (batch size, word_sequence, embedding_dim) word embedding\n",
    "\n",
    "        input_embeddings = input_embeddings.permute(1,0,2)\n",
    "        input_embeddings = input_embeddings.unsqueeze(1)\n",
    "        #  [batch size, number of channel is one, sequence length, embeeding size]\n",
    "\n",
    "        # convolutional layers\n",
    "        convolute_outputs = [F.relu(conv(input_embeddings)).squeeze(3) for conv in self.convolution_layers]  \n",
    "        \n",
    "        # to get the maximum value of filtered tensor\n",
    "        max_pooling_outputs = [F.max_pool1d(i, i.size(2)).squeeze(2) for i in convolute_outputs] \n",
    "        \n",
    "        concat_list = torch.cat(max_pooling_outputs, 1) # concatenate representations\n",
    "        \n",
    "        drop_output = self.dropout(concat_list)  # add drop layer\n",
    "        \n",
    "        fc1_output = self.fc(drop_output)  # get the fc1 using a fully connected layer\n",
    "        \n",
    "        final_output = F.softmax(fc1_output,dim=1)\n",
    "        \n",
    "        return final_output\n"
   ]
  },
  {
   "cell_type": "code",
   "execution_count": 0,
   "metadata": {
    "colab": {},
    "colab_type": "code",
    "id": "jl95C6aODwrD"
   },
   "outputs": [],
   "source": [
    "# Hyper Parameters\n",
    "\n",
    "# the vocabulary size\n",
    "vocabulary_size = len(TEXT.vocab.stoi) \n",
    "\n",
    "# Dimension of word embedding is 300. Namely, each word is expressed by a vector that has 300 dimensions.\n",
    "embedding_dim = 300 \n",
    "\n",
    "# region size as 2, 3, and 4\n",
    "kernel_sizes = [2,3,4] \n",
    "\n",
    "# the number of kernel in each region size\n",
    "kernels_num = 32  \n",
    "\n",
    "# The dropout rate is set to be 0.5.\n",
    "dropout = 0.5\n",
    "\n",
    "# The output size of labels.\n",
    "output_size = 2\n",
    "\n",
    "# learning rate is set to be 0.01. CHANGED FROM ORIGINAL\n",
    "lr = 0.0001        \n",
    "\n",
    "# The number of iteration is set to be 5.\n",
    "num_epoch = 5  \n",
    "\n",
    "# employ class CNN_Text and assign to cnn\n",
    "model = CNN_Text(vocabulary_size, embedding_dim, output_size, kernels_num, kernel_sizes, dropout).to(device)"
   ]
  },
  {
   "cell_type": "code",
   "execution_count": 0,
   "metadata": {
    "colab": {},
    "colab_type": "code",
    "id": "cZGhseSCDwrI"
   },
   "outputs": [],
   "source": [
    "def init_weights(m):\n",
    "    for name, param in m.named_parameters():\n",
    "        if 'weight' in name:\n",
    "            nn.init.normal_(param.data, mean=0, std=0.1)\n",
    "        else:\n",
    "            nn.init.constant_(param.data, 0)\n",
    "            \n",
    "#model.apply(init_weights)"
   ]
  },
  {
   "cell_type": "code",
   "execution_count": 0,
   "metadata": {
    "colab": {
     "base_uri": "https://localhost:8080/",
     "height": 34
    },
    "colab_type": "code",
    "id": "-3nnVOT7DwrN",
    "outputId": "d64ffc69-023a-442e-f5f7-3caed92ec996"
   },
   "outputs": [
    {
     "name": "stdout",
     "output_type": "stream",
     "text": [
      "The model has 43,929,290 trainable parameters\n"
     ]
    }
   ],
   "source": [
    "def count_parameters(model):\n",
    "    return sum(p.numel() for p in model.parameters() if p.requires_grad)\n",
    "\n",
    "print(f'The model has {count_parameters(model):,} trainable parameters')"
   ]
  },
  {
   "cell_type": "code",
   "execution_count": 0,
   "metadata": {
    "colab": {
     "base_uri": "https://localhost:8080/",
     "height": 34
    },
    "colab_type": "code",
    "id": "Og0OdT5w3_Tv",
    "outputId": "1b9ce9ee-b09a-407b-b698-5a7cc19d1e35"
   },
   "outputs": [
    {
     "name": "stdout",
     "output_type": "stream",
     "text": [
      "The model has 43,751,390 trainable parameters\n"
     ]
    }
   ],
   "source": [
    "#second run\n",
    "\n",
    "def count_parameters(model):\n",
    "    return sum(p.numel() for p in model.parameters() if p.requires_grad)\n",
    "\n",
    "print(f'The model has {count_parameters(model):,} trainable parameters')"
   ]
  },
  {
   "cell_type": "code",
   "execution_count": 0,
   "metadata": {
    "colab": {},
    "colab_type": "code",
    "id": "cccAFOyUDwrS"
   },
   "outputs": [],
   "source": [
    "# Loss and optimizer\n",
    "optimizer = torch.optim.Adam(model.parameters(), lr=lr)   # define a optimizer for backpropagation\n",
    "loss_func = nn.CrossEntropyLoss()   # define loss funtion"
   ]
  },
  {
   "cell_type": "code",
   "execution_count": 0,
   "metadata": {
    "colab": {},
    "colab_type": "code",
    "id": "dxVXTzNCDwrV"
   },
   "outputs": [],
   "source": [
    "def train(model, iterator, optimizer, criterion):\n",
    "    \n",
    "    model.train()\n",
    "    epoch_loss = 0\n",
    "    \n",
    "    for i, batch in enumerate(iterator):\n",
    "        \n",
    "        batch_input, labels = batch.text, batch.label\n",
    "        batch_input = batch_input.to(device)\n",
    "        labels = labels.to(device)\n",
    "\n",
    "        optimizer.zero_grad()\n",
    "        \n",
    "        outputs = model(batch_input)\n",
    "\n",
    "        loss = criterion(outputs, labels)\n",
    "        \n",
    "        loss.backward()\n",
    "        \n",
    "        optimizer.step()\n",
    "        \n",
    "        epoch_loss += loss.cpu().item()\n",
    "\n",
    "    return epoch_loss / len(iterator)\n",
    "\n",
    "def evaluate(model, iterator, criterion):\n",
    "    \n",
    "    model.eval()\n",
    "    \n",
    "    epoch_loss = 0\n",
    "    all_pred=[]\n",
    "    all_label = []\n",
    "    \n",
    "    with torch.no_grad():\n",
    "    \n",
    "        for i, batch in enumerate(iterator):\n",
    "\n",
    "            batch_input, labels = batch.text, batch.label\n",
    "            batch_input = batch_input.to(device)\n",
    "            labels = labels.to(device)\n",
    "\n",
    "            optimizer.zero_grad()\n",
    "\n",
    "            outputs = model(batch_input)\n",
    "\n",
    "            loss = criterion(outputs, labels)\n",
    "\n",
    "            epoch_loss += loss.cpu().item()\n",
    "\n",
    "            # identify the predicted class for each example in the batch\n",
    "            probabilities, predicted = torch.max(outputs.cpu().data, 1)\n",
    "            # put all the true labels and predictions to two lists\n",
    "            all_pred.extend(predicted)\n",
    "            all_label.extend(labels.cpu())\n",
    "  \n",
    "    \n",
    "    accuracy = accuracy_score(all_label, all_pred)\n",
    "    f1score = f1_score(all_label, all_pred, average='macro') \n",
    "    return epoch_loss / len(iterator), accuracy, f1score\n",
    "\n",
    "def epoch_time(start_time, end_time):\n",
    "    elapsed_time = end_time - start_time\n",
    "    elapsed_mins = int(elapsed_time / 60)\n",
    "    elapsed_secs = int(elapsed_time - (elapsed_mins * 60))\n",
    "    return elapsed_mins, elapsed_secs"
   ]
  },
  {
   "cell_type": "code",
   "execution_count": 0,
   "metadata": {
    "colab": {},
    "colab_type": "code",
    "id": "1tnMpUT6D5VN"
   },
   "outputs": [],
   "source": []
  },
  {
   "cell_type": "code",
   "execution_count": 0,
   "metadata": {
    "colab": {
     "base_uri": "https://localhost:8080/",
     "height": 34
    },
    "colab_type": "code",
    "id": "MB38dh_wD5R8",
    "outputId": "d04fd722-4533-44b5-d57b-9e725aec8482"
   },
   "outputs": [
    {
     "data": {
      "text/plain": [
       "40"
      ]
     },
     "execution_count": 123,
     "metadata": {
      "tags": []
     },
     "output_type": "execute_result"
    }
   ],
   "source": [
    "len(val_iter)"
   ]
  },
  {
   "cell_type": "code",
   "execution_count": 0,
   "metadata": {
    "colab": {
     "base_uri": "https://localhost:8080/",
     "height": 1000
    },
    "colab_type": "code",
    "id": "TXWX9rwLDwra",
    "outputId": "6025b333-5398-4eeb-e7bf-0a3bb9f490a2"
   },
   "outputs": [
    {
     "name": "stderr",
     "output_type": "stream",
     "text": [
      "Epoch:   5%|▌         | 1/20 [00:35<11:19, 35.75s/it]"
     ]
    },
    {
     "name": "stdout",
     "output_type": "stream",
     "text": [
      "Epoch: 01 | Time: 0m 35s\n",
      "\n",
      " Epoch [1/20], Train Loss: 0.5524, Validation Loss: 0.5830, Validation Accuracy: 0.6923, Validation F1: 0.6713\n"
     ]
    },
    {
     "name": "stderr",
     "output_type": "stream",
     "text": [
      "\r",
      "Epoch:  10%|█         | 2/20 [01:10<10:37, 35.42s/it]"
     ]
    },
    {
     "name": "stdout",
     "output_type": "stream",
     "text": [
      "Epoch: 02 | Time: 0m 34s\n",
      "\n",
      " Epoch [2/20], Train Loss: 0.5374, Validation Loss: 0.5694, Validation Accuracy: 0.7110, Validation F1: 0.6945\n"
     ]
    },
    {
     "name": "stderr",
     "output_type": "stream",
     "text": [
      "\r",
      "Epoch:  15%|█▌        | 3/20 [01:44<09:57, 35.12s/it]"
     ]
    },
    {
     "name": "stdout",
     "output_type": "stream",
     "text": [
      "Epoch: 03 | Time: 0m 34s\n",
      "\n",
      " Epoch [3/20], Train Loss: 0.5225, Validation Loss: 0.5647, Validation Accuracy: 0.7178, Validation F1: 0.7012\n"
     ]
    },
    {
     "name": "stderr",
     "output_type": "stream",
     "text": [
      "\r",
      "Epoch:  20%|██        | 4/20 [02:20<09:24, 35.27s/it]"
     ]
    },
    {
     "name": "stdout",
     "output_type": "stream",
     "text": [
      "Epoch: 04 | Time: 0m 35s\n",
      "\n",
      " Epoch [4/20], Train Loss: 0.5087, Validation Loss: 0.5510, Validation Accuracy: 0.7349, Validation F1: 0.7217\n"
     ]
    },
    {
     "name": "stderr",
     "output_type": "stream",
     "text": [
      "\r",
      "Epoch:  25%|██▌       | 5/20 [02:54<08:45, 35.03s/it]"
     ]
    },
    {
     "name": "stdout",
     "output_type": "stream",
     "text": [
      "Epoch: 05 | Time: 0m 34s\n",
      "\n",
      " Epoch [5/20], Train Loss: 0.4914, Validation Loss: 0.5409, Validation Accuracy: 0.7486, Validation F1: 0.7372\n"
     ]
    },
    {
     "name": "stderr",
     "output_type": "stream",
     "text": [
      "\r",
      "Epoch:  30%|███       | 6/20 [03:29<08:08, 34.89s/it]"
     ]
    },
    {
     "name": "stdout",
     "output_type": "stream",
     "text": [
      "Epoch: 06 | Time: 0m 34s\n",
      "\n",
      " Epoch [6/20], Train Loss: 0.4751, Validation Loss: 0.5370, Validation Accuracy: 0.7510, Validation F1: 0.7395\n"
     ]
    },
    {
     "name": "stderr",
     "output_type": "stream",
     "text": [
      "\r",
      "Epoch:  35%|███▌      | 7/20 [04:03<07:31, 34.76s/it]"
     ]
    },
    {
     "name": "stdout",
     "output_type": "stream",
     "text": [
      "Epoch: 07 | Time: 0m 34s\n",
      "\n",
      " Epoch [7/20], Train Loss: 0.4582, Validation Loss: 0.5264, Validation Accuracy: 0.7665, Validation F1: 0.7573\n"
     ]
    },
    {
     "name": "stderr",
     "output_type": "stream",
     "text": [
      "\r",
      "Epoch:  40%|████      | 8/20 [04:39<07:00, 35.01s/it]"
     ]
    },
    {
     "name": "stdout",
     "output_type": "stream",
     "text": [
      "Epoch: 08 | Time: 0m 35s\n",
      "\n",
      " Epoch [8/20], Train Loss: 0.4420, Validation Loss: 0.5210, Validation Accuracy: 0.7730, Validation F1: 0.7644\n"
     ]
    },
    {
     "name": "stderr",
     "output_type": "stream",
     "text": [
      "\r",
      "Epoch:  45%|████▌     | 9/20 [05:13<06:23, 34.83s/it]"
     ]
    },
    {
     "name": "stdout",
     "output_type": "stream",
     "text": [
      "Epoch: 09 | Time: 0m 34s\n",
      "\n",
      " Epoch [9/20], Train Loss: 0.4255, Validation Loss: 0.5094, Validation Accuracy: 0.7891, Validation F1: 0.7828\n"
     ]
    },
    {
     "name": "stderr",
     "output_type": "stream",
     "text": [
      "\r",
      "Epoch:  50%|█████     | 10/20 [05:48<05:47, 34.75s/it]"
     ]
    },
    {
     "name": "stdout",
     "output_type": "stream",
     "text": [
      "Epoch: 10 | Time: 0m 34s\n",
      "\n",
      " Epoch [10/20], Train Loss: 0.4107, Validation Loss: 0.5108, Validation Accuracy: 0.7844, Validation F1: 0.7774\n"
     ]
    },
    {
     "name": "stderr",
     "output_type": "stream",
     "text": [
      "\r",
      "Epoch:  55%|█████▌    | 11/20 [06:23<05:12, 34.67s/it]"
     ]
    },
    {
     "name": "stdout",
     "output_type": "stream",
     "text": [
      "Epoch: 11 | Time: 0m 34s\n",
      "\n",
      " Epoch [11/20], Train Loss: 0.3977, Validation Loss: 0.5058, Validation Accuracy: 0.7910, Validation F1: 0.7848\n"
     ]
    },
    {
     "name": "stderr",
     "output_type": "stream",
     "text": [
      "\r",
      "Epoch:  60%|██████    | 12/20 [06:58<04:39, 34.96s/it]"
     ]
    },
    {
     "name": "stdout",
     "output_type": "stream",
     "text": [
      "Epoch: 12 | Time: 0m 35s\n",
      "\n",
      " Epoch [12/20], Train Loss: 0.3860, Validation Loss: 0.4991, Validation Accuracy: 0.7984, Validation F1: 0.7935\n"
     ]
    },
    {
     "name": "stderr",
     "output_type": "stream",
     "text": [
      "\r",
      "Epoch:  65%|██████▌   | 13/20 [07:33<04:03, 34.82s/it]"
     ]
    },
    {
     "name": "stdout",
     "output_type": "stream",
     "text": [
      "Epoch: 13 | Time: 0m 34s\n",
      "\n",
      " Epoch [13/20], Train Loss: 0.3766, Validation Loss: 0.4941, Validation Accuracy: 0.8038, Validation F1: 0.7995\n"
     ]
    },
    {
     "name": "stderr",
     "output_type": "stream",
     "text": [
      "\r",
      "Epoch:  70%|███████   | 14/20 [08:07<03:28, 34.71s/it]"
     ]
    },
    {
     "name": "stdout",
     "output_type": "stream",
     "text": [
      "Epoch: 14 | Time: 0m 34s\n",
      "\n",
      " Epoch [14/20], Train Loss: 0.3687, Validation Loss: 0.4896, Validation Accuracy: 0.8073, Validation F1: 0.8037\n"
     ]
    },
    {
     "name": "stderr",
     "output_type": "stream",
     "text": [
      "\r",
      "Epoch:  75%|███████▌  | 15/20 [08:43<02:54, 34.97s/it]"
     ]
    },
    {
     "name": "stdout",
     "output_type": "stream",
     "text": [
      "Epoch: 15 | Time: 0m 35s\n",
      "\n",
      " Epoch [15/20], Train Loss: 0.3604, Validation Loss: 0.4922, Validation Accuracy: 0.8049, Validation F1: 0.8009\n"
     ]
    },
    {
     "name": "stderr",
     "output_type": "stream",
     "text": [
      "\r",
      "Epoch:  80%|████████  | 16/20 [09:17<02:19, 34.81s/it]"
     ]
    },
    {
     "name": "stdout",
     "output_type": "stream",
     "text": [
      "Epoch: 16 | Time: 0m 34s\n",
      "\n",
      " Epoch [16/20], Train Loss: 0.3542, Validation Loss: 0.4877, Validation Accuracy: 0.8105, Validation F1: 0.8072\n"
     ]
    },
    {
     "name": "stderr",
     "output_type": "stream",
     "text": [
      "\r",
      "Epoch:  85%|████████▌ | 17/20 [09:52<01:44, 34.70s/it]"
     ]
    },
    {
     "name": "stdout",
     "output_type": "stream",
     "text": [
      "Epoch: 17 | Time: 0m 34s\n",
      "\n",
      " Epoch [17/20], Train Loss: 0.3497, Validation Loss: 0.4854, Validation Accuracy: 0.8125, Validation F1: 0.8095\n"
     ]
    },
    {
     "name": "stderr",
     "output_type": "stream",
     "text": [
      "\r",
      "Epoch:  90%|█████████ | 18/20 [10:26<01:09, 34.63s/it]"
     ]
    },
    {
     "name": "stdout",
     "output_type": "stream",
     "text": [
      "Epoch: 18 | Time: 0m 34s\n",
      "\n",
      " Epoch [18/20], Train Loss: 0.3446, Validation Loss: 0.4850, Validation Accuracy: 0.8123, Validation F1: 0.8093\n"
     ]
    },
    {
     "name": "stderr",
     "output_type": "stream",
     "text": [
      "\r",
      "Epoch:  95%|█████████▌| 19/20 [11:02<00:34, 34.91s/it]"
     ]
    },
    {
     "name": "stdout",
     "output_type": "stream",
     "text": [
      "Epoch: 19 | Time: 0m 35s\n",
      "\n",
      " Epoch [19/20], Train Loss: 0.3409, Validation Loss: 0.4890, Validation Accuracy: 0.8077, Validation F1: 0.8041\n"
     ]
    },
    {
     "name": "stderr",
     "output_type": "stream",
     "text": [
      "Epoch: 100%|██████████| 20/20 [11:36<00:00, 34.83s/it]"
     ]
    },
    {
     "name": "stdout",
     "output_type": "stream",
     "text": [
      "Epoch: 20 | Time: 0m 34s\n",
      "\n",
      " Epoch [20/20], Train Loss: 0.3383, Validation Loss: 0.4885, Validation Accuracy: 0.8085, Validation F1: 0.8051\n"
     ]
    },
    {
     "name": "stderr",
     "output_type": "stream",
     "text": [
      "\n"
     ]
    }
   ],
   "source": [
    "# 100k subset\n",
    "MAX_EPOCH = 20\n",
    "total_step = len(train_iter)\n",
    "loss_list = []\n",
    "acc_list = []\n",
    "\n",
    "for epoch in trange(MAX_EPOCH, desc=\"Epoch\"):\n",
    "    start_time = time.time()\n",
    "    train_loss = train(model, train_iter, optimizer, loss_func)  \n",
    "    val_loss, val_acc, val_f1 = evaluate(model, val_iter, loss_func)\n",
    "    end_time = time.time()\n",
    "    \n",
    "    epoch_mins, epoch_secs = epoch_time(start_time, end_time)\n",
    "\n",
    "    # Create checkpoint at end of each epoch\n",
    "    state_dict_model = model.state_dict() \n",
    "    state = {\n",
    "        'epoch': epoch,\n",
    "        'state_dict': state_dict_model,\n",
    "        'optimizer': optimizer.state_dict()\n",
    "        }\n",
    "\n",
    "    #torch.save(state, \"./drive/My Drive/Colab Notebooks/ckpt_cnn/CNN_TEXT_\"+str(epoch+1)+\".pt\")\n",
    "    print(f'Epoch: {epoch+1:02} | Time: {epoch_mins}m {epoch_secs}s')\n",
    "    print('\\n Epoch [{}/{}], Train Loss: {:.4f}, Validation Loss: {:.4f}, Validation Accuracy: {:.4f}, Validation F1: {:.4f}'.format(epoch+1, \n",
    "                                                                MAX_EPOCH, train_loss, val_loss, val_acc, val_f1))\n",
    "    "
   ]
  },
  {
   "cell_type": "code",
   "execution_count": 0,
   "metadata": {
    "colab": {},
    "colab_type": "code",
    "id": "-WapTzwTGj1O"
   },
   "outputs": [],
   "source": []
  },
  {
   "cell_type": "code",
   "execution_count": 0,
   "metadata": {
    "colab": {
     "base_uri": "https://localhost:8080/",
     "height": 1000
    },
    "colab_type": "code",
    "id": "PwLGWmQFDwrj",
    "outputId": "c4abf3ed-258e-4583-b959-da1ac5c8b7a7"
   },
   "outputs": [
    {
     "name": "stderr",
     "output_type": "stream",
     "text": [
      "\n",
      "Epoch:   0%|          | 0/20 [00:00<?, ?it/s]\u001b[A\n",
      "Epoch:   5%|▌         | 1/20 [00:50<16:08, 50.95s/it]\u001b[A"
     ]
    },
    {
     "name": "stdout",
     "output_type": "stream",
     "text": [
      "Epoch: 01 | Time: 0m 33s\n",
      "\n",
      " Epoch [1/20], Train Loss: 0.6163, Validation Loss: 0.6705, Validation Accuracy: 0.5815, Validation F1: 0.4993\n"
     ]
    },
    {
     "name": "stderr",
     "output_type": "stream",
     "text": [
      "\n",
      "Epoch:  10%|█         | 2/20 [01:38<14:59, 49.97s/it]\u001b[A"
     ]
    },
    {
     "name": "stdout",
     "output_type": "stream",
     "text": [
      "Epoch: 02 | Time: 0m 32s\n",
      "\n",
      " Epoch [2/20], Train Loss: 0.5944, Validation Loss: 0.6342, Validation Accuracy: 0.6254, Validation F1: 0.5769\n"
     ]
    },
    {
     "name": "stderr",
     "output_type": "stream",
     "text": [
      "\n",
      "Epoch:  15%|█▌        | 3/20 [02:26<13:58, 49.35s/it]\u001b[A"
     ]
    },
    {
     "name": "stdout",
     "output_type": "stream",
     "text": [
      "Epoch: 03 | Time: 0m 32s\n",
      "\n",
      " Epoch [3/20], Train Loss: 0.5799, Validation Loss: 0.6162, Validation Accuracy: 0.6469, Validation F1: 0.6103\n"
     ]
    },
    {
     "name": "stderr",
     "output_type": "stream",
     "text": [
      "\n",
      "Epoch:  20%|██        | 4/20 [03:01<12:00, 45.01s/it]\u001b[A"
     ]
    },
    {
     "name": "stdout",
     "output_type": "stream",
     "text": [
      "Epoch: 04 | Time: 0m 33s\n",
      "\n",
      " Epoch [4/20], Train Loss: 0.5663, Validation Loss: 0.5998, Validation Accuracy: 0.6696, Validation F1: 0.6418\n"
     ]
    },
    {
     "name": "stderr",
     "output_type": "stream",
     "text": [
      "\n",
      "Epoch:  25%|██▌       | 5/20 [03:37<10:34, 42.30s/it]\u001b[A"
     ]
    },
    {
     "name": "stdout",
     "output_type": "stream",
     "text": [
      "Epoch: 05 | Time: 0m 33s\n",
      "\n",
      " Epoch [5/20], Train Loss: 0.5524, Validation Loss: 0.5829, Validation Accuracy: 0.6925, Validation F1: 0.6715\n"
     ]
    },
    {
     "name": "stderr",
     "output_type": "stream",
     "text": [
      "\n",
      "Epoch:  30%|███       | 6/20 [04:12<09:20, 40.04s/it]\u001b[A"
     ]
    },
    {
     "name": "stdout",
     "output_type": "stream",
     "text": [
      "Epoch: 06 | Time: 0m 32s\n",
      "\n",
      " Epoch [6/20], Train Loss: 0.5373, Validation Loss: 0.5693, Validation Accuracy: 0.7116, Validation F1: 0.6951\n"
     ]
    },
    {
     "name": "stderr",
     "output_type": "stream",
     "text": [
      "\n",
      "Epoch:  35%|███▌      | 7/20 [04:46<08:19, 38.42s/it]\u001b[A"
     ]
    },
    {
     "name": "stdout",
     "output_type": "stream",
     "text": [
      "Epoch: 07 | Time: 0m 32s\n",
      "\n",
      " Epoch [7/20], Train Loss: 0.5225, Validation Loss: 0.5645, Validation Accuracy: 0.7179, Validation F1: 0.7013\n"
     ]
    },
    {
     "name": "stderr",
     "output_type": "stream",
     "text": [
      "\n",
      "Epoch:  40%|████      | 8/20 [05:22<07:31, 37.61s/it]\u001b[A"
     ]
    },
    {
     "name": "stdout",
     "output_type": "stream",
     "text": [
      "Epoch: 08 | Time: 0m 33s\n",
      "\n",
      " Epoch [8/20], Train Loss: 0.5087, Validation Loss: 0.5510, Validation Accuracy: 0.7359, Validation F1: 0.7229\n"
     ]
    },
    {
     "name": "stderr",
     "output_type": "stream",
     "text": [
      "\n",
      "Epoch:  45%|████▌     | 9/20 [05:57<06:44, 36.75s/it]\u001b[A"
     ]
    },
    {
     "name": "stdout",
     "output_type": "stream",
     "text": [
      "Epoch: 09 | Time: 0m 32s\n",
      "\n",
      " Epoch [9/20], Train Loss: 0.4916, Validation Loss: 0.5406, Validation Accuracy: 0.7491, Validation F1: 0.7379\n"
     ]
    },
    {
     "name": "stderr",
     "output_type": "stream",
     "text": [
      "\n",
      "Epoch:  50%|█████     | 10/20 [06:31<06:01, 36.15s/it]\u001b[A"
     ]
    },
    {
     "name": "stdout",
     "output_type": "stream",
     "text": [
      "Epoch: 10 | Time: 0m 32s\n",
      "\n",
      " Epoch [10/20], Train Loss: 0.4752, Validation Loss: 0.5365, Validation Accuracy: 0.7535, Validation F1: 0.7423\n"
     ]
    },
    {
     "name": "stderr",
     "output_type": "stream",
     "text": [
      "\n",
      "Epoch:  55%|█████▌    | 11/20 [07:06<05:21, 35.76s/it]\u001b[A"
     ]
    },
    {
     "name": "stdout",
     "output_type": "stream",
     "text": [
      "Epoch: 11 | Time: 0m 32s\n",
      "\n",
      " Epoch [11/20], Train Loss: 0.4583, Validation Loss: 0.5265, Validation Accuracy: 0.7668, Validation F1: 0.7577\n"
     ]
    },
    {
     "name": "stderr",
     "output_type": "stream",
     "text": [
      "\n",
      "Epoch:  60%|██████    | 12/20 [07:42<04:46, 35.81s/it]\u001b[A"
     ]
    },
    {
     "name": "stdout",
     "output_type": "stream",
     "text": [
      "Epoch: 12 | Time: 0m 33s\n",
      "\n",
      " Epoch [12/20], Train Loss: 0.4421, Validation Loss: 0.5209, Validation Accuracy: 0.7725, Validation F1: 0.7640\n"
     ]
    },
    {
     "name": "stderr",
     "output_type": "stream",
     "text": [
      "\n",
      "Epoch:  65%|██████▌   | 13/20 [08:17<04:08, 35.46s/it]\u001b[A"
     ]
    },
    {
     "name": "stdout",
     "output_type": "stream",
     "text": [
      "Epoch: 13 | Time: 0m 32s\n",
      "\n",
      " Epoch [13/20], Train Loss: 0.4256, Validation Loss: 0.5094, Validation Accuracy: 0.7883, Validation F1: 0.7820\n"
     ]
    },
    {
     "name": "stderr",
     "output_type": "stream",
     "text": [
      "\n",
      "Epoch:  70%|███████   | 14/20 [08:52<03:31, 35.22s/it]\u001b[A"
     ]
    },
    {
     "name": "stdout",
     "output_type": "stream",
     "text": [
      "Epoch: 14 | Time: 0m 32s\n",
      "\n",
      " Epoch [14/20], Train Loss: 0.4107, Validation Loss: 0.5098, Validation Accuracy: 0.7857, Validation F1: 0.7788\n"
     ]
    },
    {
     "name": "stderr",
     "output_type": "stream",
     "text": [
      "\n",
      "Epoch:  75%|███████▌  | 15/20 [09:26<02:55, 35.04s/it]\u001b[A"
     ]
    },
    {
     "name": "stdout",
     "output_type": "stream",
     "text": [
      "Epoch: 15 | Time: 0m 32s\n",
      "\n",
      " Epoch [15/20], Train Loss: 0.3977, Validation Loss: 0.5059, Validation Accuracy: 0.7905, Validation F1: 0.7844\n"
     ]
    },
    {
     "name": "stderr",
     "output_type": "stream",
     "text": [
      "\n",
      "Epoch:  80%|████████  | 16/20 [10:02<02:21, 35.41s/it]\u001b[A"
     ]
    },
    {
     "name": "stdout",
     "output_type": "stream",
     "text": [
      "Epoch: 16 | Time: 0m 34s\n",
      "\n",
      " Epoch [16/20], Train Loss: 0.3861, Validation Loss: 0.4993, Validation Accuracy: 0.7977, Validation F1: 0.7927\n"
     ]
    },
    {
     "name": "stderr",
     "output_type": "stream",
     "text": [
      "\n",
      "Epoch:  85%|████████▌ | 17/20 [10:37<01:45, 35.26s/it]\u001b[A"
     ]
    },
    {
     "name": "stdout",
     "output_type": "stream",
     "text": [
      "Epoch: 17 | Time: 0m 32s\n",
      "\n",
      " Epoch [17/20], Train Loss: 0.3767, Validation Loss: 0.4947, Validation Accuracy: 0.8040, Validation F1: 0.7996\n"
     ]
    },
    {
     "name": "stderr",
     "output_type": "stream",
     "text": [
      "\n",
      "Epoch:  90%|█████████ | 18/20 [11:12<01:10, 35.09s/it]\u001b[A"
     ]
    },
    {
     "name": "stdout",
     "output_type": "stream",
     "text": [
      "Epoch: 18 | Time: 0m 32s\n",
      "\n",
      " Epoch [18/20], Train Loss: 0.3686, Validation Loss: 0.4898, Validation Accuracy: 0.8079, Validation F1: 0.8043\n"
     ]
    },
    {
     "name": "stderr",
     "output_type": "stream",
     "text": [
      "\n",
      "Epoch:  95%|█████████▌| 19/20 [11:48<00:35, 35.27s/it]\u001b[A"
     ]
    },
    {
     "name": "stdout",
     "output_type": "stream",
     "text": [
      "Epoch: 19 | Time: 0m 33s\n",
      "\n",
      " Epoch [19/20], Train Loss: 0.3605, Validation Loss: 0.4912, Validation Accuracy: 0.8063, Validation F1: 0.8024\n"
     ]
    },
    {
     "name": "stderr",
     "output_type": "stream",
     "text": [
      "\n",
      "Epoch: 100%|██████████| 20/20 [12:23<00:00, 37.15s/it]"
     ]
    },
    {
     "name": "stdout",
     "output_type": "stream",
     "text": [
      "Epoch: 20 | Time: 0m 32s\n",
      "\n",
      " Epoch [20/20], Train Loss: 0.3543, Validation Loss: 0.4874, Validation Accuracy: 0.8098, Validation F1: 0.8065\n"
     ]
    },
    {
     "name": "stderr",
     "output_type": "stream",
     "text": [
      "\n"
     ]
    }
   ],
   "source": [
    "#second run -- this time saving model\n",
    "\n",
    "MAX_EPOCH = 20\n",
    "total_step = len(train_iter)\n",
    "loss_list = []\n",
    "acc_list = []\n",
    "\n",
    "for epoch in trange(MAX_EPOCH, desc=\"Epoch\"):\n",
    "    start_time = time.time()\n",
    "    train_loss = train(model, train_iter, optimizer, loss_func)  \n",
    "    val_loss, val_acc, val_f1 = evaluate(model, val_iter, loss_func)\n",
    "    end_time = time.time()\n",
    "    \n",
    "    epoch_mins, epoch_secs = epoch_time(start_time, end_time)\n",
    "\n",
    "    # Create checkpoint at end of each epoch\n",
    "    state_dict_model = model.state_dict() \n",
    "    state = {\n",
    "        'epoch': epoch,\n",
    "        'state_dict': state_dict_model,\n",
    "        'optimizer': optimizer.state_dict()\n",
    "        }\n",
    "\n",
    "    torch.save(state, \"./drive/My Drive/Colab Notebooks/ckpt/CNN_\"+str(epoch+1)+\".pt\")\n",
    "    print(f'Epoch: {epoch+1:02} | Time: {epoch_mins}m {epoch_secs}s')\n",
    "    print('\\n Epoch [{}/{}], Train Loss: {:.4f}, Validation Loss: {:.4f}, Validation Accuracy: {:.4f}, Validation F1: {:.4f}'.format(epoch+1, \n",
    "                                                                MAX_EPOCH, train_loss, val_loss, val_acc, val_f1))"
   ]
  },
  {
   "cell_type": "code",
   "execution_count": 0,
   "metadata": {
    "colab": {},
    "colab_type": "code",
    "id": "LZ4shD5mDwrm"
   },
   "outputs": [],
   "source": []
  },
  {
   "cell_type": "markdown",
   "metadata": {
    "colab_type": "text",
    "id": "Q-59zk_Q797F"
   },
   "source": [
    "#Best model Evaluations and Analysis"
   ]
  },
  {
   "cell_type": "code",
   "execution_count": 0,
   "metadata": {
    "colab": {},
    "colab_type": "code",
    "id": "mVmEAjjEnRVK"
   },
   "outputs": [],
   "source": [
    "#functions I need\n",
    "\n",
    "def init_weights(m):\n",
    "    for name, param in m.named_parameters():\n",
    "        if 'weight' in name:\n",
    "            nn.init.normal_(param.data, mean=0, std=0.1)\n",
    "        else:\n",
    "            nn.init.constant_(param.data, 0)\n",
    "\n",
    "def evaluate_confusion_matrix(model, iterator, criterion):\n",
    "    \n",
    "    model.eval()\n",
    "    \n",
    "    epoch_loss = 0\n",
    "    all_pred=[]\n",
    "    all_label = []\n",
    "    \n",
    "    with torch.no_grad():\n",
    "    \n",
    "        for i, batch in enumerate(iterator):\n",
    "\n",
    "            batch_input, labels = batch.text, batch.label\n",
    "            batch_input = batch_input.to(device)\n",
    "            labels = labels.to(device)\n",
    "\n",
    "            optimizer.zero_grad()\n",
    "\n",
    "            outputs = model(batch_input)\n",
    "\n",
    "            loss = criterion(outputs, labels)\n",
    "\n",
    "            epoch_loss += loss.cpu().item()\n",
    "\n",
    "            # identify the predicted class for each example in the batch\n",
    "            probabilities, predicted = torch.max(outputs.cpu().data, 1)\n",
    "            # put all the true labels and predictions to two lists\n",
    "            all_pred.extend(predicted)\n",
    "            all_label.extend(labels.cpu())\n",
    "  \n",
    "    confuse_matrix = sklearn.metrics.confusion_matrix(all_label,all_pred, labels=[1, 0])\n",
    "    accuracy = accuracy_score(all_label, all_pred)\n",
    "    f1score = f1_score(all_label, all_pred, average='macro') \n",
    "    return epoch_loss / len(iterator), accuracy, f1score, confuse_matrix\n",
    "\n",
    "\n",
    "#credit this function to https://deeplizard.com/learn/video/0LhiS6yu2qQ\n",
    "\n",
    "import itertools\n",
    "import numpy as np\n",
    "import matplotlib.pyplot as plt\n",
    "\n",
    "def plot_confusion_matrix(cm, classes, normalize=False, title='Confusion matrix', cmap=plt.cm.Blues):\n",
    "    if normalize:\n",
    "        cm = cm.astype('float') / cm.sum(axis=1)[:, np.newaxis]\n",
    "        print(\"Normalized confusion matrix\")\n",
    "    else:\n",
    "        print('Confusion matrix, without normalization')\n",
    "\n",
    "    print(cm)\n",
    "    plt.imshow(cm, interpolation='nearest', cmap=cmap)\n",
    "    plt.title(title)\n",
    "    plt.colorbar()\n",
    "    tick_marks = np.arange(len(classes))\n",
    "    plt.xticks(tick_marks, classes, rotation=45)\n",
    "    plt.yticks(tick_marks, classes)\n",
    "\n",
    "    fmt = '.2f' if normalize else 'd'\n",
    "    thresh = cm.max() / 2.\n",
    "    for i, j in itertools.product(range(cm.shape[0]), range(cm.shape[1])):\n",
    "        plt.text(j, i, format(cm[i, j], fmt), horizontalalignment=\"center\", color=\"white\" if cm[i, j] > thresh else \"black\")\n",
    "\n",
    "    plt.tight_layout()\n",
    "    plt.ylabel('True label')\n",
    "    plt.xlabel('Predicted label')"
   ]
  },
  {
   "cell_type": "code",
   "execution_count": 0,
   "metadata": {
    "colab": {},
    "colab_type": "code",
    "id": "-v1tr-NlnRSf"
   },
   "outputs": [],
   "source": [
    "#100k subset\n",
    "# train, val, test = TabularDataset.splits(\n",
    "#                path=path, # the root directory where the data lies\n",
    "#                train='subset_100k_train.csv', validation=\"subset_100k_valid.csv\", test=\"subset_100k_test.csv\", # file names\n",
    "#                format='csv',\n",
    "#                skip_header=True, \n",
    "#                fields=[('text', TEXT), ('label', LABEL)])\n",
    "\n",
    "# TEXT.build_vocab(train, min_freq=2)\n",
    "# LABEL.build_vocab(train)\n",
    "\n",
    "# print(\"Vocabulary size of TEXT:\",len(TEXT.vocab.stoi))\n",
    "# print(\"Vocabulary size of LABEL:\",len(LABEL.vocab.stoi))\n",
    "\n",
    "# train_iter, val_iter = BucketIterator.splits( \n",
    "#  (train, val), \n",
    "#  batch_sizes=(64,256),\n",
    "#  sort_key=lambda x: len(x.text), \n",
    "#  sort=True,\n",
    "#  device=device,\n",
    "#  sort_within_batch=True\n",
    "# )\n",
    "\n",
    "# test_iter = Iterator(\n",
    "#     test,\n",
    "#     batch_size=(256),\n",
    "#     sort_key=lambda x: len(x.text),\n",
    "#     sort=False,\n",
    "#     shuffle=False)"
   ]
  },
  {
   "cell_type": "code",
   "execution_count": 19,
   "metadata": {
    "colab": {
     "base_uri": "https://localhost:8080/",
     "height": 191
    },
    "colab_type": "code",
    "id": "lF-nfyBeDwrr",
    "outputId": "b47454bc-2df3-4131-e5f0-bc3b017c9147"
   },
   "outputs": [
    {
     "data": {
      "text/plain": [
       "CNN_Text(\n",
       "  (embeddings): Embedding(145549, 300)\n",
       "  (convolution_layers): ModuleList(\n",
       "    (0): Conv2d(1, 32, kernel_size=(2, 300), stride=(1, 1))\n",
       "    (1): Conv2d(1, 32, kernel_size=(3, 300), stride=(1, 1))\n",
       "    (2): Conv2d(1, 32, kernel_size=(4, 300), stride=(1, 1))\n",
       "  )\n",
       "  (dropout): Dropout(p=0.5, inplace=False)\n",
       "  (fc): Linear(in_features=96, out_features=2, bias=True)\n",
       ")"
      ]
     },
     "execution_count": 19,
     "metadata": {
      "tags": []
     },
     "output_type": "execute_result"
    }
   ],
   "source": [
    "# Hyper Parameters\n",
    "\n",
    "# the vocabulary size\n",
    "vocabulary_size = len(TEXT.vocab.stoi) \n",
    "\n",
    "# Dimension of word embedding is 300. Namely, each word is expressed by a vector that has 300 dimensions.\n",
    "embedding_dim = 300 \n",
    "\n",
    "# region size as 2, 3, and 4\n",
    "kernel_sizes = [2,3,4] \n",
    "\n",
    "# the number of kernel in each region size\n",
    "kernels_num = 32  \n",
    "\n",
    "# The dropout rate is set to be 0.5.\n",
    "dropout = 0.5\n",
    "\n",
    "# The output size of labels.\n",
    "output_size = 2\n",
    "\n",
    "# learning rate is set to be 0.01. CHANGED FROM ORIGINAL\n",
    "lr = 0.0001        \n",
    "\n",
    "\n",
    "# employ class CNN_Text and assign to cnn\n",
    "best_model = CNN_Text(vocabulary_size, embedding_dim, output_size, kernels_num, kernel_sizes, dropout).to(device)\n",
    "best_model.apply(init_weights)\n",
    "optimizer = torch.optim.Adam(best_model.parameters(), lr=lr)   # define a optimizer for backpropagation\n",
    "loss_func = nn.CrossEntropyLoss() \n",
    "best_model.load_state_dict(torch.load('./drive/My Drive/Colab Notebooks/ckpt/CNN_20.pt')['state_dict'])\n",
    "best_model = best_model.to(device)\n",
    "\n",
    "best_model"
   ]
  },
  {
   "cell_type": "code",
   "execution_count": 0,
   "metadata": {
    "colab": {
     "base_uri": "https://localhost:8080/",
     "height": 380
    },
    "colab_type": "code",
    "id": "lS0ZfyA9DmhC",
    "outputId": "d668c71b-022e-48ff-c2a5-a8e6f1f3ee9a"
   },
   "outputs": [
    {
     "name": "stdout",
     "output_type": "stream",
     "text": [
      "0.8041122713913283\n",
      "Confusion matrix, without normalization\n",
      "[[9306  688]\n",
      " [3170 6836]]\n"
     ]
    },
    {
     "data": {
      "image/png": "[encoded data removed]",
      "text/plain": [
       "<Figure size 432x288 with 2 Axes>"
      ]
     },
     "metadata": {
      "needs_background": "light",
      "tags": []
     },
     "output_type": "display_data"
    }
   ],
   "source": [
    "loss, acc, fscore, cm = evaluate_confusion_matrix(best_model, test_iter, loss_func)\n",
    "print(fscore)\n",
    "plot_confusion_matrix(cm, (\"Webtext\", \"GPT-2\"))"
   ]
  },
  {
   "cell_type": "markdown",
   "metadata": {
    "colab_type": "text",
    "id": "dXo1KbmUFcaj"
   },
   "source": [
    "My evaluation:\n",
    "- Overall, the best CNN model did well on the test set, predicting about 80% of the data correctly (16142 out of 20000). In terms of error, the model had a tougher time correclty detecting GPT-2 generated text. Actually, 82% of the wrong predictions were categorizing GPT-2 text as Webtext (3170/3858). I suspect two reasons for this result: (1) there is a subset of GPT-2 data that is (coincidentally?) very well generated and mimics human text, or (2) the shorter lengthed GPT-2 text is harder to categorize. "
   ]
  },
  {
   "cell_type": "code",
   "execution_count": 0,
   "metadata": {
    "colab": {},
    "colab_type": "code",
    "id": "FQC4Q4pBDmXT"
   },
   "outputs": [],
   "source": [
    "test_string1 = \"Scientists can now visualize and experiment with structures and dynamics of complex molecular structures (at atomic-level precision), with real-time multi-user collaboration via the cloud\\n\\nJuly 6, 2018\"\n",
    "\n",
    "test_string2 = \"Pro Tour Amonkhet is now down to just eight players. Take a look at what they brought for this weekend's Standard rounds, and what they will be battling with on Sunday for the title of Pro Tour Champion.\"\n",
    "\n",
    "test_string3 =  long_string\n",
    "\n",
    "test_string4 = long_string2\n",
    "\n",
    "test_string5 = \"Scientists can now visualize and experiment with structures and the dynamics of complex molecular makeup (at atomic-level precision), with real-time multi-user collaboration via the cloud\\n\\nJuly 6, 2018\"\n",
    "\n",
    "test_string6 = \"Summary Focus of this page: This page discusses our current view of the evidence for a wide range of programs and interventions that aim to improve education in developing countries. These include demand-side interventions that lower the cost of schooling or increase its (perceived) returns, provision of school inputs, pedagogy interventions, and governance reforms. We focus mainly on interventions aimed at improving primary and secondary education but consider vocational training interventions briefly. We have not yet completed a report on early childhood (pre-school) interventions. On this page, we focus on evidence from experimental study designs.\"\n",
    "\n",
    "test_string7 = \"If you look on a board game shelf, how many games will you see with actions based on collaboration, stewardship, generosity, and gratitude? Most likely, you'll find mechanics like attacking, stealing, and backstabbing. Indigenous communities looking to facilitate intergenerational gameplay are thus hard-pressed to find options that reinforce their teachings. In response, communities are developing their own games for passing on teachings in many forms. As espoused by game designer Brenda Romero, the mechanic is the message. And the messages in the board game The Gift of Food—inspired by collaborative game development with Indigenous communities working with the Northwest Indian College—produce culturally responsive gameplay, meaning gameplay that is drawn from and that uplifts the cultures involved.\\n\\nThe Gift of Food is an ideal example of how culturally responsive board games can function as important pathways for passing on Indigenous ways of knowing\"\n",
    "\n",
    "test_strings_list = [test_string1, test_string2, test_string3, test_string4, test_string5, test_string6, test_string7]"
   ]
  },
  {
   "cell_type": "code",
   "execution_count": 107,
   "metadata": {
    "colab": {
     "base_uri": "https://localhost:8080/",
     "height": 593
    },
    "colab_type": "code",
    "id": "WozCvOEdjbFA",
    "outputId": "111e9829-963a-46e4-e629-61032bc0a64d"
   },
   "outputs": [
    {
     "name": "stdout",
     "output_type": "stream",
     "text": [
      "GPT-2_string_1 is 38 words long.\n",
      "The text: \"Scientists can now visualize and experiment with structures and dynamics of complex molecular structures (at atomic-level precision), with real-time multi-user collaboration via the cloud\n",
      "\n",
      "July 6, 2018\"\n",
      "The prediction for GPT-2_string_1 is 1 and the model was 0.6872% confident.\n",
      "----------\n",
      "GPT-2_string_2 is 42 words long.\n",
      "The text: \"Pro Tour Amonkhet is now down to just eight players. Take a look at what they brought for this weekend's Standard rounds, and what they will be battling with on Sunday for the title of Pro Tour Champion.\"\n",
      "The prediction for GPT-2_string_2 is 1 and the model was 0.8143% confident.\n",
      "----------\n",
      "GPT-2_string_3 is 169 words long.\n",
      "The text: \"Summary Focus of this page: This page discusses our current view of the evidence for a wide range of programs and interventions that aim to improve education in developing countries. These include demand-side interventions that lower the cost of schooling or increase its (perceived) returns, provision of school inputs, pedagogy interventions, and governance reforms. We focus mainly on interventions aimed at improving primary and secondary education but consider vocational training interventions briefly. We have not yet completed a report on early childhood (pre-school) interventions. On this page, we focus on evidence from experimental study designs.\\n\\nThis page discusses our current view of the evidence for a wide range of programs and interventions that aim to improve education in developing countries. These include demand-side interventions that lower the cost of schooling or increase its (perceived) returns, provision of school inputs, pedagogy interventions, and governance re...\"\n",
      "The prediction for GPT-2_string_3 is 0 and the model was 0.8338% confident.\n",
      "----------\n",
      "GPT-2_string_4 is 169 words long.\n",
      "The text: \"If you look on a board game shelf, how many games will you see with actions based on collaboration, stewardship, generosity, and gratitude? Most likely, you'll find mechanics like attacking, stealing, and backstabbing. Indigenous communities looking to facilitate intergenerational gameplay are thus hard-pressed to find options that reinforce their teachings. In response, communities are developing their own games for passing on teachings in many forms. As espoused by game designer Brenda Romero, the mechanic is the message. And the messages in the board game The Gift of Food—inspired by collaborative game development with Indigenous communities working with the Northwest Indian College—produce culturally responsive gameplay, meaning gameplay that is drawn from and that uplifts the cultures involved.\\n\\nThe Gift of Food is an ideal example of how culturally responsive board games can function as important pathways for passing on Indigenous ways of knowing, as learning and reinforcin...\"\n",
      "The prediction for GPT-2_string_4 is 0 and the model was 0.9623% confident.\n",
      "----------\n",
      "GPT-2_string_5 is 39 words long.\n",
      "The text: \"Scientists can now visualize and experiment with structures and the dynamics of complex molecular makeup (at atomic-level precision), with real-time multi-user collaboration via the cloud\n",
      "\n",
      "July 6, 2018\"\n",
      "The prediction for GPT-2_string_5 is 1 and the model was 0.7422% confident.\n",
      "----------\n",
      "GPT-2_string_6 is 113 words long.\n",
      "The text: \"Summary Focus of this page: This page discusses our current view of the evidence for a wide range of programs and interventions that aim to improve education in developing countries. These include demand-side interventions that lower the cost of schooling or increase its (perceived) returns, provision of school inputs, pedagogy interventions, and governance reforms. We focus mainly on interventions aimed at improving primary and secondary education but consider vocational training interventions briefly. We have not yet completed a report on early childhood (pre-school) interventions. On this page, we focus on evidence from experimental study designs.\"\n",
      "The prediction for GPT-2_string_6 is 1 and the model was 0.6829% confident.\n",
      "----------\n",
      "GPT-2_string_7 is 28 words long.\n",
      "The text: \"If you look on a board game shelf, how many games will you see with actions based on collaboration, stewardship, generosity, and gratitude?\"\n",
      "The prediction for GPT-2_string_7 is 1 and the model was 0.6283% confident.\n",
      "----------\n"
     ]
    }
   ],
   "source": [
    "i=1\n",
    "for each in test_strings_list:\n",
    "  preprocessed = TEXT.preprocess(each)\n",
    "  tensored = TEXT.process([preprocessed], device=device)\n",
    "  best_model.eval()\n",
    "  output = best_model(tensored)\n",
    "  probabilities, predicted = torch.max(output.cpu().data, 1)\n",
    "  print(f\"GPT-2_string_{i} is {len(preprocessed)} words long.\")\n",
    "  print(f'The text: \"{each}\"')\n",
    "  print(f\"The prediction for GPT-2_string_{i} is {predicted.item()} and the model was {round(probabilities.item(), 4)}% confident.\")\n",
    "  print(\"----------\")\n",
    "  i+=1\n"
   ]
  },
  {
   "cell_type": "markdown",
   "metadata": {
    "colab_type": "text",
    "id": "y4RYv4sbn-ou"
   },
   "source": [
    "My analysis:\n",
    "* As previous works have pointed out, short sentences are harder to detect. This CNN model found the same, making wrong predictions for the shorter sentences. Interestingly, the model was not as confident with its prediction for string_1 though.\n",
    "* String_1 analysis: I managed to increase the model's prediction probability to 74% by making the sentence a bit more fluent by adding one \"the\" and removing a repeated word, replacing the second \"structure\" with \"makeup\". I also experimented with the punctuations and but found that they did not make a difference in the model's probability. I also removed the date during my trial-and-error and found it made no difference to the model. The biggest gain in probability comes from removing the repeated word. \n",
    "* String_4 analysis: having established that repeated words appear to be an indicator for synthetic text detection for a CNN model, this string actually has and a few repeated sentences. Hence, the model confidently predicted it is GPT-2 generated. I removed the repetition in string_6, which also shortened the sentence, and the model then made the wrong prediction, thinking the string_6 is human-generated.\n",
    "* String_5 analysis: I think the model correctly predicted this document because it lacks coherence. Even though the document is more or less grammatically correct, the topics include boardgames, Indigenous communities, cultural values, a specific board game that is oddlyl named. I tried using this example to see how short it needed to be for the model to make a wrong prediction. I simply deleted one sentence at a time to see how the CNN responded and I was surprised to find I had to truncate the document to one sentence (i.e., 28 words long) in order to fool the model. There is definitely some features in this document that makes the model very confident it is synthetically produced.\n",
    "* From my personal analysis as a linguist, I actually agree with the CNN model's predictions, even the wrong ones. When I read the short sentences (string_1 and string_2), even though I think that string_1 is worded a little awkwardly, overall I would be unsure if it was synthetic text or not. \n",
    "\n"
   ]
  },
  {
   "cell_type": "code",
   "execution_count": 0,
   "metadata": {
    "colab": {},
    "colab_type": "code",
    "id": "IxzlnHyYjbCi"
   },
   "outputs": [],
   "source": []
  },
  {
   "cell_type": "code",
   "execution_count": 0,
   "metadata": {
    "colab": {},
    "colab_type": "code",
    "id": "KStK0kkWjbAE"
   },
   "outputs": [],
   "source": []
  },
  {
   "cell_type": "code",
   "execution_count": 0,
   "metadata": {
    "colab": {},
    "colab_type": "code",
    "id": "MvrhixIsja9O"
   },
   "outputs": [],
   "source": []
  },
  {
   "cell_type": "code",
   "execution_count": 0,
   "metadata": {
    "colab": {},
    "colab_type": "code",
    "id": "TLH_d4j3Fal4"
   },
   "outputs": [],
   "source": []
  },
  {
   "cell_type": "code",
   "execution_count": 0,
   "metadata": {
    "colab": {},
    "colab_type": "code",
    "id": "5yFOEAEQFaif"
   },
   "outputs": [],
   "source": []
  },
  {
   "cell_type": "code",
   "execution_count": 0,
   "metadata": {
    "colab": {},
    "colab_type": "code",
    "id": "OoJQqN2CDwrt"
   },
   "outputs": [],
   "source": [
    "def evaluate_confusion_matrix(model, iterator, criterion):\n",
    "    \n",
    "    model.eval()\n",
    "    \n",
    "    epoch_loss = 0\n",
    "    all_pred=[]\n",
    "    all_label = []\n",
    "    \n",
    "    with torch.no_grad():\n",
    "    \n",
    "        for i, batch in enumerate(iterator):\n",
    "\n",
    "            batch_input, labels = batch.text, batch.label\n",
    "            batch_input = batch_input.to(device)\n",
    "            labels = labels.to(device)\n",
    "\n",
    "            optimizer.zero_grad()\n",
    "\n",
    "            outputs = model(batch_input)\n",
    "\n",
    "            loss = criterion(outputs, labels)\n",
    "\n",
    "            epoch_loss += loss.cpu().item()\n",
    "\n",
    "            # identify the predicted class for each example in the batch\n",
    "            probabilities, predicted = torch.max(outputs.cpu().data, 1)\n",
    "            # put all the true labels and predictions to two lists\n",
    "            all_pred.extend(predicted)\n",
    "            all_label.extend(labels.cpu())\n",
    "  \n",
    "    confuse_matrix = sklearn.metrics.confusion_matrix(all_label,all_pred, labels=[1, 0])\n",
    "    accuracy = accuracy_score(all_label, all_pred)\n",
    "    f1score = f1_score(all_label, all_pred, average='macro') \n",
    "    return epoch_loss / len(iterator), accuracy, f1score, confuse_matrix"
   ]
  },
  {
   "cell_type": "code",
   "execution_count": 0,
   "metadata": {
    "colab": {
     "base_uri": "https://localhost:8080/",
     "height": 52
    },
    "colab_type": "code",
    "id": "MTuO8LNV-N5P",
    "outputId": "b6bffb2a-987c-47af-90ea-4c08e79c6a77"
   },
   "outputs": [
    {
     "name": "stdout",
     "output_type": "stream",
     "text": [
      "[[9412  712]\n",
      " [3092 6784]]\n"
     ]
    }
   ],
   "source": [
    "loss, acc, fscore, cm = evaluate_confusion_matrix(model, val_iter, loss_func)"
   ]
  },
  {
   "cell_type": "code",
   "execution_count": 0,
   "metadata": {
    "colab": {},
    "colab_type": "code",
    "id": "YHrUKQZb_PGV"
   },
   "outputs": [],
   "source": [
    "#credit this function to https://deeplizard.com/learn/video/0LhiS6yu2qQ\n",
    "\n",
    "import itertools\n",
    "import numpy as np\n",
    "import matplotlib.pyplot as plt\n",
    "\n",
    "def plot_confusion_matrix(cm, classes, normalize=False, title='Confusion matrix', cmap=plt.cm.Blues):\n",
    "    if normalize:\n",
    "        cm = cm.astype('float') / cm.sum(axis=1)[:, np.newaxis]\n",
    "        print(\"Normalized confusion matrix\")\n",
    "    else:\n",
    "        print('Confusion matrix, without normalization')\n",
    "\n",
    "    print(cm)\n",
    "    plt.imshow(cm, interpolation='nearest', cmap=cmap)\n",
    "    plt.title(title)\n",
    "    plt.colorbar()\n",
    "    tick_marks = np.arange(len(classes))\n",
    "    plt.xticks(tick_marks, classes, rotation=45)\n",
    "    plt.yticks(tick_marks, classes)\n",
    "\n",
    "    fmt = '.2f' if normalize else 'd'\n",
    "    thresh = cm.max() / 2.\n",
    "    for i, j in itertools.product(range(cm.shape[0]), range(cm.shape[1])):\n",
    "        plt.text(j, i, format(cm[i, j], fmt), horizontalalignment=\"center\", color=\"white\" if cm[i, j] > thresh else \"black\")\n",
    "\n",
    "    plt.tight_layout()\n",
    "    plt.ylabel('True label')\n",
    "    plt.xlabel('Predicted label')"
   ]
  },
  {
   "cell_type": "code",
   "execution_count": 0,
   "metadata": {
    "colab": {
     "base_uri": "https://localhost:8080/",
     "height": 363
    },
    "colab_type": "code",
    "id": "MAch7eJFAoym",
    "outputId": "f768374e-fd5b-45ea-bd49-53bb39e80ff9"
   },
   "outputs": [
    {
     "name": "stdout",
     "output_type": "stream",
     "text": [
      "Confusion matrix, without normalization\n",
      "[[9412  712]\n",
      " [3092 6784]]\n"
     ]
    },
    {
     "data": {
      "image/png": "[encoded data removed]",
      "text/plain": [
       "<Figure size 432x288 with 2 Axes>"
      ]
     },
     "metadata": {
      "needs_background": "light",
      "tags": []
     },
     "output_type": "display_data"
    }
   ],
   "source": [
    "plot_confusion_matrix(cm, (\"Webtext\", \"GPT-2\"))"
   ]
  },
  {
   "cell_type": "code",
   "execution_count": 0,
   "metadata": {
    "colab": {},
    "colab_type": "code",
    "id": "Q9O2hib2A1N0"
   },
   "outputs": [],
   "source": []
  }
 ],
 "metadata": {
  "accelerator": "GPU",
  "colab": {
   "collapsed_sections": [],
   "name": "Best_CNN_100k.ipynb",
   "provenance": [],
   "toc_visible": true
  },
  "kernelspec": {
   "display_name": "Python 3",
   "language": "python",
   "name": "python3"
  },
  "language_info": {
   "codemirror_mode": {
    "name": "ipython",
    "version": 3
   },
   "file_extension": ".py",
   "mimetype": "text/x-python",
   "name": "python",
   "nbconvert_exporter": "python",
   "pygments_lexer": "ipython3",
   "version": "3.7.6"
  }
 },
 "nbformat": 4,
 "nbformat_minor": 1
}
