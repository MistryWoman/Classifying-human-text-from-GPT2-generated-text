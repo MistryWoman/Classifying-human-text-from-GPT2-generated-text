{
 "cells": [
  {
   "cell_type": "code",
   "execution_count": 0,
   "metadata": {
    "colab": {},
    "colab_type": "code",
    "id": "2fGixuwMDwpk"
   },
   "outputs": [],
   "source": [
    "import os\n",
    "import json\n",
    "import pandas as pd\n",
    "import numpy as np\n",
    "from scipy import sparse\n",
    "from sklearn.model_selection import train_test_split\n",
    "from sklearn.model_selection import PredefinedSplit, GridSearchCV\n",
    "from sklearn.linear_model import LogisticRegression\n",
    "from sklearn.feature_extraction.text import TfidfVectorizer\n",
    "import sklearn\n",
    "import torch\n",
    "import torchtext\n",
    "from torchtext.data import Field, LabelField\n",
    "from torchtext.data import TabularDataset\n",
    "from torchtext.data import Iterator, BucketIterator\n",
    "import spacy\n",
    "import en_core_web_sm\n",
    "from torch.utils.data import TensorDataset, DataLoader, RandomSampler, SequentialSampler\n",
    "import torch.nn as nn\n",
    "import torch.nn.functional as F\n",
    "import torch.autograd as autograd\n",
    "from tqdm import tqdm, trange\n",
    "import numpy as np\n",
    "from sklearn.metrics import accuracy_score, f1_score, recall_score, precision_score, classification_report, confusion_matrix\n",
    "import time\n",
    "\n",
    "path = \"/content/drive/My Drive/Colab Notebooks/data/\"\n"
   ]
  },
  {
   "cell_type": "code",
   "execution_count": 3,
   "metadata": {
    "colab": {
     "base_uri": "https://localhost:8080/",
     "height": 124
    },
    "colab_type": "code",
    "id": "us_0vewlDzgd",
    "outputId": "7776d92f-2063-42b5-9f79-2ef7ca7b5cea"
   },
   "outputs": [
    {
     "name": "stdout",
     "output_type": "stream",
     "text": [
      "Go to this URL in a browser: https://accounts.google.com/o/oauth2/auth?client_id=947318989803-6bn6qk8qdgf4n4g3pfee6491hc0brc4i.apps.googleusercontent.com&redirect_uri=urn%3aietf%3awg%3aoauth%3a2.0%3aoob&response_type=code&scope=email%20https%3a%2f%2fwww.googleapis.com%2fauth%2fdocs.test%20https%3a%2f%2fwww.googleapis.com%2fauth%2fdrive%20https%3a%2f%2fwww.googleapis.com%2fauth%2fdrive.photos.readonly%20https%3a%2f%2fwww.googleapis.com%2fauth%2fpeopleapi.readonly\n",
      "\n",
      "Enter your authorization code:\n",
      "··········\n",
      "Mounted at /content/drive\n"
     ]
    }
   ],
   "source": [
    "from google.colab import drive\n",
    "drive.mount('/content/drive')"
   ]
  },
  {
   "cell_type": "code",
   "execution_count": 4,
   "metadata": {
    "colab": {
     "base_uri": "https://localhost:8080/",
     "height": 34
    },
    "colab_type": "code",
    "id": "uYh0BzRTDwpu",
    "outputId": "05c23383-d021-490c-8c8e-89e77be3e84d"
   },
   "outputs": [
    {
     "name": "stdout",
     "output_type": "stream",
     "text": [
      "cuda\n"
     ]
    }
   ],
   "source": [
    "manual_seed = 77\n",
    "torch.manual_seed(manual_seed)\n",
    "device = torch.device(\"cuda\" if torch.cuda.is_available() else \"cpu\")\n",
    "print(device)\n",
    "n_gpu = torch.cuda.device_count()\n",
    "if n_gpu > 0:\n",
    "    torch.cuda.manual_seed(manual_seed)"
   ]
  },
  {
   "cell_type": "markdown",
   "metadata": {
    "colab_type": "text",
    "id": "ZHMsTWXgDwp5"
   },
   "source": [
    "# Logistic Regression Baseline"
   ]
  },
  {
   "cell_type": "code",
   "execution_count": 0,
   "metadata": {
    "colab": {},
    "colab_type": "code",
    "id": "axp-pCd3Dwp6"
   },
   "outputs": [],
   "source": [
    "# reading in 100k data\n",
    "df = pd.read_csv(path+\"subset_100k.csv\", index_col=0, encoding=\"utf-8\").reset_index(drop=True)\n",
    "df_shuffled = df.sample(frac=1, random_state=123) #shuffle rows randomly\n",
    "df_shuffled = df_shuffled.drop(columns=\"index\") #drops index to only keep text and label\n",
    "train, validate, test = np.split(df.sample(frac=1, random_state=123).drop(columns=\"index\"), \n",
    "                                                                          [int(.6*len(df)), int(.8*len(df))])\n",
    "\n",
    "train_texts, train_labels = zip(*train.values) #resulting type is tuples\n",
    "valid_texts, valid_labels = zip(*validate.values)\n",
    "test_texts, test_labels = zip(*test.values)"
   ]
  },
  {
   "cell_type": "code",
   "execution_count": 0,
   "metadata": {
    "colab": {},
    "colab_type": "code",
    "id": "PROuds5qDwqB"
   },
   "outputs": [],
   "source": [
    "#create train, val, test subsets from 100k subset\n",
    "train.to_csv(path+\"subset_100k_train.csv\", index=False)\n",
    "validate.to_csv(path+\"subset_100k_valid.csv\", index=False)\n",
    "test.to_csv(path+\"subset_100k_test.csv\", index=False)"
   ]
  },
  {
   "cell_type": "code",
   "execution_count": 0,
   "metadata": {
    "colab": {},
    "colab_type": "code",
    "id": "mzhGsXTADwqH"
   },
   "outputs": [],
   "source": [
    "# reading in 1k data\n",
    "df = pd.read_csv(path+\"subset_1k.csv\", index_col=0, encoding=\"utf-8\").reset_index(drop=True)\n",
    "\n",
    "df_shuffled = df.sample(frac=1, random_state=123) #shuffle rows randomly\n",
    "df_shuffled = df_shuffled.drop(columns=\"index\") #drops index to only keep text and label\n",
    "train, validate, test = np.split(df.sample(frac=1, random_state=123).drop(columns=\"index\"), \n",
    "                                                                          [int(.6*len(df)), int(.8*len(df))])\n",
    "\n",
    "train_texts, train_labels = zip(*train.values) #resulting type is tuples\n",
    "valid_texts, valid_labels = zip(*validate.values)\n",
    "test_texts, test_labels = zip(*test.values)"
   ]
  },
  {
   "cell_type": "code",
   "execution_count": 0,
   "metadata": {
    "colab": {},
    "colab_type": "code",
    "id": "w2hUiO36DwqO"
   },
   "outputs": [],
   "source": [
    "#create train, val, test subsets from 1k subset\n",
    "train.to_csv(path+\"subset_1k_train.csv\", index=False)\n",
    "validate.to_csv(path+\"subset_1k_valid.csv\", index=False)\n",
    "test.to_csv(path+\"subset_1k_test.csv\", index=False)"
   ]
  },
  {
   "cell_type": "code",
   "execution_count": 7,
   "metadata": {
    "colab": {
     "base_uri": "https://localhost:8080/",
     "height": 121
    },
    "colab_type": "code",
    "id": "WwCrAhh-DwqT",
    "outputId": "6bb3ca42-4513-443f-9cf7-69c6deb3d898",
    "scrolled": true
   },
   "outputs": [
    {
     "name": "stdout",
     "output_type": "stream",
     "text": [
      "60000\n",
      "20000\n",
      "20000\n",
      "60000\n",
      "20000\n",
      "20000\n"
     ]
    }
   ],
   "source": [
    "print(len(train))\n",
    "print(len(validate))\n",
    "print(len(test))\n",
    "\n",
    "print(len(train_texts))\n",
    "print(len(valid_texts))\n",
    "print(len(test_texts))"
   ]
  },
  {
   "cell_type": "code",
   "execution_count": 0,
   "metadata": {
    "colab": {},
    "colab_type": "code",
    "id": "-HXiqTnUDwqY",
    "outputId": "d13169f5-60a3-4eb5-ddd7-b97a6c31a901"
   },
   "outputs": [
    {
     "name": "stdout",
     "output_type": "stream",
     "text": [
      "{'C': 10}\n",
      "{'valid_accuracy': 65.5, 'test_accuracy': 63.0}\n"
     ]
    }
   ],
   "source": [
    "#1k subset\n",
    "\n",
    "n_jobs=None\n",
    "verbose=False\n",
    "\n",
    "vect = TfidfVectorizer(ngram_range=(1, 2), min_df=5, max_features=2**21)\n",
    "train_features = vect.fit_transform(train_texts)\n",
    "valid_features = vect.transform(valid_texts)\n",
    "test_features = vect.transform(test_texts)\n",
    "\n",
    "model = LogisticRegression(solver='liblinear')\n",
    "params = {'C': [0.0001, 0.001, 0.01, 0.1, 1.0, 10, 100]} #changed from original code\n",
    "search = GridSearchCV(model, params, cv=5, n_jobs=n_jobs, verbose=verbose)\n",
    "search.fit(sparse.vstack([train_features, valid_features]), train_labels+valid_labels)\n",
    "print(search.best_params_)\n",
    "model = model.set_params(**search.best_params_)\n",
    "model.fit(train_features, train_labels)\n",
    "valid_accuracy = model.score(valid_features, valid_labels)*100.\n",
    "test_accuracy = model.score(test_features, test_labels)*100.\n",
    "data = {\n",
    "    'valid_accuracy':valid_accuracy,\n",
    "    'test_accuracy':test_accuracy\n",
    "}\n",
    "print(data)"
   ]
  },
  {
   "cell_type": "code",
   "execution_count": 0,
   "metadata": {
    "colab": {},
    "colab_type": "code",
    "id": "0zk-BaHdDwqd",
    "outputId": "27a4fa0c-7b7b-4f7e-94bb-33124e9d4905"
   },
   "outputs": [
    {
     "name": "stdout",
     "output_type": "stream",
     "text": [
      "{'C': 100}\n",
      "{'valid_accuracy': 88.23, 'test_accuracy': 88.205}\n"
     ]
    }
   ],
   "source": [
    "#100k subset\n",
    "\n",
    "n_jobs=None\n",
    "verbose=False\n",
    "\n",
    "vect = TfidfVectorizer(ngram_range=(1, 2), min_df=5, max_features=2**21)\n",
    "train_features = vect.fit_transform(train_texts)\n",
    "valid_features = vect.transform(valid_texts)\n",
    "test_features = vect.transform(test_texts)\n",
    "\n",
    "model = LogisticRegression(solver='liblinear')\n",
    "params = {'C': [0.0001, 0.001, 0.01, 0.1, 1.0, 10, 100]} #changed from original code\n",
    "search = GridSearchCV(model, params, cv=5, n_jobs=n_jobs, verbose=verbose)\n",
    "search.fit(sparse.vstack([train_features, valid_features]), train_labels+valid_labels)\n",
    "print(search.best_params_)\n",
    "model = model.set_params(**search.best_params_)\n",
    "model.fit(train_features, train_labels)\n",
    "valid_accuracy = model.score(valid_features, valid_labels)*100.\n",
    "test_accuracy = model.score(test_features, test_labels)*100.\n",
    "data = {\n",
    "    'valid_accuracy':valid_accuracy,\n",
    "    'test_accuracy':test_accuracy\n",
    "}\n",
    "print(data)"
   ]
  },
  {
   "cell_type": "code",
   "execution_count": 0,
   "metadata": {
    "colab": {},
    "colab_type": "code",
    "id": "OoJQqN2CDwrt"
   },
   "outputs": [],
   "source": []
  }
 ],
 "metadata": {
  "accelerator": "GPU",
  "colab": {
   "collapsed_sections": [],
   "name": "baseline_models.ipynb",
   "provenance": []
  },
  "kernelspec": {
   "display_name": "Python 3",
   "language": "python",
   "name": "python3"
  },
  "language_info": {
   "codemirror_mode": {
    "name": "ipython",
    "version": 3
   },
   "file_extension": ".py",
   "mimetype": "text/x-python",
   "name": "python",
   "nbconvert_exporter": "python",
   "pygments_lexer": "ipython3",
   "version": "3.7.6"
  }
 },
 "nbformat": 4,
 "nbformat_minor": 1
}
